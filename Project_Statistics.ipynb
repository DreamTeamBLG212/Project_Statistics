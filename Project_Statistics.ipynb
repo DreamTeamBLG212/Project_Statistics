{
 "cells": [
  {
   "cell_type": "code",
   "execution_count": 1,
   "metadata": {},
   "outputs": [
    {
     "name": "stderr",
     "output_type": "stream",
     "text": [
      "/opt/tljh/user/lib/python3.7/site-packages/outdated/utils.py:18: OutdatedCacheFailedWarning: Failed to use cache while checking for outdated package.\n",
      "Set the environment variable OUTDATED_RAISE_EXCEPTION=1 for a full traceback.\n",
      "Set the environment variable OUTDATED_IGNORE=1 to disable these warnings.\n",
      "  **kwargs\n",
      "/opt/tljh/user/lib/python3.7/site-packages/outdated/utils.py:18: OutdatedPackageWarning: The package pingouin is out of date. Your version is 0.4.0, the latest is 0.5.3.\n",
      "Set the environment variable OUTDATED_IGNORE=1 to disable these warnings.\n",
      "  **kwargs\n",
      "/opt/tljh/user/lib/python3.7/site-packages/outdated/utils.py:18: OutdatedCacheFailedWarning: Failed to use cache while checking for outdated package.\n",
      "Set the environment variable OUTDATED_RAISE_EXCEPTION=1 for a full traceback.\n",
      "Set the environment variable OUTDATED_IGNORE=1 to disable these warnings.\n",
      "  **kwargs\n",
      "/opt/tljh/user/lib/python3.7/site-packages/outdated/utils.py:18: OutdatedPackageWarning: The package outdated is out of date. Your version is 0.2.1, the latest is 0.2.2.\n",
      "Set the environment variable OUTDATED_IGNORE=1 to disable these warnings.\n",
      "  **kwargs\n"
     ]
    }
   ],
   "source": [
    "import pandas as pd\n",
    "import seaborn as sns\n",
    "import plotly.express as px\n",
    "import numpy as np\n",
    "from scipy import stats\n",
    "import pingouin as pg\n",
    "import statsmodels.api as sm\n",
    "import scipy.stats as st\n",
    "import statsmodels.formula.api as smf \n",
    "import statsmodels.stats.api as sms\n",
    "from scipy.stats import chi2_contingency\n",
    "from sklearn.linear_model import LinearRegression\n",
    "OUTDATED_RAISE_EXCEPTION=1\n",
    "OUTDATED_IGNORE=1"
   ]
  },
  {
   "cell_type": "code",
   "execution_count": 2,
   "metadata": {},
   "outputs": [
    {
     "data": {
      "text/html": [
       "<div>\n",
       "<style scoped>\n",
       "    .dataframe tbody tr th:only-of-type {\n",
       "        vertical-align: middle;\n",
       "    }\n",
       "\n",
       "    .dataframe tbody tr th {\n",
       "        vertical-align: top;\n",
       "    }\n",
       "\n",
       "    .dataframe thead th {\n",
       "        text-align: right;\n",
       "    }\n",
       "</style>\n",
       "<table border=\"1\" class=\"dataframe\">\n",
       "  <thead>\n",
       "    <tr style=\"text-align: right;\">\n",
       "      <th></th>\n",
       "      <th>Total Household Income</th>\n",
       "      <th>Region</th>\n",
       "      <th>Total Food Expenditure</th>\n",
       "      <th>Main Source of Income</th>\n",
       "      <th>Agricultural Household indicator</th>\n",
       "      <th>Bread and Cereals Expenditure</th>\n",
       "      <th>Total Rice Expenditure</th>\n",
       "      <th>Meat Expenditure</th>\n",
       "      <th>Total Fish and  marine products Expenditure</th>\n",
       "      <th>Fruit Expenditure</th>\n",
       "      <th>...</th>\n",
       "      <th>Number of Refrigerator/Freezer</th>\n",
       "      <th>Number of Washing Machine</th>\n",
       "      <th>Number of Airconditioner</th>\n",
       "      <th>Number of Car, Jeep, Van</th>\n",
       "      <th>Number of Landline/wireless telephones</th>\n",
       "      <th>Number of Cellular phone</th>\n",
       "      <th>Number of Personal Computer</th>\n",
       "      <th>Number of Stove with Oven/Gas Range</th>\n",
       "      <th>Number of Motorized Banca</th>\n",
       "      <th>Number of Motorcycle/Tricycle</th>\n",
       "    </tr>\n",
       "  </thead>\n",
       "  <tbody>\n",
       "    <tr>\n",
       "      <th>0</th>\n",
       "      <td>480332</td>\n",
       "      <td>CAR</td>\n",
       "      <td>117848</td>\n",
       "      <td>Wage/Salaries</td>\n",
       "      <td>0</td>\n",
       "      <td>42140</td>\n",
       "      <td>38300</td>\n",
       "      <td>24676</td>\n",
       "      <td>16806</td>\n",
       "      <td>3325</td>\n",
       "      <td>...</td>\n",
       "      <td>1</td>\n",
       "      <td>1</td>\n",
       "      <td>0</td>\n",
       "      <td>0</td>\n",
       "      <td>0</td>\n",
       "      <td>2</td>\n",
       "      <td>1</td>\n",
       "      <td>0</td>\n",
       "      <td>0</td>\n",
       "      <td>1</td>\n",
       "    </tr>\n",
       "    <tr>\n",
       "      <th>1</th>\n",
       "      <td>198235</td>\n",
       "      <td>CAR</td>\n",
       "      <td>67766</td>\n",
       "      <td>Wage/Salaries</td>\n",
       "      <td>0</td>\n",
       "      <td>17329</td>\n",
       "      <td>13008</td>\n",
       "      <td>17434</td>\n",
       "      <td>11073</td>\n",
       "      <td>2035</td>\n",
       "      <td>...</td>\n",
       "      <td>0</td>\n",
       "      <td>1</td>\n",
       "      <td>0</td>\n",
       "      <td>0</td>\n",
       "      <td>0</td>\n",
       "      <td>3</td>\n",
       "      <td>1</td>\n",
       "      <td>0</td>\n",
       "      <td>0</td>\n",
       "      <td>2</td>\n",
       "    </tr>\n",
       "    <tr>\n",
       "      <th>2</th>\n",
       "      <td>82785</td>\n",
       "      <td>CAR</td>\n",
       "      <td>61609</td>\n",
       "      <td>Wage/Salaries</td>\n",
       "      <td>1</td>\n",
       "      <td>34182</td>\n",
       "      <td>32001</td>\n",
       "      <td>7783</td>\n",
       "      <td>2590</td>\n",
       "      <td>1730</td>\n",
       "      <td>...</td>\n",
       "      <td>0</td>\n",
       "      <td>0</td>\n",
       "      <td>0</td>\n",
       "      <td>0</td>\n",
       "      <td>0</td>\n",
       "      <td>0</td>\n",
       "      <td>0</td>\n",
       "      <td>0</td>\n",
       "      <td>0</td>\n",
       "      <td>0</td>\n",
       "    </tr>\n",
       "    <tr>\n",
       "      <th>3</th>\n",
       "      <td>107589</td>\n",
       "      <td>CAR</td>\n",
       "      <td>78189</td>\n",
       "      <td>Wage/Salaries</td>\n",
       "      <td>0</td>\n",
       "      <td>34030</td>\n",
       "      <td>28659</td>\n",
       "      <td>10914</td>\n",
       "      <td>10812</td>\n",
       "      <td>690</td>\n",
       "      <td>...</td>\n",
       "      <td>0</td>\n",
       "      <td>0</td>\n",
       "      <td>0</td>\n",
       "      <td>0</td>\n",
       "      <td>0</td>\n",
       "      <td>1</td>\n",
       "      <td>0</td>\n",
       "      <td>0</td>\n",
       "      <td>0</td>\n",
       "      <td>0</td>\n",
       "    </tr>\n",
       "    <tr>\n",
       "      <th>4</th>\n",
       "      <td>189322</td>\n",
       "      <td>CAR</td>\n",
       "      <td>94625</td>\n",
       "      <td>Wage/Salaries</td>\n",
       "      <td>0</td>\n",
       "      <td>34820</td>\n",
       "      <td>30167</td>\n",
       "      <td>18391</td>\n",
       "      <td>11309</td>\n",
       "      <td>1395</td>\n",
       "      <td>...</td>\n",
       "      <td>1</td>\n",
       "      <td>0</td>\n",
       "      <td>0</td>\n",
       "      <td>0</td>\n",
       "      <td>0</td>\n",
       "      <td>3</td>\n",
       "      <td>0</td>\n",
       "      <td>0</td>\n",
       "      <td>0</td>\n",
       "      <td>1</td>\n",
       "    </tr>\n",
       "  </tbody>\n",
       "</table>\n",
       "<p>5 rows × 60 columns</p>\n",
       "</div>"
      ],
      "text/plain": [
       "   Total Household Income Region  Total Food Expenditure  \\\n",
       "0                  480332    CAR                  117848   \n",
       "1                  198235    CAR                   67766   \n",
       "2                   82785    CAR                   61609   \n",
       "3                  107589    CAR                   78189   \n",
       "4                  189322    CAR                   94625   \n",
       "\n",
       "  Main Source of Income  Agricultural Household indicator  \\\n",
       "0         Wage/Salaries                                 0   \n",
       "1         Wage/Salaries                                 0   \n",
       "2         Wage/Salaries                                 1   \n",
       "3         Wage/Salaries                                 0   \n",
       "4         Wage/Salaries                                 0   \n",
       "\n",
       "   Bread and Cereals Expenditure  Total Rice Expenditure  Meat Expenditure  \\\n",
       "0                          42140                   38300             24676   \n",
       "1                          17329                   13008             17434   \n",
       "2                          34182                   32001              7783   \n",
       "3                          34030                   28659             10914   \n",
       "4                          34820                   30167             18391   \n",
       "\n",
       "   Total Fish and  marine products Expenditure  Fruit Expenditure  ...  \\\n",
       "0                                        16806               3325  ...   \n",
       "1                                        11073               2035  ...   \n",
       "2                                         2590               1730  ...   \n",
       "3                                        10812                690  ...   \n",
       "4                                        11309               1395  ...   \n",
       "\n",
       "   Number of Refrigerator/Freezer  Number of Washing Machine  \\\n",
       "0                               1                          1   \n",
       "1                               0                          1   \n",
       "2                               0                          0   \n",
       "3                               0                          0   \n",
       "4                               1                          0   \n",
       "\n",
       "   Number of Airconditioner  Number of Car, Jeep, Van  \\\n",
       "0                         0                         0   \n",
       "1                         0                         0   \n",
       "2                         0                         0   \n",
       "3                         0                         0   \n",
       "4                         0                         0   \n",
       "\n",
       "   Number of Landline/wireless telephones  Number of Cellular phone  \\\n",
       "0                                       0                         2   \n",
       "1                                       0                         3   \n",
       "2                                       0                         0   \n",
       "3                                       0                         1   \n",
       "4                                       0                         3   \n",
       "\n",
       "   Number of Personal Computer  Number of Stove with Oven/Gas Range  \\\n",
       "0                            1                                    0   \n",
       "1                            1                                    0   \n",
       "2                            0                                    0   \n",
       "3                            0                                    0   \n",
       "4                            0                                    0   \n",
       "\n",
       "   Number of Motorized Banca  Number of Motorcycle/Tricycle  \n",
       "0                          0                              1  \n",
       "1                          0                              2  \n",
       "2                          0                              0  \n",
       "3                          0                              0  \n",
       "4                          0                              1  \n",
       "\n",
       "[5 rows x 60 columns]"
      ]
     },
     "execution_count": 2,
     "metadata": {},
     "output_type": "execute_result"
    }
   ],
   "source": [
    "df = pd.read_csv('/mnt/HC_Volume_18315164/home-jupyter/jupyter-d-androsova/Family Income and Expenditure.csv')\n",
    "df.head()"
   ]
  },
  {
   "cell_type": "markdown",
   "metadata": {},
   "source": [
    "### Для дальнейшего анализа сократим количество колонок и оставим те, что представляют интерес для исследования"
   ]
  },
  {
   "cell_type": "code",
   "execution_count": 3,
   "metadata": {},
   "outputs": [
    {
     "data": {
      "text/html": [
       "<div>\n",
       "<style scoped>\n",
       "    .dataframe tbody tr th:only-of-type {\n",
       "        vertical-align: middle;\n",
       "    }\n",
       "\n",
       "    .dataframe tbody tr th {\n",
       "        vertical-align: top;\n",
       "    }\n",
       "\n",
       "    .dataframe thead th {\n",
       "        text-align: right;\n",
       "    }\n",
       "</style>\n",
       "<table border=\"1\" class=\"dataframe\">\n",
       "  <thead>\n",
       "    <tr style=\"text-align: right;\">\n",
       "      <th></th>\n",
       "      <th>Total Household Income</th>\n",
       "      <th>Region</th>\n",
       "      <th>Total Food Expenditure</th>\n",
       "      <th>Main Source of Income</th>\n",
       "      <th>Restaurant and hotels Expenditure</th>\n",
       "      <th>Clothing, Footwear and Other Wear Expenditure</th>\n",
       "      <th>Imputed House Rental Value</th>\n",
       "      <th>Medical Care Expenditure</th>\n",
       "      <th>Education Expenditure</th>\n",
       "      <th>Household Head Sex</th>\n",
       "      <th>Household Head Age</th>\n",
       "      <th>Household Head Marital Status</th>\n",
       "      <th>Household Head Highest Grade Completed</th>\n",
       "      <th>Household Head Occupation</th>\n",
       "      <th>Household Head Class of Worker</th>\n",
       "      <th>Type of Household</th>\n",
       "      <th>Total Number of Family members</th>\n",
       "      <th>Total number of family members employed</th>\n",
       "      <th>Number of Car, Jeep, Van</th>\n",
       "    </tr>\n",
       "  </thead>\n",
       "  <tbody>\n",
       "    <tr>\n",
       "      <th>0</th>\n",
       "      <td>480332</td>\n",
       "      <td>CAR</td>\n",
       "      <td>117848</td>\n",
       "      <td>Wage/Salaries</td>\n",
       "      <td>3000</td>\n",
       "      <td>4607</td>\n",
       "      <td>30000</td>\n",
       "      <td>3457</td>\n",
       "      <td>36200</td>\n",
       "      <td>Female</td>\n",
       "      <td>49</td>\n",
       "      <td>Single</td>\n",
       "      <td>Teacher Training and Education Sciences Programs</td>\n",
       "      <td>General elementary education teaching professi...</td>\n",
       "      <td>Worked for government/government corporation</td>\n",
       "      <td>Extended Family</td>\n",
       "      <td>4</td>\n",
       "      <td>1</td>\n",
       "      <td>0</td>\n",
       "    </tr>\n",
       "    <tr>\n",
       "      <th>1</th>\n",
       "      <td>198235</td>\n",
       "      <td>CAR</td>\n",
       "      <td>67766</td>\n",
       "      <td>Wage/Salaries</td>\n",
       "      <td>2360</td>\n",
       "      <td>8230</td>\n",
       "      <td>27000</td>\n",
       "      <td>3520</td>\n",
       "      <td>29300</td>\n",
       "      <td>Male</td>\n",
       "      <td>40</td>\n",
       "      <td>Married</td>\n",
       "      <td>Transport Services Programs</td>\n",
       "      <td>Transport conductors</td>\n",
       "      <td>Worked for private establishment</td>\n",
       "      <td>Single Family</td>\n",
       "      <td>3</td>\n",
       "      <td>2</td>\n",
       "      <td>0</td>\n",
       "    </tr>\n",
       "    <tr>\n",
       "      <th>2</th>\n",
       "      <td>82785</td>\n",
       "      <td>CAR</td>\n",
       "      <td>61609</td>\n",
       "      <td>Wage/Salaries</td>\n",
       "      <td>4545</td>\n",
       "      <td>2735</td>\n",
       "      <td>7200</td>\n",
       "      <td>70</td>\n",
       "      <td>425</td>\n",
       "      <td>Male</td>\n",
       "      <td>39</td>\n",
       "      <td>Married</td>\n",
       "      <td>Grade 3</td>\n",
       "      <td>Farmhands and laborers</td>\n",
       "      <td>Worked for private establishment</td>\n",
       "      <td>Single Family</td>\n",
       "      <td>6</td>\n",
       "      <td>3</td>\n",
       "      <td>0</td>\n",
       "    </tr>\n",
       "    <tr>\n",
       "      <th>3</th>\n",
       "      <td>107589</td>\n",
       "      <td>CAR</td>\n",
       "      <td>78189</td>\n",
       "      <td>Wage/Salaries</td>\n",
       "      <td>6280</td>\n",
       "      <td>1390</td>\n",
       "      <td>6600</td>\n",
       "      <td>60</td>\n",
       "      <td>300</td>\n",
       "      <td>Male</td>\n",
       "      <td>52</td>\n",
       "      <td>Married</td>\n",
       "      <td>Elementary Graduate</td>\n",
       "      <td>Rice farmers</td>\n",
       "      <td>Employer in own family-operated farm or business</td>\n",
       "      <td>Single Family</td>\n",
       "      <td>3</td>\n",
       "      <td>2</td>\n",
       "      <td>0</td>\n",
       "    </tr>\n",
       "    <tr>\n",
       "      <th>4</th>\n",
       "      <td>189322</td>\n",
       "      <td>CAR</td>\n",
       "      <td>94625</td>\n",
       "      <td>Wage/Salaries</td>\n",
       "      <td>6400</td>\n",
       "      <td>4620</td>\n",
       "      <td>16800</td>\n",
       "      <td>140</td>\n",
       "      <td>0</td>\n",
       "      <td>Male</td>\n",
       "      <td>65</td>\n",
       "      <td>Married</td>\n",
       "      <td>Elementary Graduate</td>\n",
       "      <td>General managers/managing proprietors in trans...</td>\n",
       "      <td>Self-employed wihout any employee</td>\n",
       "      <td>Single Family</td>\n",
       "      <td>4</td>\n",
       "      <td>2</td>\n",
       "      <td>0</td>\n",
       "    </tr>\n",
       "  </tbody>\n",
       "</table>\n",
       "</div>"
      ],
      "text/plain": [
       "   Total Household Income Region  Total Food Expenditure  \\\n",
       "0                  480332    CAR                  117848   \n",
       "1                  198235    CAR                   67766   \n",
       "2                   82785    CAR                   61609   \n",
       "3                  107589    CAR                   78189   \n",
       "4                  189322    CAR                   94625   \n",
       "\n",
       "  Main Source of Income  Restaurant and hotels Expenditure  \\\n",
       "0         Wage/Salaries                               3000   \n",
       "1         Wage/Salaries                               2360   \n",
       "2         Wage/Salaries                               4545   \n",
       "3         Wage/Salaries                               6280   \n",
       "4         Wage/Salaries                               6400   \n",
       "\n",
       "   Clothing, Footwear and Other Wear Expenditure  Imputed House Rental Value  \\\n",
       "0                                           4607                       30000   \n",
       "1                                           8230                       27000   \n",
       "2                                           2735                        7200   \n",
       "3                                           1390                        6600   \n",
       "4                                           4620                       16800   \n",
       "\n",
       "   Medical Care Expenditure  Education Expenditure Household Head Sex  \\\n",
       "0                      3457                  36200             Female   \n",
       "1                      3520                  29300               Male   \n",
       "2                        70                    425               Male   \n",
       "3                        60                    300               Male   \n",
       "4                       140                      0               Male   \n",
       "\n",
       "   Household Head Age Household Head Marital Status  \\\n",
       "0                  49                        Single   \n",
       "1                  40                       Married   \n",
       "2                  39                       Married   \n",
       "3                  52                       Married   \n",
       "4                  65                       Married   \n",
       "\n",
       "             Household Head Highest Grade Completed  \\\n",
       "0  Teacher Training and Education Sciences Programs   \n",
       "1                       Transport Services Programs   \n",
       "2                                           Grade 3   \n",
       "3                               Elementary Graduate   \n",
       "4                               Elementary Graduate   \n",
       "\n",
       "                           Household Head Occupation  \\\n",
       "0  General elementary education teaching professi...   \n",
       "1                               Transport conductors   \n",
       "2                             Farmhands and laborers   \n",
       "3                                       Rice farmers   \n",
       "4  General managers/managing proprietors in trans...   \n",
       "\n",
       "                     Household Head Class of Worker Type of Household  \\\n",
       "0      Worked for government/government corporation   Extended Family   \n",
       "1                  Worked for private establishment     Single Family   \n",
       "2                  Worked for private establishment     Single Family   \n",
       "3  Employer in own family-operated farm or business     Single Family   \n",
       "4                 Self-employed wihout any employee     Single Family   \n",
       "\n",
       "   Total Number of Family members  Total number of family members employed  \\\n",
       "0                               4                                        1   \n",
       "1                               3                                        2   \n",
       "2                               6                                        3   \n",
       "3                               3                                        2   \n",
       "4                               4                                        2   \n",
       "\n",
       "   Number of Car, Jeep, Van  \n",
       "0                         0  \n",
       "1                         0  \n",
       "2                         0  \n",
       "3                         0  \n",
       "4                         0  "
      ]
     },
     "execution_count": 3,
     "metadata": {},
     "output_type": "execute_result"
    }
   ],
   "source": [
    "df = df[['Total Household Income', 'Region', 'Total Food Expenditure', 'Main Source of Income', 'Restaurant and hotels Expenditure', 'Clothing, Footwear and Other Wear Expenditure', 'Imputed House Rental Value', 'Medical Care Expenditure', 'Education Expenditure', 'Household Head Sex', 'Household Head Age', 'Household Head Marital Status', 'Household Head Highest Grade Completed', 'Household Head Occupation', 'Household Head Class of Worker', 'Type of Household', 'Total Number of Family members', 'Total number of family members employed', 'Number of Car, Jeep, Van']]\n",
    "df.head()"
   ]
  },
  {
   "cell_type": "markdown",
   "metadata": {},
   "source": [
    "### Описание данных\n",
    "\n",
    "Данные представляют собой выборку из общего числа филиппинских домохозяйств. В датасете 41544 строки: это достаточно большая выборка, значит выводы о генеральной совокупности будут более надежными.\n",
    "\n",
    "Единица наблюдения - отдельное филиппинское домохозяйство\n",
    "\n",
    "Качественные номинальные переменные: Region; Main Source of Income; Household Head Sex; Household Head Marital Status; Household Head Highest Grade Completed; Household Head Occupation; Household Head Class of Worker\n",
    "\n",
    "Качественные ординальные переменные: Type of Household\n",
    "\n",
    "Количественные дискретные переменные: Household Head Age; Total Number of Family members; Total number of family members employed; Number of Car, Jeep, Van\n",
    "\n",
    "Количественные непрерывные переменные: Total Household Income; Total Food Expenditure; Restaurant and hotels Expenditure; Clothing, Footwear and Other Wear Expenditure; Imputed House Rental Value; Medical Care Expenditure; Education Expenditure"
   ]
  },
  {
   "cell_type": "markdown",
   "metadata": {},
   "source": [
    "### Посчитаем описательную статистику и построим графики"
   ]
  },
  {
   "cell_type": "markdown",
   "metadata": {},
   "source": [
    "#### Для начала посмотрим на распределение доходов домохозяйств"
   ]
  },
  {
   "cell_type": "code",
   "execution_count": 4,
   "metadata": {},
   "outputs": [
    {
     "data": {
      "text/plain": [
       "<matplotlib.axes._subplots.AxesSubplot at 0x7f4ba833eb70>"
      ]
     },
     "execution_count": 4,
     "metadata": {},
     "output_type": "execute_result"
    },
    {
     "data": {
      "image/png": "[encoded data removed]",
      "text/plain": [
       "<Figure size 432x288 with 1 Axes>"
      ]
     },
     "metadata": {
      "needs_background": "light"
     },
     "output_type": "display_data"
    }
   ],
   "source": [
    "sns.boxplot(data = df, y = 'Total Household Income', color = 'cyan')"
   ]
  },
  {
   "cell_type": "markdown",
   "metadata": {},
   "source": [
    "#### Данные обладают большим количеством выбросов. Для дальнейшего анализа удалим экстремальные значения"
   ]
  },
  {
   "cell_type": "code",
   "execution_count": 5,
   "metadata": {},
   "outputs": [
    {
     "name": "stdout",
     "output_type": "stream",
     "text": [
      "104895.0\n",
      "291138.5\n"
     ]
    }
   ],
   "source": [
    "print(df['Total Household Income'].quantile(0.25))\n",
    "print(df['Total Household Income'].quantile(0.75))"
   ]
  },
  {
   "cell_type": "code",
   "execution_count": 6,
   "metadata": {},
   "outputs": [
    {
     "data": {
      "text/html": [
       "<div>\n",
       "<style scoped>\n",
       "    .dataframe tbody tr th:only-of-type {\n",
       "        vertical-align: middle;\n",
       "    }\n",
       "\n",
       "    .dataframe tbody tr th {\n",
       "        vertical-align: top;\n",
       "    }\n",
       "\n",
       "    .dataframe thead th {\n",
       "        text-align: right;\n",
       "    }\n",
       "</style>\n",
       "<table border=\"1\" class=\"dataframe\">\n",
       "  <thead>\n",
       "    <tr style=\"text-align: right;\">\n",
       "      <th></th>\n",
       "      <th>Total Household Income</th>\n",
       "      <th>Region</th>\n",
       "      <th>Total Food Expenditure</th>\n",
       "      <th>Main Source of Income</th>\n",
       "      <th>Restaurant and hotels Expenditure</th>\n",
       "      <th>Clothing, Footwear and Other Wear Expenditure</th>\n",
       "      <th>Imputed House Rental Value</th>\n",
       "      <th>Medical Care Expenditure</th>\n",
       "      <th>Education Expenditure</th>\n",
       "      <th>Household Head Sex</th>\n",
       "      <th>Household Head Age</th>\n",
       "      <th>Household Head Marital Status</th>\n",
       "      <th>Household Head Highest Grade Completed</th>\n",
       "      <th>Household Head Occupation</th>\n",
       "      <th>Household Head Class of Worker</th>\n",
       "      <th>Type of Household</th>\n",
       "      <th>Total Number of Family members</th>\n",
       "      <th>Total number of family members employed</th>\n",
       "      <th>Number of Car, Jeep, Van</th>\n",
       "    </tr>\n",
       "  </thead>\n",
       "  <tbody>\n",
       "    <tr>\n",
       "      <th>0</th>\n",
       "      <td>480332</td>\n",
       "      <td>CAR</td>\n",
       "      <td>117848</td>\n",
       "      <td>Wage/Salaries</td>\n",
       "      <td>3000</td>\n",
       "      <td>4607</td>\n",
       "      <td>30000</td>\n",
       "      <td>3457</td>\n",
       "      <td>36200</td>\n",
       "      <td>Female</td>\n",
       "      <td>49</td>\n",
       "      <td>Single</td>\n",
       "      <td>Teacher Training and Education Sciences Programs</td>\n",
       "      <td>General elementary education teaching professi...</td>\n",
       "      <td>Worked for government/government corporation</td>\n",
       "      <td>Extended Family</td>\n",
       "      <td>4</td>\n",
       "      <td>1</td>\n",
       "      <td>0</td>\n",
       "    </tr>\n",
       "    <tr>\n",
       "      <th>1</th>\n",
       "      <td>198235</td>\n",
       "      <td>CAR</td>\n",
       "      <td>67766</td>\n",
       "      <td>Wage/Salaries</td>\n",
       "      <td>2360</td>\n",
       "      <td>8230</td>\n",
       "      <td>27000</td>\n",
       "      <td>3520</td>\n",
       "      <td>29300</td>\n",
       "      <td>Male</td>\n",
       "      <td>40</td>\n",
       "      <td>Married</td>\n",
       "      <td>Transport Services Programs</td>\n",
       "      <td>Transport conductors</td>\n",
       "      <td>Worked for private establishment</td>\n",
       "      <td>Single Family</td>\n",
       "      <td>3</td>\n",
       "      <td>2</td>\n",
       "      <td>0</td>\n",
       "    </tr>\n",
       "    <tr>\n",
       "      <th>2</th>\n",
       "      <td>82785</td>\n",
       "      <td>CAR</td>\n",
       "      <td>61609</td>\n",
       "      <td>Wage/Salaries</td>\n",
       "      <td>4545</td>\n",
       "      <td>2735</td>\n",
       "      <td>7200</td>\n",
       "      <td>70</td>\n",
       "      <td>425</td>\n",
       "      <td>Male</td>\n",
       "      <td>39</td>\n",
       "      <td>Married</td>\n",
       "      <td>Grade 3</td>\n",
       "      <td>Farmhands and laborers</td>\n",
       "      <td>Worked for private establishment</td>\n",
       "      <td>Single Family</td>\n",
       "      <td>6</td>\n",
       "      <td>3</td>\n",
       "      <td>0</td>\n",
       "    </tr>\n",
       "    <tr>\n",
       "      <th>3</th>\n",
       "      <td>107589</td>\n",
       "      <td>CAR</td>\n",
       "      <td>78189</td>\n",
       "      <td>Wage/Salaries</td>\n",
       "      <td>6280</td>\n",
       "      <td>1390</td>\n",
       "      <td>6600</td>\n",
       "      <td>60</td>\n",
       "      <td>300</td>\n",
       "      <td>Male</td>\n",
       "      <td>52</td>\n",
       "      <td>Married</td>\n",
       "      <td>Elementary Graduate</td>\n",
       "      <td>Rice farmers</td>\n",
       "      <td>Employer in own family-operated farm or business</td>\n",
       "      <td>Single Family</td>\n",
       "      <td>3</td>\n",
       "      <td>2</td>\n",
       "      <td>0</td>\n",
       "    </tr>\n",
       "    <tr>\n",
       "      <th>4</th>\n",
       "      <td>189322</td>\n",
       "      <td>CAR</td>\n",
       "      <td>94625</td>\n",
       "      <td>Wage/Salaries</td>\n",
       "      <td>6400</td>\n",
       "      <td>4620</td>\n",
       "      <td>16800</td>\n",
       "      <td>140</td>\n",
       "      <td>0</td>\n",
       "      <td>Male</td>\n",
       "      <td>65</td>\n",
       "      <td>Married</td>\n",
       "      <td>Elementary Graduate</td>\n",
       "      <td>General managers/managing proprietors in trans...</td>\n",
       "      <td>Self-employed wihout any employee</td>\n",
       "      <td>Single Family</td>\n",
       "      <td>4</td>\n",
       "      <td>2</td>\n",
       "      <td>0</td>\n",
       "    </tr>\n",
       "  </tbody>\n",
       "</table>\n",
       "</div>"
      ],
      "text/plain": [
       "   Total Household Income Region  Total Food Expenditure  \\\n",
       "0                  480332    CAR                  117848   \n",
       "1                  198235    CAR                   67766   \n",
       "2                   82785    CAR                   61609   \n",
       "3                  107589    CAR                   78189   \n",
       "4                  189322    CAR                   94625   \n",
       "\n",
       "  Main Source of Income  Restaurant and hotels Expenditure  \\\n",
       "0         Wage/Salaries                               3000   \n",
       "1         Wage/Salaries                               2360   \n",
       "2         Wage/Salaries                               4545   \n",
       "3         Wage/Salaries                               6280   \n",
       "4         Wage/Salaries                               6400   \n",
       "\n",
       "   Clothing, Footwear and Other Wear Expenditure  Imputed House Rental Value  \\\n",
       "0                                           4607                       30000   \n",
       "1                                           8230                       27000   \n",
       "2                                           2735                        7200   \n",
       "3                                           1390                        6600   \n",
       "4                                           4620                       16800   \n",
       "\n",
       "   Medical Care Expenditure  Education Expenditure Household Head Sex  \\\n",
       "0                      3457                  36200             Female   \n",
       "1                      3520                  29300               Male   \n",
       "2                        70                    425               Male   \n",
       "3                        60                    300               Male   \n",
       "4                       140                      0               Male   \n",
       "\n",
       "   Household Head Age Household Head Marital Status  \\\n",
       "0                  49                        Single   \n",
       "1                  40                       Married   \n",
       "2                  39                       Married   \n",
       "3                  52                       Married   \n",
       "4                  65                       Married   \n",
       "\n",
       "             Household Head Highest Grade Completed  \\\n",
       "0  Teacher Training and Education Sciences Programs   \n",
       "1                       Transport Services Programs   \n",
       "2                                           Grade 3   \n",
       "3                               Elementary Graduate   \n",
       "4                               Elementary Graduate   \n",
       "\n",
       "                           Household Head Occupation  \\\n",
       "0  General elementary education teaching professi...   \n",
       "1                               Transport conductors   \n",
       "2                             Farmhands and laborers   \n",
       "3                                       Rice farmers   \n",
       "4  General managers/managing proprietors in trans...   \n",
       "\n",
       "                     Household Head Class of Worker Type of Household  \\\n",
       "0      Worked for government/government corporation   Extended Family   \n",
       "1                  Worked for private establishment     Single Family   \n",
       "2                  Worked for private establishment     Single Family   \n",
       "3  Employer in own family-operated farm or business     Single Family   \n",
       "4                 Self-employed wihout any employee     Single Family   \n",
       "\n",
       "   Total Number of Family members  Total number of family members employed  \\\n",
       "0                               4                                        1   \n",
       "1                               3                                        2   \n",
       "2                               6                                        3   \n",
       "3                               3                                        2   \n",
       "4                               4                                        2   \n",
       "\n",
       "   Number of Car, Jeep, Van  \n",
       "0                         0  \n",
       "1                         0  \n",
       "2                         0  \n",
       "3                         0  \n",
       "4                         0  "
      ]
     },
     "execution_count": 6,
     "metadata": {},
     "output_type": "execute_result"
    }
   ],
   "source": [
    "df= df[(df['Total Household Income'] > (104895.0 - 1.5*(291138.5 - 104895.0))) \\\n",
    "                      & (df['Total Household Income'] < (291138.5 + 1.5*(291138.5 - 104895.0)))]\n",
    "df.head()"
   ]
  },
  {
   "cell_type": "code",
   "execution_count": 7,
   "metadata": {},
   "outputs": [
    {
     "data": {
      "text/html": [
       "<div>\n",
       "<style scoped>\n",
       "    .dataframe tbody tr th:only-of-type {\n",
       "        vertical-align: middle;\n",
       "    }\n",
       "\n",
       "    .dataframe tbody tr th {\n",
       "        vertical-align: top;\n",
       "    }\n",
       "\n",
       "    .dataframe thead th {\n",
       "        text-align: right;\n",
       "    }\n",
       "</style>\n",
       "<table border=\"1\" class=\"dataframe\">\n",
       "  <thead>\n",
       "    <tr style=\"text-align: right;\">\n",
       "      <th></th>\n",
       "      <th>Total Household Income</th>\n",
       "      <th>Total Food Expenditure</th>\n",
       "      <th>Restaurant and hotels Expenditure</th>\n",
       "      <th>Clothing, Footwear and Other Wear Expenditure</th>\n",
       "      <th>Imputed House Rental Value</th>\n",
       "      <th>Medical Care Expenditure</th>\n",
       "      <th>Education Expenditure</th>\n",
       "      <th>Household Head Age</th>\n",
       "      <th>Total Number of Family members</th>\n",
       "      <th>Total number of family members employed</th>\n",
       "      <th>Number of Car, Jeep, Van</th>\n",
       "    </tr>\n",
       "  </thead>\n",
       "  <tbody>\n",
       "    <tr>\n",
       "      <th>Min</th>\n",
       "      <td>11285</td>\n",
       "      <td>2947</td>\n",
       "      <td>0</td>\n",
       "      <td>0</td>\n",
       "      <td>0</td>\n",
       "      <td>0</td>\n",
       "      <td>0</td>\n",
       "      <td>9</td>\n",
       "      <td>1</td>\n",
       "      <td>0</td>\n",
       "      <td>0</td>\n",
       "    </tr>\n",
       "    <tr>\n",
       "      <th>Max</th>\n",
       "      <td>570492</td>\n",
       "      <td>827565</td>\n",
       "      <td>725296</td>\n",
       "      <td>100972</td>\n",
       "      <td>360000</td>\n",
       "      <td>603695</td>\n",
       "      <td>275000</td>\n",
       "      <td>99</td>\n",
       "      <td>26</td>\n",
       "      <td>8</td>\n",
       "      <td>5</td>\n",
       "    </tr>\n",
       "    <tr>\n",
       "      <th>Var_range</th>\n",
       "      <td>559207</td>\n",
       "      <td>824618</td>\n",
       "      <td>725296</td>\n",
       "      <td>100972</td>\n",
       "      <td>360000</td>\n",
       "      <td>603695</td>\n",
       "      <td>275000</td>\n",
       "      <td>90</td>\n",
       "      <td>25</td>\n",
       "      <td>8</td>\n",
       "      <td>5</td>\n",
       "    </tr>\n",
       "    <tr>\n",
       "      <th>Mean</th>\n",
       "      <td>189886</td>\n",
       "      <td>77306.9</td>\n",
       "      <td>12573.1</td>\n",
       "      <td>3897.22</td>\n",
       "      <td>15964.3</td>\n",
       "      <td>5203.4</td>\n",
       "      <td>5213.24</td>\n",
       "      <td>51.08</td>\n",
       "      <td>4.58</td>\n",
       "      <td>1.22</td>\n",
       "      <td>0.03</td>\n",
       "    </tr>\n",
       "    <tr>\n",
       "      <th>Median</th>\n",
       "      <td>153175</td>\n",
       "      <td>69648</td>\n",
       "      <td>6340</td>\n",
       "      <td>2504</td>\n",
       "      <td>9000</td>\n",
       "      <td>960</td>\n",
       "      <td>800</td>\n",
       "      <td>50</td>\n",
       "      <td>4</td>\n",
       "      <td>1</td>\n",
       "      <td>0</td>\n",
       "    </tr>\n",
       "    <tr>\n",
       "      <th>Var</th>\n",
       "      <td>1.45327e+10</td>\n",
       "      <td>1.61833e+09</td>\n",
       "      <td>3.35826e+08</td>\n",
       "      <td>2.06925e+07</td>\n",
       "      <td>3.4721e+08</td>\n",
       "      <td>2.65818e+08</td>\n",
       "      <td>1.57964e+08</td>\n",
       "      <td>203.99</td>\n",
       "      <td>5.09</td>\n",
       "      <td>1.23</td>\n",
       "      <td>0.04</td>\n",
       "    </tr>\n",
       "    <tr>\n",
       "      <th>Std</th>\n",
       "      <td>120552</td>\n",
       "      <td>40228.5</td>\n",
       "      <td>18325.5</td>\n",
       "      <td>4548.9</td>\n",
       "      <td>18633.6</td>\n",
       "      <td>16303.9</td>\n",
       "      <td>12568.4</td>\n",
       "      <td>14.28</td>\n",
       "      <td>2.26</td>\n",
       "      <td>1.11</td>\n",
       "      <td>0.21</td>\n",
       "    </tr>\n",
       "    <tr>\n",
       "      <th>Var_coef</th>\n",
       "      <td>63.49</td>\n",
       "      <td>52.04</td>\n",
       "      <td>145.75</td>\n",
       "      <td>116.72</td>\n",
       "      <td>116.72</td>\n",
       "      <td>313.33</td>\n",
       "      <td>241.09</td>\n",
       "      <td>27.96</td>\n",
       "      <td>49.26</td>\n",
       "      <td>91.02</td>\n",
       "      <td>593.68</td>\n",
       "    </tr>\n",
       "    <tr>\n",
       "      <th>Mode</th>\n",
       "      <td>0    146320\n",
       "1    156600\n",
       "2    170400\n",
       "dtype: int64</td>\n",
       "      <td>0    51702\n",
       "1    52969\n",
       "2    65194\n",
       "3    89925\n",
       "dt...</td>\n",
       "      <td>0    0\n",
       "dtype: int64</td>\n",
       "      <td>0    0\n",
       "dtype: int64</td>\n",
       "      <td>0    6000\n",
       "dtype: int64</td>\n",
       "      <td>0    0\n",
       "dtype: int64</td>\n",
       "      <td>0    0\n",
       "dtype: int64</td>\n",
       "      <td>0    46\n",
       "dtype: int64</td>\n",
       "      <td>0    4\n",
       "dtype: int64</td>\n",
       "      <td>0    1\n",
       "dtype: int64</td>\n",
       "      <td>0    0\n",
       "dtype: int64</td>\n",
       "    </tr>\n",
       "  </tbody>\n",
       "</table>\n",
       "</div>"
      ],
      "text/plain": [
       "                                     Total Household Income  \\\n",
       "Min                                                   11285   \n",
       "Max                                                  570492   \n",
       "Var_range                                            559207   \n",
       "Mean                                                 189886   \n",
       "Median                                               153175   \n",
       "Var                                             1.45327e+10   \n",
       "Std                                                  120552   \n",
       "Var_coef                                              63.49   \n",
       "Mode       0    146320\n",
       "1    156600\n",
       "2    170400\n",
       "dtype: int64   \n",
       "\n",
       "                                      Total Food Expenditure  \\\n",
       "Min                                                     2947   \n",
       "Max                                                   827565   \n",
       "Var_range                                             824618   \n",
       "Mean                                                 77306.9   \n",
       "Median                                                 69648   \n",
       "Var                                              1.61833e+09   \n",
       "Std                                                  40228.5   \n",
       "Var_coef                                               52.04   \n",
       "Mode       0    51702\n",
       "1    52969\n",
       "2    65194\n",
       "3    89925\n",
       "dt...   \n",
       "\n",
       "          Restaurant and hotels Expenditure  \\\n",
       "Min                                       0   \n",
       "Max                                  725296   \n",
       "Var_range                            725296   \n",
       "Mean                                12573.1   \n",
       "Median                                 6340   \n",
       "Var                             3.35826e+08   \n",
       "Std                                 18325.5   \n",
       "Var_coef                             145.75   \n",
       "Mode                    0    0\n",
       "dtype: int64   \n",
       "\n",
       "          Clothing, Footwear and Other Wear Expenditure  \\\n",
       "Min                                                   0   \n",
       "Max                                              100972   \n",
       "Var_range                                        100972   \n",
       "Mean                                            3897.22   \n",
       "Median                                             2504   \n",
       "Var                                         2.06925e+07   \n",
       "Std                                              4548.9   \n",
       "Var_coef                                         116.72   \n",
       "Mode                                0    0\n",
       "dtype: int64   \n",
       "\n",
       "          Imputed House Rental Value Medical Care Expenditure  \\\n",
       "Min                                0                        0   \n",
       "Max                           360000                   603695   \n",
       "Var_range                     360000                   603695   \n",
       "Mean                         15964.3                   5203.4   \n",
       "Median                          9000                      960   \n",
       "Var                       3.4721e+08              2.65818e+08   \n",
       "Std                          18633.6                  16303.9   \n",
       "Var_coef                      116.72                   313.33   \n",
       "Mode          0    6000\n",
       "dtype: int64      0    0\n",
       "dtype: int64   \n",
       "\n",
       "          Education Expenditure    Household Head Age  \\\n",
       "Min                           0                     9   \n",
       "Max                      275000                    99   \n",
       "Var_range                275000                    90   \n",
       "Mean                    5213.24                 51.08   \n",
       "Median                      800                    50   \n",
       "Var                 1.57964e+08                203.99   \n",
       "Std                     12568.4                 14.28   \n",
       "Var_coef                 241.09                 27.96   \n",
       "Mode        0    0\n",
       "dtype: int64  0    46\n",
       "dtype: int64   \n",
       "\n",
       "          Total Number of Family members  \\\n",
       "Min                                    1   \n",
       "Max                                   26   \n",
       "Var_range                             25   \n",
       "Mean                                4.58   \n",
       "Median                                 4   \n",
       "Var                                 5.09   \n",
       "Std                                 2.26   \n",
       "Var_coef                           49.26   \n",
       "Mode                 0    4\n",
       "dtype: int64   \n",
       "\n",
       "          Total number of family members employed Number of Car, Jeep, Van  \n",
       "Min                                             0                        0  \n",
       "Max                                             8                        5  \n",
       "Var_range                                       8                        5  \n",
       "Mean                                         1.22                     0.03  \n",
       "Median                                          1                        0  \n",
       "Var                                          1.23                     0.04  \n",
       "Std                                          1.11                     0.21  \n",
       "Var_coef                                    91.02                   593.68  \n",
       "Mode                          0    1\n",
       "dtype: int64      0    0\n",
       "dtype: int64  "
      ]
     },
     "execution_count": 7,
     "metadata": {},
     "output_type": "execute_result"
    }
   ],
   "source": [
    "def statistics(x):\n",
    "    return round(x.min(), 2), round(x.max(), 2), round(x.max() - x.min(), 2), round(x.mean(), 2), round(x.median(), 2), round(x.var(), 2), round(x.std(), 2), round(x.std()/x.mean()*100, 2), round(x.mode(), 2)\n",
    "desc_stat = df[['Total Household Income', 'Total Food Expenditure', 'Restaurant and hotels Expenditure', \n",
    "                'Clothing, Footwear and Other Wear Expenditure', 'Imputed House Rental Value', \n",
    "                'Medical Care Expenditure', 'Education Expenditure', 'Household Head Age', \n",
    "                'Total Number of Family members', 'Total number of family members employed', \n",
    "                'Number of Car, Jeep, Van']].apply(statistics)\n",
    "desc_stat.index = ['Min', 'Max', 'Var_range', 'Mean', 'Median', 'Var', 'Std', 'Var_coef', 'Mode']\n",
    "desc_stat"
   ]
  },
  {
   "cell_type": "code",
   "execution_count": 8,
   "metadata": {},
   "outputs": [
    {
     "data": {
      "text/html": [
       "<div>\n",
       "<style scoped>\n",
       "    .dataframe tbody tr th:only-of-type {\n",
       "        vertical-align: middle;\n",
       "    }\n",
       "\n",
       "    .dataframe tbody tr th {\n",
       "        vertical-align: top;\n",
       "    }\n",
       "\n",
       "    .dataframe thead th {\n",
       "        text-align: right;\n",
       "    }\n",
       "</style>\n",
       "<table border=\"1\" class=\"dataframe\">\n",
       "  <thead>\n",
       "    <tr style=\"text-align: right;\">\n",
       "      <th></th>\n",
       "      <th>Total Household Income</th>\n",
       "      <th>Total Food Expenditure</th>\n",
       "      <th>Restaurant and hotels Expenditure</th>\n",
       "      <th>Clothing, Footwear and Other Wear Expenditure</th>\n",
       "      <th>Imputed House Rental Value</th>\n",
       "      <th>Medical Care Expenditure</th>\n",
       "      <th>Education Expenditure</th>\n",
       "      <th>Household Head Age</th>\n",
       "      <th>Total Number of Family members</th>\n",
       "      <th>Total number of family members employed</th>\n",
       "      <th>Number of Car, Jeep, Van</th>\n",
       "    </tr>\n",
       "  </thead>\n",
       "  <tbody>\n",
       "    <tr>\n",
       "      <th>25%</th>\n",
       "      <td>101150.0</td>\n",
       "      <td>49262.0</td>\n",
       "      <td>1695.0</td>\n",
       "      <td>1285.0</td>\n",
       "      <td>5400.0</td>\n",
       "      <td>270.0</td>\n",
       "      <td>0.0</td>\n",
       "      <td>40.0</td>\n",
       "      <td>3.0</td>\n",
       "      <td>0.0</td>\n",
       "      <td>0.0</td>\n",
       "    </tr>\n",
       "    <tr>\n",
       "      <th>50%_median</th>\n",
       "      <td>153175.0</td>\n",
       "      <td>69648.0</td>\n",
       "      <td>6340.0</td>\n",
       "      <td>2504.0</td>\n",
       "      <td>9000.0</td>\n",
       "      <td>960.0</td>\n",
       "      <td>800.0</td>\n",
       "      <td>50.0</td>\n",
       "      <td>4.0</td>\n",
       "      <td>1.0</td>\n",
       "      <td>0.0</td>\n",
       "    </tr>\n",
       "    <tr>\n",
       "      <th>75%</th>\n",
       "      <td>250795.0</td>\n",
       "      <td>97231.0</td>\n",
       "      <td>16920.0</td>\n",
       "      <td>4809.0</td>\n",
       "      <td>21000.0</td>\n",
       "      <td>3680.0</td>\n",
       "      <td>3080.0</td>\n",
       "      <td>61.0</td>\n",
       "      <td>6.0</td>\n",
       "      <td>2.0</td>\n",
       "      <td>0.0</td>\n",
       "    </tr>\n",
       "  </tbody>\n",
       "</table>\n",
       "</div>"
      ],
      "text/plain": [
       "            Total Household Income  Total Food Expenditure  \\\n",
       "25%                       101150.0                 49262.0   \n",
       "50%_median                153175.0                 69648.0   \n",
       "75%                       250795.0                 97231.0   \n",
       "\n",
       "            Restaurant and hotels Expenditure  \\\n",
       "25%                                    1695.0   \n",
       "50%_median                             6340.0   \n",
       "75%                                   16920.0   \n",
       "\n",
       "            Clothing, Footwear and Other Wear Expenditure  \\\n",
       "25%                                                1285.0   \n",
       "50%_median                                         2504.0   \n",
       "75%                                                4809.0   \n",
       "\n",
       "            Imputed House Rental Value  Medical Care Expenditure  \\\n",
       "25%                             5400.0                     270.0   \n",
       "50%_median                      9000.0                     960.0   \n",
       "75%                            21000.0                    3680.0   \n",
       "\n",
       "            Education Expenditure  Household Head Age  \\\n",
       "25%                           0.0                40.0   \n",
       "50%_median                  800.0                50.0   \n",
       "75%                        3080.0                61.0   \n",
       "\n",
       "            Total Number of Family members  \\\n",
       "25%                                    3.0   \n",
       "50%_median                             4.0   \n",
       "75%                                    6.0   \n",
       "\n",
       "            Total number of family members employed  Number of Car, Jeep, Van  \n",
       "25%                                             0.0                       0.0  \n",
       "50%_median                                      1.0                       0.0  \n",
       "75%                                             2.0                       0.0  "
      ]
     },
     "execution_count": 8,
     "metadata": {},
     "output_type": "execute_result"
    }
   ],
   "source": [
    "def quantiles(x):\n",
    "    return round(x.quantile(0.25), 2), round(x.quantile(0.5), 2), round(x.quantile(0.75), 2)\n",
    "desc_quantiles = df[['Total Household Income', 'Total Food Expenditure', 'Restaurant and hotels Expenditure', \n",
    "                'Clothing, Footwear and Other Wear Expenditure', 'Imputed House Rental Value', \n",
    "                'Medical Care Expenditure', 'Education Expenditure', 'Household Head Age', \n",
    "                'Total Number of Family members', 'Total number of family members employed', \n",
    "                'Number of Car, Jeep, Van']].apply(quantiles)\n",
    "desc_quantiles.index = ['25%', '50%_median', '75%']\n",
    "desc_quantiles"
   ]
  },
  {
   "cell_type": "code",
   "execution_count": 9,
   "metadata": {},
   "outputs": [
    {
     "data": {
      "text/plain": [
       "<matplotlib.axes._subplots.AxesSubplot at 0x7f4b9b8db080>"
      ]
     },
     "execution_count": 9,
     "metadata": {},
     "output_type": "execute_result"
    },
    {
     "data": {
      "image/png": "[encoded data removed]",
      "text/plain": [
       "<Figure size 432x288 with 1 Axes>"
      ]
     },
     "metadata": {
      "needs_background": "light"
     },
     "output_type": "display_data"
    }
   ],
   "source": [
    "sns.boxplot(data =df, y = 'Total Household Income', color= 'cyan')"
   ]
  },
  {
   "cell_type": "code",
   "execution_count": 10,
   "metadata": {},
   "outputs": [
    {
     "data": {
      "text/plain": [
       "<matplotlib.axes._subplots.AxesSubplot at 0x7f4b9b877278>"
      ]
     },
     "execution_count": 10,
     "metadata": {},
     "output_type": "execute_result"
    },
    {
     "data": {
      "image/png": "[encoded data removed]",
      "text/plain": [
       "<Figure size 432x288 with 1 Axes>"
      ]
     },
     "metadata": {
      "needs_background": "light"
     },
     "output_type": "display_data"
    }
   ],
   "source": [
    "sns.histplot(data = df, x = 'Total Household Income', color = 'cyan')"
   ]
  },
  {
   "cell_type": "markdown",
   "metadata": {},
   "source": [
    "#### Гипотеза H0: распределение дохода домохозяйств является нормальным\n",
    "#### Альтернативная гипотеза H1: распределение дохода домохозяйств не является нормальным"
   ]
  },
  {
   "cell_type": "code",
   "execution_count": 11,
   "metadata": {},
   "outputs": [
    {
     "name": "stderr",
     "output_type": "stream",
     "text": [
      "/opt/tljh/user/lib/python3.7/site-packages/scipy/stats/morestats.py:1760: UserWarning: p-value may not be accurate for N > 5000.\n",
      "  warnings.warn(\"p-value may not be accurate for N > 5000.\")\n"
     ]
    },
    {
     "data": {
      "text/plain": [
       "ShapiroResult(statistic=0.8939328789710999, pvalue=0.0)"
      ]
     },
     "execution_count": 11,
     "metadata": {},
     "output_type": "execute_result"
    }
   ],
   "source": [
    "stats.shapiro(df['Total Household Income'])"
   ]
  },
  {
   "cell_type": "markdown",
   "metadata": {},
   "source": [
    "#### Тест Шапиро-Уилка при большой выборке (N>5000) может предоставить неточный p-value. Проведем другой тест на нормальность распределения:"
   ]
  },
  {
   "cell_type": "code",
   "execution_count": 12,
   "metadata": {},
   "outputs": [
    {
     "data": {
      "text/plain": [
       "NormaltestResult(statistic=5805.911851067667, pvalue=0.0)"
      ]
     },
     "execution_count": 12,
     "metadata": {},
     "output_type": "execute_result"
    }
   ],
   "source": [
    "stats.normaltest(df['Total Household Income'])"
   ]
  },
  {
   "cell_type": "markdown",
   "metadata": {},
   "source": [
    "#### Оба теста показали крайне малое p-value, которое меньше a = 0.05\n",
    "#### При уровне значимости a = 0.05 нулевая гипотеза о том, что распределение дохода домохозяйств является нормальным, отвергается"
   ]
  },
  {
   "cell_type": "code",
   "execution_count": 13,
   "metadata": {},
   "outputs": [
    {
     "data": {
      "text/plain": [
       "<matplotlib.axes._subplots.AxesSubplot at 0x7f4b9b722a20>"
      ]
     },
     "execution_count": 13,
     "metadata": {},
     "output_type": "execute_result"
    },
    {
     "data": {
      "image/png": "[encoded data removed]",
      "text/plain": [
       "<Figure size 432x288 with 1 Axes>"
      ]
     },
     "metadata": {
      "needs_background": "light"
     },
     "output_type": "display_data"
    }
   ],
   "source": [
    "log = pd.DataFrame(np.log(df['Total Household Income']))\n",
    "sns.histplot(data = log, x = 'Total Household Income', color = 'cyan')"
   ]
  },
  {
   "cell_type": "code",
   "execution_count": 14,
   "metadata": {},
   "outputs": [
    {
     "name": "stderr",
     "output_type": "stream",
     "text": [
      "/opt/tljh/user/lib/python3.7/site-packages/scipy/stats/morestats.py:1760: UserWarning: p-value may not be accurate for N > 5000.\n",
      "  warnings.warn(\"p-value may not be accurate for N > 5000.\")\n"
     ]
    },
    {
     "data": {
      "text/plain": [
       "ShapiroResult(statistic=0.9914565086364746, pvalue=2.530885156417052e-41)"
      ]
     },
     "execution_count": 14,
     "metadata": {},
     "output_type": "execute_result"
    }
   ],
   "source": [
    "stats.shapiro(log)"
   ]
  },
  {
   "cell_type": "code",
   "execution_count": 15,
   "metadata": {},
   "outputs": [
    {
     "data": {
      "text/plain": [
       "NormaltestResult(statistic=array([318.36078961]), pvalue=array([7.39320775e-70]))"
      ]
     },
     "execution_count": 15,
     "metadata": {},
     "output_type": "execute_result"
    }
   ],
   "source": [
    "stats.normaltest(log)"
   ]
  },
  {
   "cell_type": "markdown",
   "metadata": {},
   "source": [
    "#### Оба теста снова показали крайне малое p-value, которое меньше a = 0.05\n",
    "#### При уровне значимости a = 0.05 нулевая гипотеза о том, что распределение дохода домохозяйств является нормальным, отвергается"
   ]
  },
  {
   "cell_type": "code",
   "execution_count": 16,
   "metadata": {},
   "outputs": [
    {
     "data": {
      "text/plain": [
       "<matplotlib.axes._subplots.AxesSubplot at 0x7f4b9b5b8860>"
      ]
     },
     "execution_count": 16,
     "metadata": {},
     "output_type": "execute_result"
    },
    {
     "data": {
      "image/png": "[encoded data removed]",
      "text/plain": [
       "<Figure size 432x288 with 1 Axes>"
      ]
     },
     "metadata": {
      "needs_background": "light"
     },
     "output_type": "display_data"
    }
   ],
   "source": [
    "sns.boxplot(data = df, y = 'Household Head Age', color = 'cyan')"
   ]
  },
  {
   "cell_type": "code",
   "execution_count": 17,
   "metadata": {},
   "outputs": [
    {
     "data": {
      "text/plain": [
       "<matplotlib.axes._subplots.AxesSubplot at 0x7f4b9b505908>"
      ]
     },
     "execution_count": 17,
     "metadata": {},
     "output_type": "execute_result"
    },
    {
     "data": {
      "image/png": "[encoded data removed]",
      "text/plain": [
       "<Figure size 432x288 with 1 Axes>"
      ]
     },
     "metadata": {
      "needs_background": "light"
     },
     "output_type": "display_data"
    }
   ],
   "source": [
    "sns.histplot(data = df, x = 'Household Head Age', color = 'cyan')"
   ]
  },
  {
   "cell_type": "markdown",
   "metadata": {},
   "source": [
    "#### Гипотеза H0: распределение возрастов главы семьи является нормальным\n",
    "#### Альтернативная гипотеза H1: распределение возрастов главы семьи не является нормальным"
   ]
  },
  {
   "cell_type": "code",
   "execution_count": 18,
   "metadata": {},
   "outputs": [
    {
     "name": "stderr",
     "output_type": "stream",
     "text": [
      "/opt/tljh/user/lib/python3.7/site-packages/scipy/stats/morestats.py:1760: UserWarning: p-value may not be accurate for N > 5000.\n",
      "  warnings.warn(\"p-value may not be accurate for N > 5000.\")\n"
     ]
    },
    {
     "data": {
      "text/plain": [
       "ShapiroResult(statistic=0.9911834001541138, pvalue=7.812238938610855e-42)"
      ]
     },
     "execution_count": 18,
     "metadata": {},
     "output_type": "execute_result"
    }
   ],
   "source": [
    "stats.shapiro(df['Household Head Age'])"
   ]
  },
  {
   "cell_type": "code",
   "execution_count": 19,
   "metadata": {},
   "outputs": [
    {
     "data": {
      "text/plain": [
       "NormaltestResult(statistic=849.1889183699524, pvalue=3.989967234336271e-185)"
      ]
     },
     "execution_count": 19,
     "metadata": {},
     "output_type": "execute_result"
    }
   ],
   "source": [
    "stats.normaltest(df['Household Head Age'])"
   ]
  },
  {
   "cell_type": "markdown",
   "metadata": {},
   "source": [
    "#### Оба теста показали крайне малое p-value, которое меньше a = 0.05\n",
    "#### При уровне значимости a = 0.05 нулевая гипотеза о том, что распределение возрастов главы семьи является нормальным, отвергается"
   ]
  },
  {
   "cell_type": "code",
   "execution_count": 20,
   "metadata": {},
   "outputs": [
    {
     "data": {
      "text/plain": [
       "<matplotlib.axes._subplots.AxesSubplot at 0x7f4b9b5afe48>"
      ]
     },
     "execution_count": 20,
     "metadata": {},
     "output_type": "execute_result"
    },
    {
     "data": {
      "image/png": "[encoded data removed]",
      "text/plain": [
       "<Figure size 432x288 with 1 Axes>"
      ]
     },
     "metadata": {
      "needs_background": "light"
     },
     "output_type": "display_data"
    }
   ],
   "source": [
    "sns.boxplot(data = df, y = 'Total Number of Family members', color = 'cyan')"
   ]
  },
  {
   "cell_type": "code",
   "execution_count": 21,
   "metadata": {},
   "outputs": [
    {
     "data": {
      "text/plain": [
       "<matplotlib.axes._subplots.AxesSubplot at 0x7f4b9b396eb8>"
      ]
     },
     "execution_count": 21,
     "metadata": {},
     "output_type": "execute_result"
    },
    {
     "data": {
      "image/png": "[encoded data removed]",
      "text/plain": [
       "<Figure size 432x288 with 1 Axes>"
      ]
     },
     "metadata": {
      "needs_background": "light"
     },
     "output_type": "display_data"
    }
   ],
   "source": [
    "sns.histplot(data = df, x = 'Total Number of Family members', color = 'cyan')"
   ]
  },
  {
   "cell_type": "markdown",
   "metadata": {},
   "source": [
    "#### Гипотеза H0: распределение числа членов семьи является нормальным\n",
    "#### Альтернативная гипотеза H1: распределение числа членов семьи не является нормальным"
   ]
  },
  {
   "cell_type": "code",
   "execution_count": 22,
   "metadata": {},
   "outputs": [
    {
     "name": "stderr",
     "output_type": "stream",
     "text": [
      "/opt/tljh/user/lib/python3.7/site-packages/scipy/stats/morestats.py:1760: UserWarning: p-value may not be accurate for N > 5000.\n",
      "  warnings.warn(\"p-value may not be accurate for N > 5000.\")\n"
     ]
    },
    {
     "data": {
      "text/plain": [
       "ShapiroResult(statistic=0.9456905722618103, pvalue=0.0)"
      ]
     },
     "execution_count": 22,
     "metadata": {},
     "output_type": "execute_result"
    }
   ],
   "source": [
    "stats.shapiro(df['Total Number of Family members'])"
   ]
  },
  {
   "cell_type": "code",
   "execution_count": 23,
   "metadata": {},
   "outputs": [
    {
     "data": {
      "text/plain": [
       "NormaltestResult(statistic=4575.701894489449, pvalue=0.0)"
      ]
     },
     "execution_count": 23,
     "metadata": {},
     "output_type": "execute_result"
    }
   ],
   "source": [
    "stats.normaltest(df['Total Number of Family members'])"
   ]
  },
  {
   "cell_type": "markdown",
   "metadata": {},
   "source": [
    "#### Оба теста показали крайне малое p-value, которое меньше a = 0.05\n",
    "#### При уровне значимости a = 0.05 нулевая гипотеза о том, что распределение числа членов семьи является нормальным, отвергается"
   ]
  },
  {
   "cell_type": "markdown",
   "metadata": {},
   "source": [
    "### Построим доверительные интервалы для средних разных параметров"
   ]
  },
  {
   "cell_type": "code",
   "execution_count": 24,
   "metadata": {},
   "outputs": [
    {
     "data": {
      "text/plain": [
       "(188679.81249326782, 191091.59661776805)"
      ]
     },
     "execution_count": 24,
     "metadata": {},
     "output_type": "execute_result"
    }
   ],
   "source": [
    "sms.DescrStatsW(df['Total Household Income']).tconfint_mean()"
   ]
  },
  {
   "cell_type": "code",
   "execution_count": 25,
   "metadata": {},
   "outputs": [
    {
     "data": {
      "text/plain": [
       "(76904.48856905167, 77709.30946704868)"
      ]
     },
     "execution_count": 25,
     "metadata": {},
     "output_type": "execute_result"
    }
   ],
   "source": [
    "sms.DescrStatsW(df['Total Food Expenditure']).tconfint_mean()"
   ]
  },
  {
   "cell_type": "code",
   "execution_count": 26,
   "metadata": {},
   "outputs": [
    {
     "data": {
      "text/plain": [
       "(12389.754657544012, 12756.38031497702)"
      ]
     },
     "execution_count": 26,
     "metadata": {},
     "output_type": "execute_result"
    }
   ],
   "source": [
    "sms.DescrStatsW(df['Restaurant and hotels Expenditure']).tconfint_mean()"
   ]
  },
  {
   "cell_type": "code",
   "execution_count": 27,
   "metadata": {},
   "outputs": [
    {
     "data": {
      "text/plain": [
       "(3851.716694401715, 3942.7231774499246)"
      ]
     },
     "execution_count": 27,
     "metadata": {},
     "output_type": "execute_result"
    }
   ],
   "source": [
    "sms.DescrStatsW(df['Clothing, Footwear and Other Wear Expenditure']).tconfint_mean()"
   ]
  },
  {
   "cell_type": "code",
   "execution_count": 28,
   "metadata": {},
   "outputs": [
    {
     "data": {
      "text/plain": [
       "(15777.892626474923, 16150.680498834377)"
      ]
     },
     "execution_count": 28,
     "metadata": {},
     "output_type": "execute_result"
    }
   ],
   "source": [
    "sms.DescrStatsW(df['Imputed House Rental Value']).tconfint_mean()"
   ]
  },
  {
   "cell_type": "code",
   "execution_count": 29,
   "metadata": {},
   "outputs": [
    {
     "data": {
      "text/plain": [
       "(5040.30507859387, 5366.485482185439)"
      ]
     },
     "execution_count": 29,
     "metadata": {},
     "output_type": "execute_result"
    }
   ],
   "source": [
    "sms.DescrStatsW(df['Medical Care Expenditure']).tconfint_mean()"
   ]
  },
  {
   "cell_type": "code",
   "execution_count": 30,
   "metadata": {},
   "outputs": [
    {
     "data": {
      "text/plain": [
       "(5087.518086164296, 5338.964449714641)"
      ]
     },
     "execution_count": 30,
     "metadata": {},
     "output_type": "execute_result"
    }
   ],
   "source": [
    "sms.DescrStatsW(df['Education Expenditure']).tconfint_mean()"
   ]
  },
  {
   "cell_type": "markdown",
   "metadata": {},
   "source": [
    "### Для ответа на вопрос исследования проведем дополнительные тесты"
   ]
  },
  {
   "cell_type": "markdown",
   "metadata": {},
   "source": [
    "#### Гипотеза H0: средний доход в семьях с женщиной как главой семьи и средний доход с мужчиной как главой семьи не отличаются\n",
    "#### Альтернативная гипотеза H1: средний доход в семьях с женщиной как главой семьи и средний доход с мужчиной как главой семьи отличаются"
   ]
  },
  {
   "cell_type": "code",
   "execution_count": 31,
   "metadata": {},
   "outputs": [
    {
     "data": {
      "text/html": [
       "<div>\n",
       "<style scoped>\n",
       "    .dataframe tbody tr th:only-of-type {\n",
       "        vertical-align: middle;\n",
       "    }\n",
       "\n",
       "    .dataframe tbody tr th {\n",
       "        vertical-align: top;\n",
       "    }\n",
       "\n",
       "    .dataframe thead th {\n",
       "        text-align: right;\n",
       "    }\n",
       "</style>\n",
       "<table border=\"1\" class=\"dataframe\">\n",
       "  <thead>\n",
       "    <tr style=\"text-align: right;\">\n",
       "      <th></th>\n",
       "      <th>T</th>\n",
       "      <th>dof</th>\n",
       "      <th>alternative</th>\n",
       "      <th>p-val</th>\n",
       "      <th>CI95%</th>\n",
       "      <th>cohen-d</th>\n",
       "      <th>BF10</th>\n",
       "      <th>power</th>\n",
       "    </tr>\n",
       "  </thead>\n",
       "  <tbody>\n",
       "    <tr>\n",
       "      <th>T-test</th>\n",
       "      <td>-6.272831</td>\n",
       "      <td>12026.773975</td>\n",
       "      <td>two-sided</td>\n",
       "      <td>3.667052e-10</td>\n",
       "      <td>[-13165.92, -6896.67]</td>\n",
       "      <td>0.083259</td>\n",
       "      <td>4.81e+06</td>\n",
       "      <td>1.0</td>\n",
       "    </tr>\n",
       "  </tbody>\n",
       "</table>\n",
       "</div>"
      ],
      "text/plain": [
       "               T           dof alternative         p-val  \\\n",
       "T-test -6.272831  12026.773975   two-sided  3.667052e-10   \n",
       "\n",
       "                        CI95%   cohen-d      BF10  power  \n",
       "T-test  [-13165.92, -6896.67]  0.083259  4.81e+06    1.0  "
      ]
     },
     "execution_count": 31,
     "metadata": {},
     "output_type": "execute_result"
    }
   ],
   "source": [
    "pg.ttest(df[df['Household Head Sex'] == 'Male']['Total Household Income'], df[df['Household Head Sex'] == 'Female']['Total Household Income'])"
   ]
  },
  {
   "cell_type": "markdown",
   "metadata": {},
   "source": [
    "#### p-value меньше a = 0.05\n",
    "#### При уровне значимости a = 0.05 нулевая гипотеза о том, что средний доход в семьях с женщиной как главой семьи и средний доход с мужчиной как главой семьи не отличаются, отвергается"
   ]
  },
  {
   "cell_type": "markdown",
   "metadata": {},
   "source": [
    "### Дисперсионный анализ"
   ]
  },
  {
   "cell_type": "markdown",
   "metadata": {},
   "source": [
    "#### Гипотеза H0: дисперсии дохода семьи в разрезе пола главы семьи статистически значимо не различаются\n",
    "#### Альтернативная гипотеза H1: дисперсии дохода семьи в разрезе пола главы семьи статистически значимо различаются"
   ]
  },
  {
   "cell_type": "code",
   "execution_count": 32,
   "metadata": {},
   "outputs": [
    {
     "data": {
      "text/html": [
       "<div>\n",
       "<style scoped>\n",
       "    .dataframe tbody tr th:only-of-type {\n",
       "        vertical-align: middle;\n",
       "    }\n",
       "\n",
       "    .dataframe tbody tr th {\n",
       "        vertical-align: top;\n",
       "    }\n",
       "\n",
       "    .dataframe thead th {\n",
       "        text-align: right;\n",
       "    }\n",
       "</style>\n",
       "<table border=\"1\" class=\"dataframe\">\n",
       "  <thead>\n",
       "    <tr style=\"text-align: right;\">\n",
       "      <th></th>\n",
       "      <th>W</th>\n",
       "      <th>pval</th>\n",
       "      <th>equal_var</th>\n",
       "    </tr>\n",
       "  </thead>\n",
       "  <tbody>\n",
       "    <tr>\n",
       "      <th>levene</th>\n",
       "      <td>217.331656</td>\n",
       "      <td>4.706891e-49</td>\n",
       "      <td>False</td>\n",
       "    </tr>\n",
       "  </tbody>\n",
       "</table>\n",
       "</div>"
      ],
      "text/plain": [
       "                 W          pval  equal_var\n",
       "levene  217.331656  4.706891e-49      False"
      ]
     },
     "execution_count": 32,
     "metadata": {},
     "output_type": "execute_result"
    }
   ],
   "source": [
    "pg.homoscedasticity(data = df, dv = 'Total Household Income', group = 'Household Head Sex')"
   ]
  },
  {
   "cell_type": "markdown",
   "metadata": {},
   "source": [
    "#### p-value меньше a = 0.05\n",
    "#### При уровне значимости a = 0.05 нулевая гипотеза о том, что дисперсии дохода семьи в разрезе пола главы семьи статистически значимо не различаются, отвергается\n",
    "\n",
    "#### При разнородных дисперсиях используем критерий Уэлча"
   ]
  },
  {
   "cell_type": "markdown",
   "metadata": {},
   "source": [
    "#### --------------------------------------------------------------------------------------------------------------------------------------------------------------------------------------"
   ]
  },
  {
   "cell_type": "markdown",
   "metadata": {},
   "source": [
    "#### Гипотеза H0: средний доход в семьях с женщиной как главой семьи и средний доход с мужчиной как главой семьи не отличаются\n",
    "#### Альтернативная гипотеза H1: средний доход в семьях с женщиной как главой семьи и средний доход с мужчиной как главой семьи отличаются"
   ]
  },
  {
   "cell_type": "code",
   "execution_count": 33,
   "metadata": {},
   "outputs": [
    {
     "data": {
      "text/html": [
       "<div>\n",
       "<style scoped>\n",
       "    .dataframe tbody tr th:only-of-type {\n",
       "        vertical-align: middle;\n",
       "    }\n",
       "\n",
       "    .dataframe tbody tr th {\n",
       "        vertical-align: top;\n",
       "    }\n",
       "\n",
       "    .dataframe thead th {\n",
       "        text-align: right;\n",
       "    }\n",
       "</style>\n",
       "<table border=\"1\" class=\"dataframe\">\n",
       "  <thead>\n",
       "    <tr style=\"text-align: right;\">\n",
       "      <th></th>\n",
       "      <th>Source</th>\n",
       "      <th>ddof1</th>\n",
       "      <th>ddof2</th>\n",
       "      <th>F</th>\n",
       "      <th>p-unc</th>\n",
       "      <th>np2</th>\n",
       "    </tr>\n",
       "  </thead>\n",
       "  <tbody>\n",
       "    <tr>\n",
       "      <th>0</th>\n",
       "      <td>Household Head Sex</td>\n",
       "      <td>1</td>\n",
       "      <td>12026.773975</td>\n",
       "      <td>39.348405</td>\n",
       "      <td>3.667052e-10</td>\n",
       "      <td>0.001166</td>\n",
       "    </tr>\n",
       "  </tbody>\n",
       "</table>\n",
       "</div>"
      ],
      "text/plain": [
       "               Source  ddof1         ddof2          F         p-unc       np2\n",
       "0  Household Head Sex      1  12026.773975  39.348405  3.667052e-10  0.001166"
      ]
     },
     "execution_count": 33,
     "metadata": {},
     "output_type": "execute_result"
    }
   ],
   "source": [
    "pg.welch_anova(data= df, dv=\"Total Household Income\", between=\"Household Head Sex\")"
   ]
  },
  {
   "cell_type": "markdown",
   "metadata": {},
   "source": [
    "#### p-value меньше a = 0.05\n",
    "#### При уровне значимости a = 0.05 нулевая гипотеза о том, что дисперсии дохода семьи в разрезе пола главы семьи статистически значимо не различаются, отвергается"
   ]
  },
  {
   "cell_type": "markdown",
   "metadata": {},
   "source": [
    "#### --------------------------------------------------------------------------------------------------------------------------------------------------------------------------------------"
   ]
  },
  {
   "cell_type": "markdown",
   "metadata": {},
   "source": [
    "#### Гипотеза H0: средние затраты семьи на медицинское обслуживание и средние затраты на образование не отличаются\n",
    "#### Альтернативная гипотеза H1: средние затраты семьи на медицинское обслуживание и средние затраты на образование отличаются"
   ]
  },
  {
   "cell_type": "code",
   "execution_count": 34,
   "metadata": {},
   "outputs": [
    {
     "data": {
      "text/html": [
       "<div>\n",
       "<style scoped>\n",
       "    .dataframe tbody tr th:only-of-type {\n",
       "        vertical-align: middle;\n",
       "    }\n",
       "\n",
       "    .dataframe tbody tr th {\n",
       "        vertical-align: top;\n",
       "    }\n",
       "\n",
       "    .dataframe thead th {\n",
       "        text-align: right;\n",
       "    }\n",
       "</style>\n",
       "<table border=\"1\" class=\"dataframe\">\n",
       "  <thead>\n",
       "    <tr style=\"text-align: right;\">\n",
       "      <th></th>\n",
       "      <th>T</th>\n",
       "      <th>dof</th>\n",
       "      <th>alternative</th>\n",
       "      <th>p-val</th>\n",
       "      <th>CI95%</th>\n",
       "      <th>cohen-d</th>\n",
       "      <th>BF10</th>\n",
       "      <th>power</th>\n",
       "    </tr>\n",
       "  </thead>\n",
       "  <tbody>\n",
       "    <tr>\n",
       "      <th>T-test</th>\n",
       "      <td>-0.093716</td>\n",
       "      <td>76784</td>\n",
       "      <td>two-sided</td>\n",
       "      <td>0.925335</td>\n",
       "      <td>[-215.77, 196.07]</td>\n",
       "      <td>0.000676</td>\n",
       "      <td>0.008</td>\n",
       "      <td>0.051007</td>\n",
       "    </tr>\n",
       "  </tbody>\n",
       "</table>\n",
       "</div>"
      ],
      "text/plain": [
       "               T    dof alternative     p-val              CI95%   cohen-d  \\\n",
       "T-test -0.093716  76784   two-sided  0.925335  [-215.77, 196.07]  0.000676   \n",
       "\n",
       "         BF10     power  \n",
       "T-test  0.008  0.051007  "
      ]
     },
     "execution_count": 34,
     "metadata": {},
     "output_type": "execute_result"
    }
   ],
   "source": [
    "pg.ttest(df['Medical Care Expenditure'], df['Education Expenditure'])"
   ]
  },
  {
   "cell_type": "markdown",
   "metadata": {},
   "source": [
    "#### p-value больше a = 0.05\n",
    "#### При уровне значимости a = 0.05 нулевая гипотеза о том, что средние затраты семьи на медицинское обслуживание и средние затраты на образование не отличаются, принимается"
   ]
  },
  {
   "cell_type": "code",
   "execution_count": 35,
   "metadata": {},
   "outputs": [
    {
     "data": {
      "text/html": [
       "<div>\n",
       "<style scoped>\n",
       "    .dataframe tbody tr th:only-of-type {\n",
       "        vertical-align: middle;\n",
       "    }\n",
       "\n",
       "    .dataframe tbody tr th {\n",
       "        vertical-align: top;\n",
       "    }\n",
       "\n",
       "    .dataframe thead th {\n",
       "        text-align: right;\n",
       "    }\n",
       "</style>\n",
       "<table border=\"1\" class=\"dataframe\">\n",
       "  <thead>\n",
       "    <tr style=\"text-align: right;\">\n",
       "      <th></th>\n",
       "      <th>T</th>\n",
       "      <th>dof</th>\n",
       "      <th>alternative</th>\n",
       "      <th>p-val</th>\n",
       "      <th>CI95%</th>\n",
       "      <th>cohen-d</th>\n",
       "      <th>BF10</th>\n",
       "      <th>power</th>\n",
       "    </tr>\n",
       "  </thead>\n",
       "  <tbody>\n",
       "    <tr>\n",
       "      <th>T-test</th>\n",
       "      <td>-0.093716</td>\n",
       "      <td>76784</td>\n",
       "      <td>two-sided</td>\n",
       "      <td>0.925335</td>\n",
       "      <td>[-215.77, 196.07]</td>\n",
       "      <td>0.000676</td>\n",
       "      <td>0.008</td>\n",
       "      <td>0.051007</td>\n",
       "    </tr>\n",
       "  </tbody>\n",
       "</table>\n",
       "</div>"
      ],
      "text/plain": [
       "               T    dof alternative     p-val              CI95%   cohen-d  \\\n",
       "T-test -0.093716  76784   two-sided  0.925335  [-215.77, 196.07]  0.000676   \n",
       "\n",
       "         BF10     power  \n",
       "T-test  0.008  0.051007  "
      ]
     },
     "execution_count": 35,
     "metadata": {},
     "output_type": "execute_result"
    }
   ],
   "source": [
    "pg.ttest(df['Medical Care Expenditure'], df['Education Expenditure'])"
   ]
  },
  {
   "cell_type": "markdown",
   "metadata": {},
   "source": [
    "#### --------------------------------------------------------------------------------------------------------------------------------------------------------------------------------------"
   ]
  },
  {
   "cell_type": "markdown",
   "metadata": {},
   "source": [
    "#### Гипотеза H0: коэффициент корреляции между доходом домохозяйства и затратами семьи на еду равен 0\n",
    "#### Альтернативная гипотеза H1: коэффициент корреляции между доходом домохозяйства и затратами семьи на еду не равен 0"
   ]
  },
  {
   "cell_type": "code",
   "execution_count": 36,
   "metadata": {},
   "outputs": [
    {
     "data": {
      "text/plain": [
       "(0.7174059527857577, 0.0)"
      ]
     },
     "execution_count": 36,
     "metadata": {},
     "output_type": "execute_result"
    }
   ],
   "source": [
    "st.pearsonr(df['Total Household Income'], df['Total Food Expenditure'])"
   ]
  },
  {
   "cell_type": "markdown",
   "metadata": {},
   "source": [
    "#### p-value меньше a = 0.05\n",
    "#### При уровне значимости a = 0.05 нулевая гипотеза о том, что коэффициент корреляции между доходом домохозяйства и затратами семьи на еду равен 0, отвергается"
   ]
  },
  {
   "cell_type": "code",
   "execution_count": 37,
   "metadata": {},
   "outputs": [
    {
     "data": {
      "text/plain": [
       "<matplotlib.axes._subplots.AxesSubplot at 0x7f4b9b8db320>"
      ]
     },
     "execution_count": 37,
     "metadata": {},
     "output_type": "execute_result"
    },
    {
     "data": {
      "image/png": "[encoded data removed]",
      "text/plain": [
       "<Figure size 432x288 with 1 Axes>"
      ]
     },
     "metadata": {
      "needs_background": "light"
     },
     "output_type": "display_data"
    }
   ],
   "source": [
    "sns.scatterplot(data = df, x = np.log(df['Total Household Income']), y = np.log(df['Total Food Expenditure']), color = 'cyan')"
   ]
  },
  {
   "cell_type": "markdown",
   "metadata": {},
   "source": [
    "#### Гипотеза H0: коэффициент корреляции между доходом домохозяйства и затратами семьи на медицинское обслуживание равен 0\n",
    "#### Альтернативная гипотеза H1: коэффициент корреляции между доходом домохозяйства и затратами семьи на медицинское обслуживание не равен 0"
   ]
  },
  {
   "cell_type": "code",
   "execution_count": 38,
   "metadata": {},
   "outputs": [
    {
     "data": {
      "text/plain": [
       "(0.26312647564140296, 0.0)"
      ]
     },
     "execution_count": 38,
     "metadata": {},
     "output_type": "execute_result"
    }
   ],
   "source": [
    "st.pearsonr(df['Total Household Income'], df['Medical Care Expenditure'])"
   ]
  },
  {
   "cell_type": "markdown",
   "metadata": {},
   "source": [
    "#### p-value меньше a = 0.05\n",
    "#### При уровне значимости a = 0.05 нулевая гипотеза о том, что коэффициент корреляции между доходом домохозяйства и затратами семьи на медицинское обслуживание равен 0, отвергается"
   ]
  },
  {
   "cell_type": "code",
   "execution_count": 39,
   "metadata": {},
   "outputs": [
    {
     "name": "stderr",
     "output_type": "stream",
     "text": [
      "/opt/tljh/user/lib/python3.7/site-packages/pandas/core/series.py:726: RuntimeWarning: divide by zero encountered in log\n",
      "  result = getattr(ufunc, method)(*inputs, **kwargs)\n"
     ]
    },
    {
     "data": {
      "text/plain": [
       "<matplotlib.axes._subplots.AxesSubplot at 0x7f4b9b161b38>"
      ]
     },
     "execution_count": 39,
     "metadata": {},
     "output_type": "execute_result"
    },
    {
     "data": {
      "image/png": "[encoded data removed]",
      "text/plain": [
       "<Figure size 432x288 with 1 Axes>"
      ]
     },
     "metadata": {
      "needs_background": "light"
     },
     "output_type": "display_data"
    }
   ],
   "source": [
    "sns.scatterplot(data = df, x = np.log(df['Total Household Income']), y = np.log(df['Medical Care Expenditure']), color = 'cyan')"
   ]
  },
  {
   "cell_type": "markdown",
   "metadata": {},
   "source": [
    "#### Гипотеза H0: коэффициент корреляции между доходом домохозяйства и затратами семьи на одежду равен 0\n",
    "#### Альтернативная гипотеза H1: коэффициент корреляции между доходом домохозяйства и затратами семьи на одежду не равен 0"
   ]
  },
  {
   "cell_type": "code",
   "execution_count": 40,
   "metadata": {},
   "outputs": [
    {
     "data": {
      "text/plain": [
       "(0.5519624700078216, 0.0)"
      ]
     },
     "execution_count": 40,
     "metadata": {},
     "output_type": "execute_result"
    }
   ],
   "source": [
    "st.pearsonr(df['Total Household Income'], df['Clothing, Footwear and Other Wear Expenditure'])"
   ]
  },
  {
   "cell_type": "markdown",
   "metadata": {},
   "source": [
    "#### p-value меньше a = 0.05\n",
    "#### При уровне значимости a = 0.05 нулевая гипотеза о том, что коэффициент корреляции между доходом домохозяйства и затратами семьи на одежду равен 0, отвергается"
   ]
  },
  {
   "cell_type": "code",
   "execution_count": 41,
   "metadata": {},
   "outputs": [
    {
     "name": "stderr",
     "output_type": "stream",
     "text": [
      "/opt/tljh/user/lib/python3.7/site-packages/pandas/core/series.py:726: RuntimeWarning: divide by zero encountered in log\n",
      "  result = getattr(ufunc, method)(*inputs, **kwargs)\n"
     ]
    },
    {
     "data": {
      "text/plain": [
       "<matplotlib.axes._subplots.AxesSubplot at 0x7f4b9b0b74e0>"
      ]
     },
     "execution_count": 41,
     "metadata": {},
     "output_type": "execute_result"
    },
    {
     "data": {
      "image/png": "[encoded data removed]",
      "text/plain": [
       "<Figure size 432x288 with 1 Axes>"
      ]
     },
     "metadata": {
      "needs_background": "light"
     },
     "output_type": "display_data"
    }
   ],
   "source": [
    "sns.scatterplot(data = df, x = np.log(df['Total Household Income']), y = np.log(df['Clothing, Footwear and Other Wear Expenditure']), color = 'cyan')"
   ]
  },
  {
   "cell_type": "markdown",
   "metadata": {},
   "source": [
    "#### Гипотеза H0: коэффициент корреляции между числом членов семьи и затратами семьи на образование равен 0\n",
    "#### Альтернативная гипотеза H1: коэффициент корреляции между числом членов семьи и затратами семьи на образование не равен 0"
   ]
  },
  {
   "cell_type": "code",
   "execution_count": 42,
   "metadata": {},
   "outputs": [
    {
     "data": {
      "text/plain": [
       "(0.10666780887915928, 1.5282401092619516e-97)"
      ]
     },
     "execution_count": 42,
     "metadata": {},
     "output_type": "execute_result"
    }
   ],
   "source": [
    "st.pearsonr(df['Total Number of Family members'], df['Education Expenditure'])"
   ]
  },
  {
   "cell_type": "markdown",
   "metadata": {},
   "source": [
    "#### p-value меньше a = 0.05\n",
    "#### При уровне значимости a = 0.05 нулевая гипотеза о том, что коэффициент корреляции между числом членов семьи и затратами семьи на образование равен 0, отвергается"
   ]
  },
  {
   "cell_type": "markdown",
   "metadata": {},
   "source": [
    "#### --------------------------------------------------------------------------------------------------------------------------------------------------------------------------------------"
   ]
  },
  {
   "cell_type": "markdown",
   "metadata": {},
   "source": [
    "#### Гипотеза H0: коэффициент корреляции между доходом домохозяйства и возрастом главы семьи равен 0\n",
    "#### Альтернативная гипотеза H1: коэффициент корреляции между доходом домохозяйства и возрастом главы семьи не равен 0"
   ]
  },
  {
   "cell_type": "code",
   "execution_count": 43,
   "metadata": {},
   "outputs": [
    {
     "data": {
      "text/plain": [
       "(0.03877241897421214, 2.967516507069152e-14)"
      ]
     },
     "execution_count": 43,
     "metadata": {},
     "output_type": "execute_result"
    }
   ],
   "source": [
    "st.pearsonr(df['Total Household Income'], df['Household Head Age'])"
   ]
  },
  {
   "cell_type": "markdown",
   "metadata": {},
   "source": [
    "#### p-value меньше a = 0.05\n",
    "#### При уровне значимости a = 0.05 нулевая гипотеза о том, что коэффициент корреляции между доходом домохозяйства и возрастом главы семьи равен 0, отвергается"
   ]
  },
  {
   "cell_type": "markdown",
   "metadata": {},
   "source": [
    "#### --------------------------------------------------------------------------------------------------------------------------------------------------------------------------------------"
   ]
  },
  {
   "cell_type": "markdown",
   "metadata": {},
   "source": [
    "#### Гипотеза H0: коэффициент корреляции между доходом домохозяйства и числом членов семьи равен 0\n",
    "#### Альтернативная гипотеза H1: коэффициент корреляции между доходом домохозяйства и числом членов семьи не равен 0"
   ]
  },
  {
   "cell_type": "code",
   "execution_count": 44,
   "metadata": {},
   "outputs": [
    {
     "data": {
      "text/plain": [
       "(0.21339514512404248, 0.0)"
      ]
     },
     "execution_count": 44,
     "metadata": {},
     "output_type": "execute_result"
    }
   ],
   "source": [
    "st.pearsonr(df['Total Household Income'], df['Total Number of Family members'])"
   ]
  },
  {
   "cell_type": "markdown",
   "metadata": {},
   "source": [
    "#### p-value меньше a = 0.05\n",
    "#### При уровне значимости a = 0.05 нулевая гипотеза о том, что коэффициент корреляции между доходом домохозяйства и числом членов семьи равен 0, отвергается"
   ]
  },
  {
   "cell_type": "markdown",
   "metadata": {},
   "source": [
    "#### --------------------------------------------------------------------------------------------------------------------------------------------------------------------------------------"
   ]
  },
  {
   "cell_type": "markdown",
   "metadata": {},
   "source": [
    "#### Гипотеза H0: коэффициент корреляции между доходом домохозяйства и числом автомобилей в семье равен 0\n",
    "#### Альтернативная гипотеза H1: коэффициент корреляции между доходом домохозяйства и числом автомобилей в семье не равен 0"
   ]
  },
  {
   "cell_type": "code",
   "execution_count": 45,
   "metadata": {},
   "outputs": [
    {
     "data": {
      "text/plain": [
       "(0.2649163995180558, 0.0)"
      ]
     },
     "execution_count": 45,
     "metadata": {},
     "output_type": "execute_result"
    }
   ],
   "source": [
    "st.pearsonr(df['Number of Car, Jeep, Van'], df['Total Household Income'])"
   ]
  },
  {
   "cell_type": "markdown",
   "metadata": {},
   "source": [
    "#### p-value меньше a = 0.05\n",
    "#### При уровне значимости a = 0.05 нулевая гипотеза о том, что коэффициент корреляции между доходом домохозяйства и числом автомобилей в семье равен 0, отвергается"
   ]
  },
  {
   "cell_type": "markdown",
   "metadata": {},
   "source": [
    "#### --------------------------------------------------------------------------------------------------------------------------------------------------------------------------------------"
   ]
  },
  {
   "cell_type": "markdown",
   "metadata": {},
   "source": [
    "#### Гипотеза H0: связь между полом главы семьи и основным источников дохода в семье статистически не значима\n",
    "#### Альтернативная гипотеза H1: связь между полом главы семьи и основным источников дохода в семье статистически значима"
   ]
  },
  {
   "cell_type": "code",
   "execution_count": 46,
   "metadata": {},
   "outputs": [
    {
     "data": {
      "text/html": [
       "<div>\n",
       "<style scoped>\n",
       "    .dataframe tbody tr th:only-of-type {\n",
       "        vertical-align: middle;\n",
       "    }\n",
       "\n",
       "    .dataframe tbody tr th {\n",
       "        vertical-align: top;\n",
       "    }\n",
       "\n",
       "    .dataframe thead th {\n",
       "        text-align: right;\n",
       "    }\n",
       "</style>\n",
       "<table border=\"1\" class=\"dataframe\">\n",
       "  <thead>\n",
       "    <tr style=\"text-align: right;\">\n",
       "      <th>Main Source of Income</th>\n",
       "      <th>Enterpreneurial Activities</th>\n",
       "      <th>Other sources of Income</th>\n",
       "      <th>Wage/Salaries</th>\n",
       "    </tr>\n",
       "    <tr>\n",
       "      <th>Household Head Sex</th>\n",
       "      <th></th>\n",
       "      <th></th>\n",
       "      <th></th>\n",
       "    </tr>\n",
       "  </thead>\n",
       "  <tbody>\n",
       "    <tr>\n",
       "      <th>Female</th>\n",
       "      <td>1231</td>\n",
       "      <td>3898</td>\n",
       "      <td>3095</td>\n",
       "    </tr>\n",
       "    <tr>\n",
       "      <th>Male</th>\n",
       "      <td>8567</td>\n",
       "      <td>6101</td>\n",
       "      <td>15501</td>\n",
       "    </tr>\n",
       "  </tbody>\n",
       "</table>\n",
       "</div>"
      ],
      "text/plain": [
       "Main Source of Income  Enterpreneurial Activities  Other sources of Income  \\\n",
       "Household Head Sex                                                           \n",
       "Female                                       1231                     3898   \n",
       "Male                                         8567                     6101   \n",
       "\n",
       "Main Source of Income  Wage/Salaries  \n",
       "Household Head Sex                    \n",
       "Female                          3095  \n",
       "Male                           15501  "
      ]
     },
     "execution_count": 46,
     "metadata": {},
     "output_type": "execute_result"
    }
   ],
   "source": [
    "contingency_table = pd.crosstab(df['Household Head Sex'], df['Main Source of Income'])\n",
    "contingency_table"
   ]
  },
  {
   "cell_type": "code",
   "execution_count": 47,
   "metadata": {},
   "outputs": [
    {
     "data": {
      "text/plain": [
       "0.0"
      ]
     },
     "execution_count": 47,
     "metadata": {},
     "output_type": "execute_result"
    }
   ],
   "source": [
    "chi2_contingency(contingency_table)[1]"
   ]
  },
  {
   "cell_type": "markdown",
   "metadata": {},
   "source": [
    "#### p-value = 0.0 < a = 0.05     \n",
    "#### Значит, при уровне значимости 5% нулевая гипотеза о том, что связь между полом главы семьи и основным источников дохода в семье статистически не значима, отвергается"
   ]
  },
  {
   "cell_type": "markdown",
   "metadata": {},
   "source": [
    "#### --------------------------------------------------------------------------------------------------------------------------------------------------------------------------------------"
   ]
  },
  {
   "cell_type": "markdown",
   "metadata": {},
   "source": [
    "#### Гипотеза H0: связь между полом главы семьи и ее семейным положением статистически не значима\n",
    "#### Альтернативная гипотеза H1: связь между полом главы семьи и ее семейным положением статистически значима"
   ]
  },
  {
   "cell_type": "code",
   "execution_count": 48,
   "metadata": {},
   "outputs": [
    {
     "data": {
      "text/html": [
       "<div>\n",
       "<style scoped>\n",
       "    .dataframe tbody tr th:only-of-type {\n",
       "        vertical-align: middle;\n",
       "    }\n",
       "\n",
       "    .dataframe tbody tr th {\n",
       "        vertical-align: top;\n",
       "    }\n",
       "\n",
       "    .dataframe thead th {\n",
       "        text-align: right;\n",
       "    }\n",
       "</style>\n",
       "<table border=\"1\" class=\"dataframe\">\n",
       "  <thead>\n",
       "    <tr style=\"text-align: right;\">\n",
       "      <th>Household Head Marital Status</th>\n",
       "      <th>Annulled</th>\n",
       "      <th>Divorced/Separated</th>\n",
       "      <th>Married</th>\n",
       "      <th>Single</th>\n",
       "      <th>Unknown</th>\n",
       "      <th>Widowed</th>\n",
       "    </tr>\n",
       "    <tr>\n",
       "      <th>Household Head Sex</th>\n",
       "      <th></th>\n",
       "      <th></th>\n",
       "      <th></th>\n",
       "      <th></th>\n",
       "      <th></th>\n",
       "      <th></th>\n",
       "    </tr>\n",
       "  </thead>\n",
       "  <tbody>\n",
       "    <tr>\n",
       "      <th>Female</th>\n",
       "      <td>5</td>\n",
       "      <td>711</td>\n",
       "      <td>1714</td>\n",
       "      <td>795</td>\n",
       "      <td>1</td>\n",
       "      <td>4998</td>\n",
       "    </tr>\n",
       "    <tr>\n",
       "      <th>Male</th>\n",
       "      <td>2</td>\n",
       "      <td>626</td>\n",
       "      <td>27153</td>\n",
       "      <td>1031</td>\n",
       "      <td>0</td>\n",
       "      <td>1357</td>\n",
       "    </tr>\n",
       "  </tbody>\n",
       "</table>\n",
       "</div>"
      ],
      "text/plain": [
       "Household Head Marital Status  Annulled  Divorced/Separated  Married  Single  \\\n",
       "Household Head Sex                                                             \n",
       "Female                                5                 711     1714     795   \n",
       "Male                                  2                 626    27153    1031   \n",
       "\n",
       "Household Head Marital Status  Unknown  Widowed  \n",
       "Household Head Sex                               \n",
       "Female                               1     4998  \n",
       "Male                                 0     1357  "
      ]
     },
     "execution_count": 48,
     "metadata": {},
     "output_type": "execute_result"
    }
   ],
   "source": [
    "contingency_table = pd.crosstab(df['Household Head Sex'], df['Household Head Marital Status'])\n",
    "contingency_table"
   ]
  },
  {
   "cell_type": "code",
   "execution_count": 49,
   "metadata": {},
   "outputs": [
    {
     "data": {
      "text/plain": [
       "0.0"
      ]
     },
     "execution_count": 49,
     "metadata": {},
     "output_type": "execute_result"
    }
   ],
   "source": [
    "chi2_contingency(contingency_table)[1]"
   ]
  },
  {
   "cell_type": "markdown",
   "metadata": {},
   "source": [
    "#### p-value = 0.0 < a = 0.05     \n",
    "#### Значит, при уровне значимости 5% нулевая гипотеза о том, что связь между полом главы семьи и ее семейным положением статистически не значима, отвергается"
   ]
  },
  {
   "cell_type": "markdown",
   "metadata": {},
   "source": [
    "#### --------------------------------------------------------------------------------------------------------------------------------------------------------------------------------------"
   ]
  },
  {
   "cell_type": "markdown",
   "metadata": {},
   "source": [
    "#### Гипотеза H0: связь между полом главы семьи и ее образованием статистически не значима\n",
    "#### Альтернативная гипотеза H1: связь между полом главы семьи и ее образованием статистически значима"
   ]
  },
  {
   "cell_type": "code",
   "execution_count": 50,
   "metadata": {},
   "outputs": [
    {
     "data": {
      "text/html": [
       "<div>\n",
       "<style scoped>\n",
       "    .dataframe tbody tr th:only-of-type {\n",
       "        vertical-align: middle;\n",
       "    }\n",
       "\n",
       "    .dataframe tbody tr th {\n",
       "        vertical-align: top;\n",
       "    }\n",
       "\n",
       "    .dataframe thead th {\n",
       "        text-align: right;\n",
       "    }\n",
       "</style>\n",
       "<table border=\"1\" class=\"dataframe\">\n",
       "  <thead>\n",
       "    <tr style=\"text-align: right;\">\n",
       "      <th>Household Head Highest Grade Completed</th>\n",
       "      <th>Agriculture, Forestry, and Fishery Programs</th>\n",
       "      <th>Architecture and Building Programs</th>\n",
       "      <th>Arts Programs</th>\n",
       "      <th>Basic Programs</th>\n",
       "      <th>Business and Administration Programs</th>\n",
       "      <th>Computing/Information Technology Programs</th>\n",
       "      <th>Elementary Graduate</th>\n",
       "      <th>Engineering and Engineering Trades Programs</th>\n",
       "      <th>Engineering and Engineering trades Programs</th>\n",
       "      <th>Environmental Protection Programs</th>\n",
       "      <th>...</th>\n",
       "      <th>Second Year High School</th>\n",
       "      <th>Second Year Post Secondary</th>\n",
       "      <th>Security Services Programs</th>\n",
       "      <th>Social Services Programs</th>\n",
       "      <th>Social and Behavioral Science Programs</th>\n",
       "      <th>Teacher Training and Education Sciences Programs</th>\n",
       "      <th>Third Year College</th>\n",
       "      <th>Third Year High School</th>\n",
       "      <th>Transport Services Programs</th>\n",
       "      <th>Veterinary Programs</th>\n",
       "    </tr>\n",
       "    <tr>\n",
       "      <th>Household Head Sex</th>\n",
       "      <th></th>\n",
       "      <th></th>\n",
       "      <th></th>\n",
       "      <th></th>\n",
       "      <th></th>\n",
       "      <th></th>\n",
       "      <th></th>\n",
       "      <th></th>\n",
       "      <th></th>\n",
       "      <th></th>\n",
       "      <th></th>\n",
       "      <th></th>\n",
       "      <th></th>\n",
       "      <th></th>\n",
       "      <th></th>\n",
       "      <th></th>\n",
       "      <th></th>\n",
       "      <th></th>\n",
       "      <th></th>\n",
       "      <th></th>\n",
       "      <th></th>\n",
       "    </tr>\n",
       "  </thead>\n",
       "  <tbody>\n",
       "    <tr>\n",
       "      <th>Female</th>\n",
       "      <td>21</td>\n",
       "      <td>2</td>\n",
       "      <td>3</td>\n",
       "      <td>3</td>\n",
       "      <td>450</td>\n",
       "      <td>46</td>\n",
       "      <td>1726</td>\n",
       "      <td>26</td>\n",
       "      <td>6</td>\n",
       "      <td>0</td>\n",
       "      <td>...</td>\n",
       "      <td>419</td>\n",
       "      <td>15</td>\n",
       "      <td>3</td>\n",
       "      <td>9</td>\n",
       "      <td>26</td>\n",
       "      <td>432</td>\n",
       "      <td>160</td>\n",
       "      <td>255</td>\n",
       "      <td>2</td>\n",
       "      <td>1</td>\n",
       "    </tr>\n",
       "    <tr>\n",
       "      <th>Male</th>\n",
       "      <td>138</td>\n",
       "      <td>14</td>\n",
       "      <td>11</td>\n",
       "      <td>19</td>\n",
       "      <td>478</td>\n",
       "      <td>194</td>\n",
       "      <td>5751</td>\n",
       "      <td>436</td>\n",
       "      <td>458</td>\n",
       "      <td>6</td>\n",
       "      <td>...</td>\n",
       "      <td>1643</td>\n",
       "      <td>110</td>\n",
       "      <td>165</td>\n",
       "      <td>0</td>\n",
       "      <td>63</td>\n",
       "      <td>258</td>\n",
       "      <td>612</td>\n",
       "      <td>1244</td>\n",
       "      <td>185</td>\n",
       "      <td>3</td>\n",
       "    </tr>\n",
       "  </tbody>\n",
       "</table>\n",
       "<p>2 rows × 46 columns</p>\n",
       "</div>"
      ],
      "text/plain": [
       "Household Head Highest Grade Completed  Agriculture, Forestry, and Fishery Programs  \\\n",
       "Household Head Sex                                                                    \n",
       "Female                                                                           21   \n",
       "Male                                                                            138   \n",
       "\n",
       "Household Head Highest Grade Completed  Architecture and Building Programs  \\\n",
       "Household Head Sex                                                           \n",
       "Female                                                                   2   \n",
       "Male                                                                    14   \n",
       "\n",
       "Household Head Highest Grade Completed  Arts Programs  Basic Programs  \\\n",
       "Household Head Sex                                                      \n",
       "Female                                              3               3   \n",
       "Male                                               11              19   \n",
       "\n",
       "Household Head Highest Grade Completed  Business and Administration Programs  \\\n",
       "Household Head Sex                                                             \n",
       "Female                                                                   450   \n",
       "Male                                                                     478   \n",
       "\n",
       "Household Head Highest Grade Completed  Computing/Information Technology Programs  \\\n",
       "Household Head Sex                                                                  \n",
       "Female                                                                         46   \n",
       "Male                                                                          194   \n",
       "\n",
       "Household Head Highest Grade Completed  Elementary Graduate  \\\n",
       "Household Head Sex                                            \n",
       "Female                                                 1726   \n",
       "Male                                                   5751   \n",
       "\n",
       "Household Head Highest Grade Completed  Engineering and Engineering Trades Programs  \\\n",
       "Household Head Sex                                                                    \n",
       "Female                                                                           26   \n",
       "Male                                                                            436   \n",
       "\n",
       "Household Head Highest Grade Completed  Engineering and Engineering trades Programs  \\\n",
       "Household Head Sex                                                                    \n",
       "Female                                                                            6   \n",
       "Male                                                                            458   \n",
       "\n",
       "Household Head Highest Grade Completed  Environmental Protection Programs  \\\n",
       "Household Head Sex                                                          \n",
       "Female                                                                  0   \n",
       "Male                                                                    6   \n",
       "\n",
       "Household Head Highest Grade Completed  ...  Second Year High School  \\\n",
       "Household Head Sex                      ...                            \n",
       "Female                                  ...                      419   \n",
       "Male                                    ...                     1643   \n",
       "\n",
       "Household Head Highest Grade Completed  Second Year Post Secondary  \\\n",
       "Household Head Sex                                                   \n",
       "Female                                                          15   \n",
       "Male                                                           110   \n",
       "\n",
       "Household Head Highest Grade Completed  Security Services Programs  \\\n",
       "Household Head Sex                                                   \n",
       "Female                                                           3   \n",
       "Male                                                           165   \n",
       "\n",
       "Household Head Highest Grade Completed  Social Services Programs  \\\n",
       "Household Head Sex                                                 \n",
       "Female                                                         9   \n",
       "Male                                                           0   \n",
       "\n",
       "Household Head Highest Grade Completed  Social and Behavioral Science Programs  \\\n",
       "Household Head Sex                                                               \n",
       "Female                                                                      26   \n",
       "Male                                                                        63   \n",
       "\n",
       "Household Head Highest Grade Completed  Teacher Training and Education Sciences Programs  \\\n",
       "Household Head Sex                                                                         \n",
       "Female                                                                               432   \n",
       "Male                                                                                 258   \n",
       "\n",
       "Household Head Highest Grade Completed  Third Year College  \\\n",
       "Household Head Sex                                           \n",
       "Female                                                 160   \n",
       "Male                                                   612   \n",
       "\n",
       "Household Head Highest Grade Completed  Third Year High School  \\\n",
       "Household Head Sex                                               \n",
       "Female                                                     255   \n",
       "Male                                                      1244   \n",
       "\n",
       "Household Head Highest Grade Completed  Transport Services Programs  \\\n",
       "Household Head Sex                                                    \n",
       "Female                                                            2   \n",
       "Male                                                            185   \n",
       "\n",
       "Household Head Highest Grade Completed  Veterinary Programs  \n",
       "Household Head Sex                                           \n",
       "Female                                                    1  \n",
       "Male                                                      3  \n",
       "\n",
       "[2 rows x 46 columns]"
      ]
     },
     "execution_count": 50,
     "metadata": {},
     "output_type": "execute_result"
    }
   ],
   "source": [
    "contingency_table = pd.crosstab(df['Household Head Sex'], df['Household Head Highest Grade Completed'])\n",
    "contingency_table"
   ]
  },
  {
   "cell_type": "code",
   "execution_count": 51,
   "metadata": {},
   "outputs": [
    {
     "data": {
      "text/plain": [
       "0.0"
      ]
     },
     "execution_count": 51,
     "metadata": {},
     "output_type": "execute_result"
    }
   ],
   "source": [
    "chi2_contingency(contingency_table)[1]"
   ]
  },
  {
   "cell_type": "markdown",
   "metadata": {},
   "source": [
    "#### p-value = 0.0 < a = 0.05     \n",
    "#### Значит, при уровне значимости 5% нулевая гипотеза о том, что связь между полом главы семьи и ее образованием статистически не значима, отвергается"
   ]
  },
  {
   "cell_type": "markdown",
   "metadata": {},
   "source": [
    "#### --------------------------------------------------------------------------------------------------------------------------------------------------------------------------------------"
   ]
  },
  {
   "cell_type": "code",
   "execution_count": 52,
   "metadata": {},
   "outputs": [
    {
     "name": "stdout",
     "output_type": "stream",
     "text": [
      "coefficient of determination: 0.51\n",
      "intercept: 31848.09\n",
      "slope: [0.23940091]\n"
     ]
    }
   ],
   "source": [
    "x = np.array(df['Total Household Income']).reshape((-1, 1))\n",
    "y = np.array(df['Total Food Expenditure'])\n",
    "model = LinearRegression().fit(x,y)\n",
    "print('coefficient of determination:', round(model.score(x, y), 2))\n",
    "print('intercept:', round(model.intercept_,2))\n",
    "print('slope:', model.coef_)"
   ]
  },
  {
   "cell_type": "markdown",
   "metadata": {},
   "source": [
    "#### Данная модель с одним предиктором (общий доход домохозяйства) рассматривает 51% дисперсии зависимой переменной (затраты семьи на еду)\n",
    "\n",
    "#### Уравнение регрессионной прямой: y = 31848.09 + 0.24*x"
   ]
  },
  {
   "cell_type": "markdown",
   "metadata": {},
   "source": [
    "#### --------------------------------------------------------------------------------------------------------------------------------------------------------------------------------------"
   ]
  },
  {
   "cell_type": "code",
   "execution_count": 53,
   "metadata": {},
   "outputs": [
    {
     "name": "stdout",
     "output_type": "stream",
     "text": [
      "coefficient of determination: 0.07\n",
      "intercept: -1553.95\n",
      "slope: [0.03558639]\n"
     ]
    }
   ],
   "source": [
    "x = np.array(df['Total Household Income']).reshape((-1, 1))\n",
    "y = np.array(df['Medical Care Expenditure'])\n",
    "model = LinearRegression().fit(x,y)\n",
    "print('coefficient of determination:', round(model.score(x, y), 2))\n",
    "print('intercept:', round(model.intercept_,2))\n",
    "print('slope:', model.coef_)"
   ]
  },
  {
   "cell_type": "markdown",
   "metadata": {},
   "source": [
    "#### Данная модель с одним предиктором (общий доход домохозяйства) рассматривает 7% дисперсии зависимой переменной (затраты семьи на медицинское обслуживание)\n",
    "\n",
    "#### Уравнение регрессионной прямой: y = -1553.95 + 0.035*x"
   ]
  },
  {
   "cell_type": "markdown",
   "metadata": {},
   "source": [
    "#### --------------------------------------------------------------------------------------------------------------------------------------------------------------------------------------"
   ]
  },
  {
   "cell_type": "code",
   "execution_count": 54,
   "metadata": {},
   "outputs": [
    {
     "name": "stdout",
     "output_type": "stream",
     "text": [
      "coefficient of determination: 0.3\n",
      "intercept: -57.68\n",
      "slope: [0.0208278]\n"
     ]
    }
   ],
   "source": [
    "x = np.array(df['Total Household Income']).reshape((-1, 1))\n",
    "y = np.array(df['Clothing, Footwear and Other Wear Expenditure'])\n",
    "model = LinearRegression().fit(x,y)\n",
    "print('coefficient of determination:', round(model.score(x, y), 2))\n",
    "print('intercept:', round(model.intercept_,2))\n",
    "print('slope:', model.coef_)"
   ]
  },
  {
   "cell_type": "markdown",
   "metadata": {},
   "source": [
    "#### Данная модель с одним предиктором (общий доход домохозяйства) рассматривает 30% дисперсии зависимой переменной (затраты семьи на одежду)\n",
    "\n",
    "#### Уравнение регрессионной прямой: y = -57.68 + 0.02*x"
   ]
  },
  {
   "cell_type": "markdown",
   "metadata": {},
   "source": [
    "#### --------------------------------------------------------------------------------------------------------------------------------------------------------------------------------------"
   ]
  },
  {
   "cell_type": "code",
   "execution_count": 55,
   "metadata": {},
   "outputs": [
    {
     "name": "stdout",
     "output_type": "stream",
     "text": [
      "coefficient of determination: 0.06\n",
      "intercept: 157292.71\n",
      "slope: [26783.30461638]\n"
     ]
    }
   ],
   "source": [
    "x = np.array(df['Total number of family members employed']).reshape((-1, 1))\n",
    "y = np.array(df['Total Household Income'])\n",
    "model = LinearRegression().fit(x,y)\n",
    "print('coefficient of determination:', round(model.score(x, y), 2))\n",
    "print('intercept:', round(model.intercept_,2))\n",
    "print('slope:', model.coef_)"
   ]
  },
  {
   "cell_type": "markdown",
   "metadata": {},
   "source": [
    "#### Данная модель с одним предиктором (число работающих членов семьи) рассматривает 6% дисперсии зависимой переменной (общий доход домохозяйства)\n",
    "\n",
    "#### Уравнение регрессионной прямой: y = 157292.71 + 26783.3*x"
   ]
  },
  {
   "cell_type": "markdown",
   "metadata": {},
   "source": [
    "#### --------------------------------------------------------------------------------------------------------------------------------------------------------------------------------------"
   ]
  },
  {
   "cell_type": "code",
   "execution_count": 56,
   "metadata": {},
   "outputs": [
    {
     "name": "stdout",
     "output_type": "stream",
     "text": [
      "coefficient of determination: 0.0\n",
      "intercept: 86894.15\n",
      "slope: [-187.70240782]\n"
     ]
    }
   ],
   "source": [
    "x = np.array(df['Household Head Age']).reshape((-1, 1))\n",
    "y = np.array(df['Total Food Expenditure'])\n",
    "model = LinearRegression().fit(x,y)\n",
    "print('coefficient of determination:', round(model.score(x, y), 2))\n",
    "print('intercept:', round(model.intercept_,2))\n",
    "print('slope:', model.coef_)"
   ]
  },
  {
   "cell_type": "markdown",
   "metadata": {},
   "source": [
    "#### Данная модель с одним предиктором (возраст главы семьи) рассматривает 0% дисперсии зависимой переменной (затраты семьи на еду)\n",
    "\n",
    "#### Уравнение регрессионной прямой: y = 86894.15 - 187.7*x"
   ]
  },
  {
   "cell_type": "markdown",
   "metadata": {},
   "source": [
    "#### --------------------------------------------------------------------------------------------------------------------------------------------------------------------------------------"
   ]
  },
  {
   "cell_type": "code",
   "execution_count": 57,
   "metadata": {},
   "outputs": [
    {
     "name": "stdout",
     "output_type": "stream",
     "text": [
      "coefficient of determination: 0.0\n",
      "intercept: 173170.2\n",
      "slope: [327.26186671]\n"
     ]
    }
   ],
   "source": [
    "x = np.array(df['Household Head Age']).reshape((-1, 1))\n",
    "y = np.array(df['Total Household Income'])\n",
    "model = LinearRegression().fit(x,y)\n",
    "print('coefficient of determination:', round(model.score(x, y), 2))\n",
    "print('intercept:', round(model.intercept_,2))\n",
    "print('slope:', model.coef_)"
   ]
  },
  {
   "cell_type": "markdown",
   "metadata": {},
   "source": [
    "#### Данная модель с одним предиктором (возраст главы семьи) рассматривает 0% дисперсии зависимой переменной (общий доход семьи)\n",
    "\n",
    "#### Уравнение регрессионной прямой: y = 173170.2 + 327.26*x"
   ]
  },
  {
   "cell_type": "markdown",
   "metadata": {},
   "source": [
    "#### --------------------------------------------------------------------------------------------------------------------------------------------------------------------------------------"
   ]
  },
  {
   "cell_type": "code",
   "execution_count": 58,
   "metadata": {},
   "outputs": [
    {
     "name": "stdout",
     "output_type": "stream",
     "text": [
      "coefficient of determination: 0.0\n",
      "intercept: 73199.47\n",
      "slope: [5227.10600101]\n"
     ]
    }
   ],
   "source": [
    "x = np.array(pd.get_dummies(df['Household Head Sex'], drop_first = True)).reshape((-1, 1))\n",
    "y = np.array(df['Total Food Expenditure'])\n",
    "model = LinearRegression().fit(x,y)\n",
    "print('coefficient of determination:', round(model.score(x, y), 2))\n",
    "print('intercept:', round(model.intercept_,2))\n",
    "print('slope:', model.coef_)"
   ]
  },
  {
   "cell_type": "markdown",
   "metadata": {},
   "source": [
    "#### Данная модель с одним предиктором (пол главы семьи) рассматривает 0% дисперсии зависимой переменной (затраты семьи на еду)\n",
    "\n",
    "#### Уравнение регрессионной прямой: y = 73199.47 + 5227.11*x"
   ]
  },
  {
   "cell_type": "markdown",
   "metadata": {},
   "source": [
    "#### --------------------------------------------------------------------------------------------------------------------------------------------------------------------------------------"
   ]
  },
  {
   "cell_type": "code",
   "execution_count": 59,
   "metadata": {},
   "outputs": [
    {
     "name": "stdout",
     "output_type": "stream",
     "text": [
      "coefficient of determination: 0.0\n",
      "intercept: 197768.24\n",
      "slope: [-10031.29743945]\n"
     ]
    }
   ],
   "source": [
    "x = np.array(pd.get_dummies(df['Household Head Sex'], drop_first = True)).reshape((-1, 1))\n",
    "y = np.array(df['Total Household Income'])\n",
    "model = LinearRegression().fit(x,y)\n",
    "print('coefficient of determination:', round(model.score(x, y), 2))\n",
    "print('intercept:', round(model.intercept_,2))\n",
    "print('slope:', model.coef_)"
   ]
  },
  {
   "cell_type": "markdown",
   "metadata": {},
   "source": [
    "#### Данная модель с одним предиктором (пол главы семьи) рассматривает 0% дисперсии зависимой переменной (общий доход семьи)\n",
    "\n",
    "#### Уравнение регрессионной прямой: y = 197768.24 - 10031.3*x"
   ]
  },
  {
   "cell_type": "markdown",
   "metadata": {},
   "source": [
    "#### --------------------------------------------------------------------------------------------------------------------------------------------------------------------------------------"
   ]
  },
  {
   "cell_type": "code",
   "execution_count": 60,
   "metadata": {},
   "outputs": [
    {
     "name": "stdout",
     "output_type": "stream",
     "text": [
      "                              OLS Regression Results                              \n",
      "==================================================================================\n",
      "Dep. Variable:     Total Household Income   R-squared:                       0.744\n",
      "Model:                                OLS   Adj. R-squared:                  0.741\n",
      "Method:                     Least Squares   F-statistic:                     246.0\n",
      "Date:                    Mon, 12 Jun 2023   Prob (F-statistic):               0.00\n",
      "Time:                            19:17:03   Log-Likelihood:            -4.7749e+05\n",
      "No. Observations:                   38393   AIC:                         9.559e+05\n",
      "Df Residuals:                       37943   BIC:                         9.597e+05\n",
      "Df Model:                             449                                         \n",
      "Covariance Type:                nonrobust                                         \n",
      "==============================================================================================================================================================================================================================================================================================================================\n",
      "                                                                                                                                                                                                                                                                 coef    std err          t      P>|t|      [0.025      0.975]\n",
      "------------------------------------------------------------------------------------------------------------------------------------------------------------------------------------------------------------------------------------------------------------------------------------------------------------------------------\n",
      "const                                                                                                                                                                                                                                                      -1.557e+04   2.51e+04     -0.621      0.534   -6.47e+04    3.35e+04\n",
      "Total Food Expenditure                                                                                                                                                                                                                                         1.3068      0.014     91.821      0.000       1.279       1.335\n",
      "Restaurant and hotels Expenditure                                                                                                                                                                                                                             -0.2491      0.025     -9.829      0.000      -0.299      -0.199\n",
      "Clothing, Footwear and Other Wear Expenditure                                                                                                                                                                                                                  4.5441      0.084     54.391      0.000       4.380       4.708\n",
      "Imputed House Rental Value                                                                                                                                                                                                                                     1.4370      0.021     69.365      0.000       1.396       1.478\n",
      "Medical Care Expenditure                                                                                                                                                                                                                                       0.8351      0.020     41.718      0.000       0.796       0.874\n",
      "Education Expenditure                                                                                                                                                                                                                                          1.1597      0.028     42.124      0.000       1.106       1.214\n",
      "Household Head Age                                                                                                                                                                                                                                           379.9224     29.433     12.908      0.000     322.232     437.613\n",
      "Total Number of Family members                                                                                                                                                                                                                             -2276.8376    202.433    -11.247      0.000   -2673.612   -1880.063\n",
      "Total number of family members employed                                                                                                                                                                                                                     1.454e+04    397.477     36.572      0.000    1.38e+04    1.53e+04\n",
      "Number of Car, Jeep, Van                                                                                                                                                                                                                                    3.319e+04   1632.774     20.325      0.000       3e+04    3.64e+04\n",
      "Region_CAR                                                                                                                                                                                                                                                  3131.3932   2193.880      1.427      0.153   -1168.670    7431.457\n",
      "Region_Caraga                                                                                                                                                                                                                                              -9513.0127   2129.500     -4.467      0.000   -1.37e+04   -5339.136\n",
      "Region_I - Ilocos Region                                                                                                                                                                                                                                    5555.4483   2046.933      2.714      0.007    1543.406    9567.491\n",
      "Region_II - Cagayan Valley                                                                                                                                                                                                                                  1.942e+04   2077.374      9.350      0.000    1.54e+04    2.35e+04\n",
      "Region_III - Central Luzon                                                                                                                                                                                                                                  6309.9499   1952.150      3.232      0.001    2483.683    1.01e+04\n",
      "Region_IVA - CALABARZON                                                                                                                                                                                                                                     1766.7504   1892.288      0.934      0.350   -1942.184    5475.684\n",
      "Region_IVB - MIMAROPA                                                                                                                                                                                                                                       4713.6051   2329.841      2.023      0.043     147.056    9280.155\n",
      "Region_IX - Zasmboanga Peninsula                                                                                                                                                                                                                            3415.7840   2084.720      1.638      0.101    -670.323    7501.891\n",
      "Region_NCR                                                                                                                                                                                                                                                  1.834e+04   1996.487      9.189      0.000    1.44e+04    2.23e+04\n",
      "Region_V - Bicol Region                                                                                                                                                                                                                                    -1.344e+04   1962.621     -6.845      0.000   -1.73e+04   -9588.283\n",
      "Region_VI - Western Visayas                                                                                                                                                                                                                                -6587.8032   1947.765     -3.382      0.001   -1.04e+04   -2770.132\n",
      "Region_VII - Central Visayas                                                                                                                                                                                                                               -7669.1912   1983.372     -3.867      0.000   -1.16e+04   -3781.730\n",
      "Region_VIII - Eastern Visayas                                                                                                                                                                                                                              -4108.3582   1984.821     -2.070      0.038   -7998.660    -218.056\n",
      "Region_X - Northern Mindanao                                                                                                                                                                                                                                8967.8731   2098.588      4.273      0.000    4854.586    1.31e+04\n",
      "Region_XI - Davao Region                                                                                                                                                                                                                                    1.042e+04   1991.955      5.229      0.000    6512.291    1.43e+04\n",
      "Region_XII - SOCCSKSARGEN                                                                                                                                                                                                                                  -1.354e+04   2019.473     -6.703      0.000   -1.75e+04   -9577.759\n",
      "Main Source of Income_Other sources of Income                                                                                                                                                                                                              -8669.0881   1020.912     -8.492      0.000   -1.07e+04   -6668.074\n",
      "Main Source of Income_Wage/Salaries                                                                                                                                                                                                                         2305.1927   1031.193      2.235      0.025     284.028    4326.358\n",
      "Household Head Sex_Male                                                                                                                                                                                                                                    -2614.9677   1171.081     -2.233      0.026   -4910.317    -319.618\n",
      "Household Head Marital Status_Divorced/Separated                                                                                                                                                                                                            5.618e+04   2.44e+04      2.299      0.021    8288.468    1.04e+05\n",
      "Household Head Marital Status_Married                                                                                                                                                                                                                       6.432e+04   2.44e+04      2.638      0.008    1.65e+04    1.12e+05\n",
      "Household Head Marital Status_Single                                                                                                                                                                                                                        5.606e+04   2.44e+04      2.296      0.022    8197.587    1.04e+05\n",
      "Household Head Marital Status_Unknown                                                                                                                                                                                                                       3.094e+04    6.6e+04      0.469      0.639   -9.85e+04     1.6e+05\n",
      "Household Head Marital Status_Widowed                                                                                                                                                                                                                       5.766e+04   2.44e+04      2.364      0.018    9862.944    1.05e+05\n",
      "Household Head Highest Grade Completed_Architecture and Building Programs                                                                                                                                                                                   2.843e+04   1.87e+04      1.523      0.128   -8160.770     6.5e+04\n",
      "Household Head Highest Grade Completed_Arts Programs                                                                                                                                                                                                       -1.674e+04   1.74e+04     -0.962      0.336   -5.09e+04    1.74e+04\n",
      "Household Head Highest Grade Completed_Basic Programs                                                                                                                                                                                                       3.698e+04   1.42e+04      2.600      0.009    9103.326    6.49e+04\n",
      "Household Head Highest Grade Completed_Business and Administration Programs                                                                                                                                                                                 6381.9490   5527.721      1.155      0.248   -4452.530    1.72e+04\n",
      "Household Head Highest Grade Completed_Computing/Information Technology Programs                                                                                                                                                                            1285.2010   6532.848      0.197      0.844   -1.15e+04    1.41e+04\n",
      "Household Head Highest Grade Completed_Elementary Graduate                                                                                                                                                                                                 -2.833e+04   5190.666     -5.459      0.000   -3.85e+04   -1.82e+04\n",
      "Household Head Highest Grade Completed_Engineering and Engineering Trades Programs                                                                                                                                                                          5735.2871   5916.498      0.969      0.332   -5861.207    1.73e+04\n",
      "Household Head Highest Grade Completed_Engineering and Engineering trades Programs                                                                                                                                                                         -1.144e+04   5890.082     -1.942      0.052    -2.3e+04     108.896\n",
      "Household Head Highest Grade Completed_Environmental Protection Programs                                                                                                                                                                                    3679.3872    2.6e+04      0.142      0.887   -4.72e+04    5.46e+04\n",
      "Household Head Highest Grade Completed_First Year College                                                                                                                                                                                                  -1.334e+04   5556.783     -2.400      0.016   -2.42e+04   -2447.101\n",
      "Household Head Highest Grade Completed_First Year High School                                                                                                                                                                                              -2.658e+04   5431.337     -4.894      0.000   -3.72e+04   -1.59e+04\n",
      "Household Head Highest Grade Completed_First Year Post Secondary                                                                                                                                                                                           -1.057e+04   7874.208     -1.342      0.180    -2.6e+04    4867.466\n",
      "Household Head Highest Grade Completed_Fourth Year College                                                                                                                                                                                                  -195.8533   8053.639     -0.024      0.981    -1.6e+04    1.56e+04\n",
      "Household Head Highest Grade Completed_Grade 1                                                                                                                                                                                                             -3.523e+04   5562.399     -6.333      0.000   -4.61e+04   -2.43e+04\n",
      "Household Head Highest Grade Completed_Grade 2                                                                                                                                                                                                             -3.307e+04   5426.749     -6.093      0.000   -4.37e+04   -2.24e+04\n",
      "Household Head Highest Grade Completed_Grade 3                                                                                                                                                                                                             -3.175e+04   5332.934     -5.953      0.000   -4.22e+04   -2.13e+04\n",
      "Household Head Highest Grade Completed_Grade 4                                                                                                                                                                                                             -3.263e+04   5310.518     -6.144      0.000    -4.3e+04   -2.22e+04\n",
      "Household Head Highest Grade Completed_Grade 5                                                                                                                                                                                                             -3.249e+04   5319.564     -6.107      0.000   -4.29e+04   -2.21e+04\n",
      "Household Head Highest Grade Completed_Grade 6                                                                                                                                                                                                             -2.932e+04   6529.005     -4.491      0.000   -4.21e+04   -1.65e+04\n",
      "Household Head Highest Grade Completed_Health Programs                                                                                                                                                                                                     -1061.3331   6884.957     -0.154      0.877   -1.46e+04    1.24e+04\n",
      "Household Head Highest Grade Completed_High School Graduate                                                                                                                                                                                                -1.755e+04   5171.763     -3.393      0.001   -2.77e+04   -7409.286\n",
      "Household Head Highest Grade Completed_Humanities Programs                                                                                                                                                                                                  3957.0701   1.06e+04      0.373      0.709   -1.69e+04    2.48e+04\n",
      "Household Head Highest Grade Completed_Journalism and Information Programs                                                                                                                                                                                  4.316e+04   1.74e+04      2.481      0.013    9063.684    7.73e+04\n",
      "Household Head Highest Grade Completed_Law Programs                                                                                                                                                                                                        -8260.3348   2.41e+04     -0.343      0.731   -5.54e+04    3.89e+04\n",
      "Household Head Highest Grade Completed_Life Sciences Programs                                                                                                                                                                                               6.966e+04   2.05e+04      3.405      0.001    2.96e+04     1.1e+05\n",
      "Household Head Highest Grade Completed_Manufacturing and Processing Programs                                                                                                                                                                               -2273.6035   1.73e+04     -0.131      0.896   -3.63e+04    3.17e+04\n",
      "Household Head Highest Grade Completed_Mathematics and Statistics Programs                                                                                                                                                                                  1.001e+04   2.61e+04      0.383      0.702   -4.12e+04    6.13e+04\n",
      "Household Head Highest Grade Completed_No Grade Completed                                                                                                                                                                                                   -3.69e+04   5460.866     -6.756      0.000   -4.76e+04   -2.62e+04\n",
      "Household Head Highest Grade Completed_Other Programs in Education at the Third Level, First Stage, of the Type that Leads to an Award not Equivalent to a First University or Baccalaureate Degree                                                        -1.554e+04   9806.895     -1.585      0.113   -3.48e+04    3679.857\n",
      "Household Head Highest Grade Completed_Other Programs of Education at the Third Level, First Stage, of the Type that Leads to a Baccalaureate or First University/Professional Degree (HIgher Education Level, First Stage, or Collegiate Education Level) -2.389e+04   3.22e+04     -0.741      0.458   -8.71e+04    3.93e+04\n",
      "Household Head Highest Grade Completed_Personal Services Programs                                                                                                                                                                                          -1107.3822   9084.934     -0.122      0.903   -1.89e+04    1.67e+04\n",
      "Household Head Highest Grade Completed_Physical Sciences Programs                                                                                                                                                                                            4.73e+04   2.81e+04      1.684      0.092   -7740.599    1.02e+05\n",
      "Household Head Highest Grade Completed_Post Baccalaureate                                                                                                                                                                                                   2.739e+04   8894.473      3.080      0.002    9957.803    4.48e+04\n",
      "Household Head Highest Grade Completed_Preschool                                                                                                                                                                                                           -1.652e+04   1.67e+04     -0.991      0.321   -4.92e+04    1.61e+04\n",
      "Household Head Highest Grade Completed_Second Year College                                                                                                                                                                                                 -8286.0750   5432.553     -1.525      0.127   -1.89e+04    2361.873\n",
      "Household Head Highest Grade Completed_Second Year High School                                                                                                                                                                                             -2.671e+04   5311.917     -5.029      0.000   -3.71e+04   -1.63e+04\n",
      "Household Head Highest Grade Completed_Second Year Post Secondary                                                                                                                                                                                          -1.396e+04   7556.971     -1.848      0.065   -2.88e+04     847.219\n",
      "Household Head Highest Grade Completed_Security Services Programs                                                                                                                                                                                           9380.6421   7202.097      1.302      0.193   -4735.658    2.35e+04\n",
      "Household Head Highest Grade Completed_Social Services Programs                                                                                                                                                                                             1095.7509    2.3e+04      0.048      0.962   -4.39e+04    4.61e+04\n",
      "Household Head Highest Grade Completed_Social and Behavioral Science Programs                                                                                                                                                                               -1.07e+04   8362.363     -1.279      0.201   -2.71e+04    5694.981\n",
      "Household Head Highest Grade Completed_Teacher Training and Education Sciences Programs                                                                                                                                                                     1.578e+04   5788.451      2.726      0.006    4435.640    2.71e+04\n",
      "Household Head Highest Grade Completed_Third Year College                                                                                                                                                                                                  -6004.5192   5571.365     -1.078      0.281   -1.69e+04    4915.503\n",
      "Household Head Highest Grade Completed_Third Year High School                                                                                                                                                                                              -2.375e+04   5376.971     -4.416      0.000   -3.43e+04   -1.32e+04\n",
      "Household Head Highest Grade Completed_Transport Services Programs                                                                                                                                                                                         -1.244e+04   6831.214     -1.821      0.069   -2.58e+04     950.637\n",
      "Household Head Highest Grade Completed_Veterinary Programs                                                                                                                                                                                                  4.973e+04   3.34e+04      1.487      0.137   -1.58e+04    1.15e+05\n",
      "Household Head Occupation_Accounting and bookkeeping clerks                                                                                                                                                                                                   5.4e+04   9162.279      5.894      0.000     3.6e+04     7.2e+04\n",
      "Household Head Occupation_Administrative secretaries and related associate professionals                                                                                                                                                                    1.844e+04   1.43e+04      1.286      0.198   -9665.875    4.66e+04\n",
      "Household Head Occupation_Advertising and public relations managers                                                                                                                                                                                          1.85e+04   6.14e+04      0.301      0.763   -1.02e+05    1.39e+05\n",
      "Household Head Occupation_Agricultural or industrial machinery mechanics and fitters                                                                                                                                                                         1.61e+04    2.2e+04      0.731      0.465    -2.7e+04    5.92e+04\n",
      "Household Head Occupation_Agronomists and related scientists                                                                                                                                                                                                 9.96e+04   4.39e+04      2.270      0.023    1.36e+04    1.86e+05\n",
      "Household Head Occupation_Air traffic safety technicians                                                                                                                                                                                                    8.485e+04   3.57e+04      2.375      0.018    1.48e+04    1.55e+05\n",
      "Household Head Occupation_Aircraft engine mechanics and fitters                                                                                                                                                                                             3.508e+04   6.15e+04      0.570      0.569   -8.55e+04    1.56e+05\n",
      "Household Head Occupation_Appraisers and valuers                                                                                                                                                                                                            5.185e+04   4.36e+04      1.189      0.235   -3.36e+04    1.37e+05\n",
      "Household Head Occupation_Architects                                                                                                                                                                                                                        5.729e+04   3.58e+04      1.602      0.109   -1.28e+04    1.27e+05\n",
      "Household Head Occupation_Assembling laborers                                                                                                                                                                                                               2.314e+04   1.18e+04      1.965      0.049      52.863    4.62e+04\n",
      "Household Head Occupation_Athletes and related workers                                                                                                                                                                                                      1.075e+04   1.88e+04      0.571      0.568   -2.61e+04    4.76e+04\n",
      "Household Head Occupation_Automated assembly-line operators                                                                                                                                                                                                 3.916e+04   3.57e+04      1.098      0.272   -3.08e+04    1.09e+05\n",
      "Household Head Occupation_Baked goods and cereal and chocolate products machine operators                                                                                                                                                                   3.557e+04   2.35e+04      1.515      0.130   -1.04e+04    8.16e+04\n",
      "Household Head Occupation_Bakers, pastry cooks and confectionery makers                                                                                                                                                                                     9671.4408   8085.309      1.196      0.232   -6175.980    2.55e+04\n",
      "Household Head Occupation_Basketry weavers, brush makers and related workers                                                                                                                                                                               -7895.4944   1.52e+04     -0.521      0.602   -3.76e+04    2.18e+04\n",
      "Household Head Occupation_Bet bookmakers and croupiers                                                                                                                                                                                                      7971.7463   6316.726      1.262      0.207   -4409.205    2.04e+04\n",
      "Household Head Occupation_Blacksmiths, hammersmiths, and forging-press workers                                                                                                                                                                              3142.7574   3.56e+04      0.088      0.930   -6.66e+04    7.29e+04\n",
      "Household Head Occupation_Bleaching, dyeing and cleaning machine operators                                                                                                                                                                                  3.709e+04   3.57e+04      1.039      0.299   -3.29e+04    1.07e+05\n",
      "Household Head Occupation_Bookbinders and related workers                                                                                                                                                                                                  -5909.5015   4.35e+04     -0.136      0.892   -9.12e+04    7.94e+04\n",
      "Household Head Occupation_Bookkeepers                                                                                                                                                                                                                       8.137e+04   1.69e+04      4.816      0.000    4.83e+04    1.14e+05\n",
      "Household Head Occupation_Brewers and wine and other beverage machine operators                                                                                                                                                                             6075.2115   2.77e+04      0.219      0.826   -4.82e+04    6.04e+04\n",
      "Household Head Occupation_Broadcasting and telecommunications equipment operators                                                                                                                                                                           1.049e+04   2.77e+04      0.379      0.705   -4.38e+04    6.48e+04\n",
      "Household Head Occupation_Builders (traditional materials)                                                                                                                                                                                                  9087.5430   6.14e+04      0.148      0.882   -1.11e+05     1.3e+05\n",
      "Household Head Occupation_Building and fire inspectors                                                                                                                                                                                                      1.227e+05   3.63e+04      3.376      0.001    5.14e+04    1.94e+05\n",
      "Household Head Occupation_Building and related electricians                                                                                                                                                                                                 1.706e+04   5881.541      2.900      0.004    5528.320    2.86e+04\n",
      "Household Head Occupation_Building caretakers                                                                                                                                                                                                                1.43e+04   6188.089      2.311      0.021    2171.363    2.64e+04\n",
      "Household Head Occupation_Building construction laborers                                                                                                                                                                                                    8081.3331   4129.217      1.957      0.050     -12.043    1.62e+04\n",
      "Household Head Occupation_Building frame and related trades workers n. e. c.                                                                                                                                                                                5.686e+04   3.09e+04      1.841      0.066   -3683.198    1.17e+05\n",
      "Household Head Occupation_Bus drivers                                                                                                                                                                                                                       2.971e+04   9116.732      3.259      0.001    1.18e+04    4.76e+04\n",
      "Household Head Occupation_Business machines mechanics and repairers                                                                                                                                                                                         3710.4989   6.14e+04      0.060      0.952   -1.17e+05    1.24e+05\n",
      "Household Head Occupation_Butchers, fishmongers and related food preparers                                                                                                                                                                                  2.151e+04   9215.031      2.334      0.020    3445.394    3.96e+04\n",
      "Household Head Occupation_Buyers                                                                                                                                                                                                                            3.359e+04   2.07e+04      1.624      0.104   -6946.155    7.41e+04\n",
      "Household Head Occupation_Cabinet/furniture makers and related workers                                                                                                                                                                                      2.954e+04   1.24e+04      2.390      0.017    5311.135    5.38e+04\n",
      "Household Head Occupation_Car, taxi and van drivers                                                                                                                                                                                                          2.96e+04   4290.350      6.900      0.000    2.12e+04     3.8e+04\n",
      "Household Head Occupation_Carpenters and joiners                                                                                                                                                                                                            1.141e+04   4107.294      2.779      0.005    3364.267    1.95e+04\n",
      "Household Head Occupation_Cashiers and ticket clerks                                                                                                                                                                                                        2.097e+04   8859.862      2.367      0.018    3607.658    3.83e+04\n",
      "Household Head Occupation_Cattle and dairy farmers                                                                                                                                                                                                          1.307e+04   7394.032      1.768      0.077   -1422.064    2.76e+04\n",
      "Household Head Occupation_Cement and other mineral products machine operators                                                                                                                                                                               1.983e+05   4.35e+04      4.556      0.000    1.13e+05    2.84e+05\n",
      "Household Head Occupation_Charcoal makers and related workers                                                                                                                                                                                              -1330.9230   6666.650     -0.200      0.842   -1.44e+04    1.17e+04\n",
      "Household Head Occupation_Chemical processing plant operators n. e. c.                                                                                                                                                                                      7.022e+04   6.16e+04      1.141      0.254   -5.04e+04    1.91e+05\n",
      "Household Head Occupation_Chemical products machine operators n. e. c.                                                                                                                                                                                     -5443.7891   3.56e+04     -0.153      0.878   -7.52e+04    6.44e+04\n",
      "Household Head Occupation_Chemists                                                                                                                                                                                                                          4.253e+04   6.15e+04      0.691      0.489   -7.81e+04    1.63e+05\n",
      "Household Head Occupation_Chicken farmers                                                                                                                                                                                                                   2.953e+04   9740.378      3.032      0.002    1.04e+04    4.86e+04\n",
      "Household Head Occupation_Child care workers                                                                                                                                                                                                                7893.2704   9311.050      0.848      0.397   -1.04e+04    2.61e+04\n",
      "Household Head Occupation_Choreographers and dancers                                                                                                                                                                                                       -1.489e+04   3.56e+04     -0.418      0.676   -8.47e+04    5.49e+04\n",
      "Household Head Occupation_Civil engineering technicians                                                                                                                                                                                                      -50.8564   3.09e+04     -0.002      0.999   -6.07e+04    6.06e+04\n",
      "Household Head Occupation_Civil engineers                                                                                                                                                                                                                   1.912e+04   1.71e+04      1.120      0.263   -1.43e+04    5.26e+04\n",
      "Household Head Occupation_Coconut farmers                                                                                                                                                                                                                   4342.2990   2515.463      1.726      0.084    -588.075    9272.673\n",
      "Household Head Occupation_Coding, proof-reading and related clerks                                                                                                                                                                                          1.133e+05   6.15e+04      1.841      0.066   -7314.767    2.34e+05\n",
      "Household Head Occupation_Coffee and cacao farmers                                                                                                                                                                                                          5881.8514   7736.765      0.760      0.447   -9282.413     2.1e+04\n",
      "Household Head Occupation_College, university and higher education teaching professionals                                                                                                                                                                   6.152e+04    1.3e+04      4.718      0.000     3.6e+04    8.71e+04\n",
      "Household Head Occupation_Combat soldiers                                                                                                                                                                                                                   9.484e+04   9921.010      9.560      0.000    7.54e+04    1.14e+05\n",
      "Household Head Occupation_Composers, musicians and singers                                                                                                                                                                                                  2.101e+04   2.08e+04      1.012      0.312   -1.97e+04    6.17e+04\n",
      "Household Head Occupation_Compositors, typesetters and related workers                                                                                                                                                                                     -3694.4668   2.77e+04     -0.133      0.894    -5.8e+04    5.06e+04\n",
      "Household Head Occupation_Computer assistants                                                                                                                                                                                                              -6378.1563   2.77e+04     -0.230      0.818   -6.07e+04     4.8e+04\n",
      "Household Head Occupation_Computer engineers and related professionals                                                                                                                                                                                       9.62e+04   3.57e+04      2.692      0.007    2.62e+04    1.66e+05\n",
      "Household Head Occupation_Computer equipment operators                                                                                                                                                                                                      1.981e+04   1.42e+04      1.391      0.164   -8095.268    4.77e+04\n",
      "Household Head Occupation_Computer programmers                                                                                                                                                                                                              6.514e+04    3.1e+04      2.102      0.036    4386.863    1.26e+05\n",
      "Household Head Occupation_Concessionaires and loggers                                                                                                                                                                                                       1.461e+04   2.08e+04      0.703      0.482   -2.61e+04    5.54e+04\n",
      "Household Head Occupation_Construction and maintenance laborers: roads, dams and similar constructions                                                                                                                                                      5276.8614   6166.815      0.856      0.392   -6810.260    1.74e+04\n",
      "Household Head Occupation_Cooks                                                                                                                                                                                                                             3.287e+04   6900.014      4.764      0.000    1.93e+04    4.64e+04\n",
      "Household Head Occupation_Corn farmers                                                                                                                                                                                                                      1407.1290   2203.039      0.639      0.523   -2910.885    5725.143\n",
      "Household Head Occupation_Cotton and fiber crops farmers                                                                                                                                                                                                   -8294.7043   1.07e+04     -0.776      0.438   -2.92e+04    1.27e+04\n",
      "Household Head Occupation_Crane, hoist and related plant operators                                                                                                                                                                                          2.704e+04   2.08e+04      1.301      0.193   -1.37e+04    6.78e+04\n",
      "Household Head Occupation_Customs and immigration inspectors                                                                                                                                                                                                1.941e+04   6.19e+04      0.314      0.754   -1.02e+05    1.41e+05\n",
      "Household Head Occupation_Dairy products machine operators                                                                                                                                                                                                 -2.735e+04   6.14e+04     -0.445      0.656   -1.48e+05    9.31e+04\n",
      "Household Head Occupation_Dairy products makers                                                                                                                                                                                                            -2.693e+04   4.36e+04     -0.618      0.537   -1.12e+05    5.85e+04\n",
      "Household Head Occupation_Data entry operators                                                                                                                                                                                                              8090.2537   1.46e+04      0.555      0.579   -2.05e+04    3.67e+04\n",
      "Household Head Occupation_Debt collectors and related workers                                                                                                                                                                                               2.727e+04   8047.011      3.388      0.001    1.15e+04     4.3e+04\n",
      "Household Head Occupation_Decorators and commercial designers                                                                                                                                                                                               4.284e+04   2.07e+04      2.067      0.039    2211.669    8.35e+04\n",
      "Household Head Occupation_Deep-sea fishermen                                                                                                                                                                                                                1.186e+04   4314.699      2.749      0.006    3404.575    2.03e+04\n",
      "Household Head Occupation_Dental assistants                                                                                                                                                                                                                 4.674e+04   4.36e+04      1.072      0.284   -3.87e+04    1.32e+05\n",
      "Household Head Occupation_Directors and chief executives of corporations                                                                                                                                                                                   -1760.9817   2.21e+04     -0.080      0.936    -4.5e+04    4.15e+04\n",
      "Household Head Occupation_Domestic helpers and cleaners                                                                                                                                                                                                     5226.6474   6450.531      0.810      0.418   -7416.564    1.79e+04\n",
      "Household Head Occupation_Door-to-door and telephone salespersons                                                                                                                                                                                           3827.4190   7938.594      0.482      0.630   -1.17e+04    1.94e+04\n",
      "Household Head Occupation_Doorkeepers, watchpersons and related workers                                                                                                                                                                                     1.682e+04   8902.138      1.890      0.059    -626.490    3.43e+04\n",
      "Household Head Occupation_Draftsmen                                                                                                                                                                                                                         4.339e+04    2.1e+04      2.071      0.038    2315.473    8.45e+04\n",
      "Household Head Occupation_Drivers of animal-drawn vehicles and machinery                                                                                                                                                                                    -3.43e+04   4.36e+04     -0.788      0.431    -1.2e+05    5.11e+04\n",
      "Household Head Occupation_Duck raisers                                                                                                                                                                                                                      3.181e+04   1.95e+04      1.633      0.102   -6366.055       7e+04\n",
      "Household Head Occupation_Earth-moving and related plant operators                                                                                                                                                                                          1.818e+04   1.24e+04      1.470      0.142   -6060.665    4.24e+04\n",
      "Household Head Occupation_Education methods specialists                                                                                                                                                                                                     1.045e+05   3.57e+04      2.924      0.003    3.45e+04    1.75e+05\n",
      "Household Head Occupation_Electrical Engineers                                                                                                                                                                                                              9.967e+04    3.1e+04      3.215      0.001    3.89e+04     1.6e+05\n",
      "Household Head Occupation_Electrical engineering technicians                                                                                                                                                                                                1.354e+04   3.09e+04      0.438      0.662   -4.71e+04    7.42e+04\n",
      "Household Head Occupation_Electrical equipment assemblers                                                                                                                                                                                                   3.382e+04    2.2e+04      1.535      0.125   -9365.289     7.7e+04\n",
      "Household Head Occupation_Electrical mechanics and fitters                                                                                                                                                                                                  1075.0940   1.53e+04      0.070      0.944   -2.88e+04     3.1e+04\n",
      "Household Head Occupation_Electronic equipment assemblers                                                                                                                                                                                                   3.533e+04   1.24e+04      2.853      0.004    1.11e+04    5.96e+04\n",
      "Household Head Occupation_Electronics and communications engineering technicians                                                                                                                                                                             2.67e+04    2.2e+04      1.214      0.225   -1.64e+04    6.98e+04\n",
      "Household Head Occupation_Electronics and communications engineers                                                                                                                                                                                          5.291e+04   2.78e+04      1.901      0.057   -1656.195    1.07e+05\n",
      "Household Head Occupation_Electronics fitters                                                                                                                                                                                                               1.793e+04   4.34e+04      0.413      0.680   -6.72e+04    1.03e+05\n",
      "Household Head Occupation_Electronics mechanics and servicers                                                                                                                                                                                               9126.9026   1.49e+04      0.612      0.541   -2.01e+04    3.84e+04\n",
      "Household Head Occupation_Enlisted personnel n. e. c.                                                                                                                                                                                                        1.22e+04   1.18e+04      1.035      0.301   -1.09e+04    3.53e+04\n",
      "Household Head Occupation_Estate agents                                                                                                                                                                                                                     6.459e+04   1.49e+04      4.324      0.000    3.53e+04    9.39e+04\n",
      "Household Head Occupation_Faith healers                                                                                                                                                                                                                    -8026.7039   1.86e+04     -0.432      0.666   -4.44e+04    2.84e+04\n",
      "Household Head Occupation_Farm technicians                                                                                                                                                                                                                  2.263e+04   6.17e+04      0.367      0.714   -9.83e+04    1.44e+05\n",
      "Household Head Occupation_Farmhands and laborers                                                                                                                                                                                                           -7985.3094   3781.635     -2.112      0.035   -1.54e+04    -573.205\n",
      "Household Head Occupation_Fashion and other models                                                                                                                                                                                                          3.055e+05   6.15e+04      4.971      0.000    1.85e+05    4.26e+05\n",
      "Household Head Occupation_Fiber preparers                                                                                                                                                                                                                  -6285.7277   6.15e+04     -0.102      0.919   -1.27e+05    1.14e+05\n",
      "Household Head Occupation_Fiber preparing, spinning and winding machine operators                                                                                                                                                                           -2.08e+04   3.56e+04     -0.584      0.559   -9.06e+04     4.9e+04\n",
      "Household Head Occupation_Field legumes farmers                                                                                                                                                                                                             1984.3573   8067.631      0.246      0.806   -1.38e+04    1.78e+04\n",
      "Household Head Occupation_Finance and administration managers                                                                                                                                                                                               8.061e+04   2.09e+04      3.866      0.000    3.97e+04    1.21e+05\n",
      "Household Head Occupation_Firefighters                                                                                                                                                                                                                       2.66e+04   2.21e+04      1.202      0.229   -1.68e+04       7e+04\n",
      "Household Head Occupation_Fish-farm cultivators (excluding prawns)                                                                                                                                                                                          7451.5484   2.33e+04      0.320      0.749   -3.82e+04    5.31e+04\n",
      "Household Head Occupation_Fishermen n. e. c.                                                                                                                                                                                                                3991.8108   3.07e+04      0.130      0.897   -5.62e+04    6.42e+04\n",
      "Household Head Occupation_Fishery laborers and helpers                                                                                                                                                                                                      2426.2501   4875.175      0.498      0.619   -7129.223     1.2e+04\n",
      "Household Head Occupation_Floor layers and tile setters                                                                                                                                                                                                     5.313e+04   3.09e+04      1.720      0.086   -7429.702    1.14e+05\n",
      "Household Head Occupation_Food and beverage tasters and graders                                                                                                                                                                                             3.144e+04   3.56e+04      0.883      0.377   -3.84e+04    1.01e+05\n",
      "Household Head Occupation_Food preservers                                                                                                                                                                                                                  -3.315e+04   2.77e+04     -1.197      0.231   -8.74e+04    2.11e+04\n",
      "Household Head Occupation_Forest tree planters                                                                                                                                                                                                             -1.602e+04   2.19e+04     -0.731      0.465    -5.9e+04    2.69e+04\n",
      "Household Head Occupation_Foresters and related scientists                                                                                                                                                                                                  8.659e+04   3.75e+04      2.307      0.021     1.3e+04     1.6e+05\n",
      "Household Head Occupation_Forestry laborers                                                                                                                                                                                                                 3506.9497   8240.168      0.426      0.670   -1.26e+04    1.97e+04\n",
      "Household Head Occupation_Freight handlers                                                                                                                                                                                                                  5365.4596   5554.882      0.966      0.334   -5522.256    1.63e+04\n",
      "Household Head Occupation_Fruit tree farmers                                                                                                                                                                                                                -742.3061   3816.628     -0.194      0.846   -8222.999    6738.387\n",
      "Household Head Occupation_Fruit, vegetable and nut processing machine operators                                                                                                                                                                             5497.7232   2.77e+04      0.199      0.843   -4.88e+04    5.97e+04\n",
      "Household Head Occupation_Garbage collectors                                                                                                                                                                                                               -6697.7556   1.27e+04     -0.528      0.598   -3.16e+04    1.82e+04\n",
      "Household Head Occupation_General elementary education teaching professionals                                                                                                                                                                               8.632e+04   7031.889     12.276      0.000    7.25e+04       1e+05\n",
      "Household Head Occupation_General managers/managing proprietors in agriculture, hunting, forestry and fishing                                                                                                                                                 2.8e+04   3105.003      9.018      0.000    2.19e+04    3.41e+04\n",
      "Household Head Occupation_General managers/managing proprietors in construction                                                                                                                                                                             2.894e+04   9183.113      3.151      0.002    1.09e+04    4.69e+04\n",
      "Household Head Occupation_General managers/managing proprietors in manufacturing                                                                                                                                                                            2.089e+04   3174.617      6.580      0.000    1.47e+04    2.71e+04\n",
      "Household Head Occupation_General managers/managing proprietors in personal care, cleaning and relative services                                                                                                                                            1.555e+04   8812.847      1.765      0.078   -1721.040    3.28e+04\n",
      "Household Head Occupation_General managers/managing proprietors in transportation, storage and communications                                                                                                                                               2.045e+04   2302.692      8.883      0.000    1.59e+04     2.5e+04\n",
      "Household Head Occupation_General managers/managing proprietors in wholesale and retail trade                                                                                                                                                               2.921e+04   2211.561     13.210      0.000    2.49e+04    3.35e+04\n",
      "Household Head Occupation_General managers/managing proprietors n. e. c.                                                                                                                                                                                    2.162e+04   6994.357      3.092      0.002    7915.056    3.53e+04\n",
      "Household Head Occupation_General managers/managing proprietors of business services                                                                                                                                                                        1.577e+04   3545.896      4.449      0.000    8824.204    2.27e+04\n",
      "Household Head Occupation_General managers/managing proprietors of restaurants and hotels                                                                                                                                                                   4.198e+04   4615.244      9.096      0.000    3.29e+04     5.1e+04\n",
      "Household Head Occupation_General secondary education teaching professionals                                                                                                                                                                                1.025e+05   8608.116     11.904      0.000    8.56e+04    1.19e+05\n",
      "Household Head Occupation_Geodetic engineers and related professionals                                                                                                                                                                                      1.174e+05   6.17e+04      1.903      0.057   -3500.740    2.38e+05\n",
      "Household Head Occupation_Glass makers, cutters, grinders and finishers                                                                                                                                                                                     2.639e+04   2.08e+04      1.270      0.204   -1.43e+04    6.71e+04\n",
      "Household Head Occupation_Glass, ceramics and related plant operators n. e. c.                                                                                                                                                                             -4.828e+04   6.15e+04     -0.786      0.432   -1.69e+05    7.22e+04\n",
      "Household Head Occupation_Government administrators (including career executive service officers)                                                                                                                                                           4.746e+04   2.23e+04      2.124      0.034    3664.464    9.13e+04\n",
      "Household Head Occupation_Government licensing officials                                                                                                                                                                                                     6.27e+04   4.36e+04      1.438      0.150   -2.27e+04    1.48e+05\n",
      "Household Head Occupation_Government tax and excise officials                                                                                                                                                                                              -3.011e+04   6.21e+04     -0.485      0.628   -1.52e+05    9.16e+04\n",
      "Household Head Occupation_Grain and spice milling machine operators                                                                                                                                                                                          311.0185   1.68e+04      0.018      0.985   -3.27e+04    3.33e+04\n",
      "Household Head Occupation_Hairdressers, barbers, beauticians and related workers                                                                                                                                                                            1.469e+04   6286.350      2.337      0.019    2368.069     2.7e+04\n",
      "Household Head Occupation_Hand launderers and pressers                                                                                                                                                                                                      4927.5780   5996.233      0.822      0.411   -6825.198    1.67e+04\n",
      "Household Head Occupation_Hand or pedal vehicle drivers                                                                                                                                                                                                    -1158.1599   8232.392     -0.141      0.888   -1.73e+04     1.5e+04\n",
      "Household Head Occupation_Hand packers and other manufacturing laborers                                                                                                                                                                                     5923.7723   5116.712      1.158      0.247   -4105.119     1.6e+04\n",
      "Household Head Occupation_Handicraft workers in wood and related materials                                                                                                                                                                                  2.381e+04   1.68e+04      1.421      0.155   -9037.260    5.67e+04\n",
      "Household Head Occupation_Heavy truck and lorry drivers                                                                                                                                                                                                     1.634e+04   4727.466      3.457      0.001    7078.717    2.56e+04\n",
      "Household Head Occupation_Helpers and cleaners in offices, hotels and other establishments                                                                                                                                                                  9163.3175   4914.626      1.864      0.062    -469.479    1.88e+04\n",
      "Household Head Occupation_Hog raising farmers                                                                                                                                                                                                               2.035e+04   4178.292      4.871      0.000    1.22e+04    2.85e+04\n",
      "Household Head Occupation_Home-based personal care workers                                                                                                                                                                                                  3.239e+04   1.72e+04      1.885      0.059   -1295.188    6.61e+04\n",
      "Household Head Occupation_Housekeepers and related workers                                                                                                                                                                                                  2.153e+04   1.49e+04      1.444      0.149   -7704.535    5.08e+04\n",
      "Household Head Occupation_Hunters and trappers                                                                                                                                                                                                              5.422e+04   6.14e+04      0.883      0.377   -6.61e+04    1.75e+05\n",
      "Household Head Occupation_Hunting and trapping laborers                                                                                                                                                                                                    -2466.5964   6.15e+04     -0.040      0.968   -1.23e+05    1.18e+05\n",
      "Household Head Occupation_Incinerator, water treatment and related plant operators                                                                                                                                                                          3.453e+04   2.54e+04      1.361      0.173   -1.52e+04    8.43e+04\n",
      "Household Head Occupation_Industrial engineers                                                                                                                                                                                                              3881.3148   6.15e+04      0.063      0.950   -1.17e+05    1.24e+05\n",
      "Household Head Occupation_Industrial robot operators                                                                                                                                                                                                        -5.14e+04   6.15e+04     -0.835      0.404   -1.72e+05    6.92e+04\n",
      "Household Head Occupation_Inland and coastal waters fishermen                                                                                                                                                                                               9217.0119   2649.586      3.479      0.001    4023.753    1.44e+04\n",
      "Household Head Occupation_Institution-based personal care workers                                                                                                                                                                                           2993.5056   8548.886      0.350      0.726   -1.38e+04    1.97e+04\n",
      "Household Head Occupation_Insulation workers                                                                                                                                                                                                                1814.8142   6.15e+04      0.030      0.976   -1.19e+05    1.22e+05\n",
      "Household Head Occupation_Insurance representatives                                                                                                                                                                                                         4.527e+04   2.54e+04      1.785      0.074   -4438.654     9.5e+04\n",
      "Household Head Occupation_Jewelry and precious metal workers                                                                                                                                                                                                3232.2874   3.55e+04      0.091      0.928   -6.64e+04    7.29e+04\n",
      "Household Head Occupation_Justices                                                                                                                                                                                                                          6.684e+04   6.15e+04      1.087      0.277   -5.37e+04    1.87e+05\n",
      "Household Head Occupation_Labor contractors and employment agents                                                                                                                                                                                           1.394e+05   6.14e+04      2.268      0.023     1.9e+04     2.6e+05\n",
      "Household Head Occupation_Lawyers                                                                                                                                                                                                                           1.162e+04   4.52e+04      0.257      0.797   -7.69e+04       1e+05\n",
      "Household Head Occupation_Legal and related business associate professionals                                                                                                                                                                                4.078e+04   3.65e+04      1.116      0.264   -3.08e+04    1.12e+05\n",
      "Household Head Occupation_Legislative officials                                                                                                                                                                                                             4.891e+04   9432.934      5.185      0.000    3.04e+04    6.74e+04\n",
      "Household Head Occupation_Librarians, archivists and curators                                                                                                                                                                                               6.495e+04   6.15e+04      1.055      0.291   -5.57e+04    1.86e+05\n",
      "Household Head Occupation_Library and filing clerks                                                                                                                                                                                                         1.915e+04   1.64e+04      1.167      0.243    -1.3e+04    5.13e+04\n",
      "Household Head Occupation_Life science technicians                                                                                                                                                                                                          -9.12e+04   6.16e+04     -1.480      0.139   -2.12e+05    2.96e+04\n",
      "Household Head Occupation_Lifting truck operators                                                                                                                                                                                                           2.542e+04   1.53e+04      1.659      0.097   -4607.422    5.55e+04\n",
      "Household Head Occupation_Lineman, line installers and cable splicers                                                                                                                                                                                        3.36e+04   1.09e+04      3.093      0.002    1.23e+04    5.49e+04\n",
      "Household Head Occupation_Locomotive engine drivers                                                                                                                                                                                                        -1.705e+04   6.16e+04     -0.277      0.782   -1.38e+05    1.04e+05\n",
      "Household Head Occupation_Machine tool operators                                                                                                                                                                                                            3.675e+04   2.77e+04      1.328      0.184   -1.75e+04     9.1e+04\n",
      "Household Head Occupation_Machine-tool setters and setter operators                                                                                                                                                                                         2.373e+04   3.56e+04      0.666      0.505   -4.61e+04    9.35e+04\n",
      "Household Head Occupation_Mail carriers and sorting clerks                                                                                                                                                                                                  9890.9508   3.09e+04      0.320      0.749   -5.07e+04    7.05e+04\n",
      "Household Head Occupation_Marine craft mechanics                                                                                                                                                                                                            1241.4355   3.09e+04      0.040      0.968   -5.94e+04    6.18e+04\n",
      "Household Head Occupation_Market and sidewalk stall vendors                                                                                                                                                                                                 3.208e+04   3171.361     10.116      0.000    2.59e+04    3.83e+04\n",
      "Household Head Occupation_Masons and related concrete finishers                                                                                                                                                                                             1.689e+04   4769.788      3.542      0.000    7543.799    2.62e+04\n",
      "Household Head Occupation_Meat and fish processing machine operators                                                                                                                                                                                       -3.392e+04   3.09e+04     -1.098      0.272   -9.45e+04    2.66e+04\n",
      "Household Head Occupation_Mechanical engineering technicians                                                                                                                                                                                                2.777e+04   1.41e+04      1.963      0.050      40.354    5.55e+04\n",
      "Household Head Occupation_Mechanical engineers                                                                                                                                                                                                              6.437e+04   4.39e+04      1.467      0.142   -2.16e+04     1.5e+05\n",
      "Household Head Occupation_Mechanical machinery assemblers                                                                                                                                                                                                   1.538e+04   1.98e+04      0.779      0.436   -2.33e+04    5.41e+04\n",
      "Household Head Occupation_Medical assistants                                                                                                                                                                                                                4.392e+04   3.09e+04      1.420      0.156   -1.67e+04    1.05e+05\n",
      "Household Head Occupation_Medical doctors                                                                                                                                                                                                                  -1.454e+04   4.37e+04     -0.333      0.739      -1e+05    7.12e+04\n",
      "Household Head Occupation_Medical equipment operators                                                                                                                                                                                                       6.844e+04   3.11e+04      2.201      0.028    7482.072    1.29e+05\n",
      "Household Head Occupation_Medical technologists                                                                                                                                                                                                             1.853e+05   4.38e+04      4.230      0.000    9.94e+04    2.71e+05\n",
      "Household Head Occupation_Messengers, package and luggage porters and deliverers                                                                                                                                                                            1.248e+04   6111.716      2.042      0.041     498.877    2.45e+04\n",
      "Household Head Occupation_Metal drawers and extruders                                                                                                                                                                                                       1.011e+04   6.15e+04      0.164      0.869    -1.1e+05    1.31e+05\n",
      "Household Head Occupation_Metal finishing, plating and coating machine operators                                                                                                                                                                            4749.6827   2.53e+04      0.188      0.851   -4.49e+04    5.44e+04\n",
      "Household Head Occupation_Metal melters, caster and rolling mill operators                                                                                                                                                                                  2.971e+04   3.56e+04      0.834      0.404   -4.01e+04    9.95e+04\n",
      "Household Head Occupation_Metal molders and coremakers                                                                                                                                                                                                      4.318e+04   3.56e+04      1.213      0.225   -2.66e+04    1.13e+05\n",
      "Household Head Occupation_Metal, rubber and plastic products assemblers                                                                                                                                                                                     3.882e+04   2.53e+04      1.534      0.125   -1.08e+04    8.84e+04\n",
      "Household Head Occupation_Metal-wheel grinders, polishers and tool sharpeners                                                                                                                                                                               1.476e+05   6.17e+04      2.391      0.017    2.66e+04    2.69e+05\n",
      "Household Head Occupation_Midwifery associate professionals                                                                                                                                                                                                 3.505e+04   3.55e+04      0.986      0.324   -3.46e+04    1.05e+05\n",
      "Household Head Occupation_Mineral ore and stone-processing plant operators                                                                                                                                                                                  1.808e+04   6.15e+04      0.294      0.769   -1.02e+05    1.39e+05\n",
      "Household Head Occupation_Miners and quarry workers                                                                                                                                                                                                         2.999e+04   1.01e+04      2.984      0.003    1.03e+04    4.97e+04\n",
      "Household Head Occupation_Mining and quarrying laborers                                                                                                                                                                                                     3691.1340   6898.091      0.535      0.593   -9829.307    1.72e+04\n",
      "Household Head Occupation_Mining-plant operators                                                                                                                                                                                                            1.426e+05   6.15e+04      2.320      0.020    2.21e+04    2.63e+05\n",
      "Household Head Occupation_Minor forest products gatherers                                                                                                                                                                                                   5777.6687   7416.822      0.779      0.436   -8759.500    2.03e+04\n",
      "Household Head Occupation_Motor vehicle mechanics and related trades workers                                                                                                                                                                                1.834e+04   5803.361      3.160      0.002    6964.607    2.97e+04\n",
      "Household Head Occupation_Motorcycle drivers                                                                                                                                                                                                                1697.4670   4522.746      0.375      0.707   -7167.234    1.06e+04\n",
      "Household Head Occupation_Motorized farm and forestry plant operators                                                                                                                                                                                      -1.638e+04   1.68e+04     -0.975      0.330   -4.93e+04    1.65e+04\n",
      "Household Head Occupation_Musical instrument makers and tuners                                                                                                                                                                                              5.238e+04   6.15e+04      0.852      0.394   -6.81e+04    1.73e+05\n",
      "Household Head Occupation_Non-ordained religious associate professionals                                                                                                                                                                                    9420.5983   9926.497      0.949      0.343      -1e+04    2.89e+04\n",
      "Household Head Occupation_Nonformal education teaching professionals other than technical and vocational trainors/instructors                                                                                                                               2.063e+05   6.15e+04      3.352      0.001    8.57e+04    3.27e+05\n",
      "Household Head Occupation_Nursing associate professionals                                                                                                                                                                                                   3.384e+04   6.17e+04      0.549      0.583    -8.7e+04    1.55e+05\n",
      "Household Head Occupation_Nutritionists-dietitians                                                                                                                                                                                                          5.794e+04   6.15e+04      0.941      0.346   -6.27e+04    1.79e+05\n",
      "Household Head Occupation_Optometrists and opticians                                                                                                                                                                                                       -8.173e+04   6.17e+04     -1.326      0.185   -2.03e+05    3.91e+04\n",
      "Household Head Occupation_Ornamental plant growers                                                                                                                                                                                                         -4596.2097   1.42e+04     -0.324      0.746   -3.24e+04    2.32e+04\n",
      "Household Head Occupation_Other administrative associate professionals                                                                                                                                                                                      2.562e+04   1.99e+04      1.290      0.197   -1.33e+04    6.45e+04\n",
      "Household Head Occupation_Other animal raisers                                                                                                                                                                                                             -1.724e+04   4.34e+04     -0.397      0.692   -1.02e+05    6.79e+04\n",
      "Household Head Occupation_Other aqua products cultivators                                                                                                                                                                                                  -6773.8600   2.75e+04     -0.246      0.806   -6.07e+04    4.72e+04\n",
      "Household Head Occupation_Other business professionals                                                                                                                                                                                                      3.854e+04   2.09e+04      1.843      0.065   -2439.749    7.95e+04\n",
      "Household Head Occupation_Other business services and trade brokers                                                                                                                                                                                        -4.933e+04   6.15e+04     -0.802      0.422    -1.7e+05    7.12e+04\n",
      "Household Head Occupation_Other computer professionals                                                                                                                                                                                                      2.724e+04   2.36e+04      1.153      0.249   -1.91e+04    7.35e+04\n",
      "Household Head Occupation_Other creative or performing artists                                                                                                                                                                                             -7876.6075   6.15e+04     -0.128      0.898   -1.28e+05    1.13e+05\n",
      "Household Head Occupation_Other engineers and related professionals                                                                                                                                                                                         5.039e+04   6.16e+04      0.818      0.413   -7.03e+04    1.71e+05\n",
      "Household Head Occupation_Other field crop farmers                                                                                                                                                                                                          2.039e+04   8447.771      2.414      0.016    3832.212    3.69e+04\n",
      "Household Head Occupation_Other finance and sales associate professionals                                                                                                                                                                                  -2.002e+04   6.15e+04     -0.326      0.745   -1.41e+05       1e+05\n",
      "Household Head Occupation_Other government associate professionals                                                                                                                                                                                          6.413e+04   2.55e+04      2.515      0.012    1.42e+04    1.14e+05\n",
      "Household Head Occupation_Other health associate professionals (except nursing)                                                                                                                                                                             1.297e+04   1.96e+04      0.661      0.508   -2.55e+04    5.14e+04\n",
      "Household Head Occupation_Other health professionals (except nursing)                                                                                                                                                                                       2.406e+04   4.35e+04      0.554      0.580   -6.11e+04    1.09e+05\n",
      "Household Head Occupation_Other life science technicians                                                                                                                                                                                                    3.008e+04   1.72e+04      1.746      0.081   -3696.060    6.39e+04\n",
      "Household Head Occupation_Other livestock farmers                                                                                                                                                                                                          -5506.7629   9853.960     -0.559      0.576   -2.48e+04    1.38e+04\n",
      "Household Head Occupation_Other machine operators and assemblers                                                                                                                                                                                            3.577e+04   1.42e+04      2.518      0.012    7930.543    6.36e+04\n",
      "Household Head Occupation_Other office clerks                                                                                                                                                                                                               2.342e+04   6660.077      3.517      0.000    1.04e+04    3.65e+04\n",
      "Household Head Occupation_Other orchard farmers                                                                                                                                                                                                             8025.9620   8938.174      0.898      0.369   -9493.097    2.55e+04\n",
      "Household Head Occupation_Other personal services workers, n. e. c.                                                                                                                                                                                         2.459e+04   1.97e+04      1.249      0.212    -1.4e+04    6.32e+04\n",
      "Household Head Occupation_Other physical science and engineering technicians                                                                                                                                                                                7.575e+04   3.12e+04      2.427      0.015    1.46e+04    1.37e+05\n",
      "Household Head Occupation_Other plant growers                                                                                                                                                                                                              -1702.4003   1.39e+04     -0.123      0.902   -2.89e+04    2.55e+04\n",
      "Household Head Occupation_Other poultry farmers                                                                                                                                                                                                             2.509e+04   1.86e+04      1.349      0.177   -1.14e+04    6.15e+04\n",
      "Household Head Occupation_Other sales supervisors                                                                                                                                                                                                           1.205e+05   4.36e+04      2.766      0.006    3.51e+04    2.06e+05\n",
      "Household Head Occupation_Other specialized managers                                                                                                                                                                                                        1.577e+05   6.15e+04      2.563      0.010    3.71e+04    2.78e+05\n",
      "Household Head Occupation_Other supervisors, n. e. c.                                                                                                                                                                                                       5.658e+04   1.31e+04      4.324      0.000    3.09e+04    8.22e+04\n",
      "Household Head Occupation_Other teaching professionals                                                                                                                                                                                                      3.051e+04   4.36e+04      0.700      0.484   -5.49e+04    1.16e+05\n",
      "Household Head Occupation_Painters and related workers                                                                                                                                                                                                      5856.6668   5859.232      1.000      0.318   -5627.582    1.73e+04\n",
      "Household Head Occupation_Paper pulp plant operators                                                                                                                                                                                                       -7701.1640   6.14e+04     -0.125      0.900   -1.28e+05    1.13e+05\n",
      "Household Head Occupation_Paperboard, textile and related products assemblers                                                                                                                                                                              -3.859e+04   3.56e+04     -1.084      0.279   -1.08e+05    3.12e+04\n",
      "Household Head Occupation_Papermaking plant operators                                                                                                                                                                                                        3.34e+04   2.77e+04      1.205      0.228   -2.09e+04    8.77e+04\n",
      "Household Head Occupation_Pawnbrokers and money lenders                                                                                                                                                                                                     2.209e+04   1.96e+04      1.128      0.259   -1.63e+04    6.05e+04\n",
      "Household Head Occupation_Personal care and related workers, n. e. c.                                                                                                                                                                                       -2.73e+04   6.15e+04     -0.444      0.657   -1.48e+05    9.32e+04\n",
      "Household Head Occupation_Personnel and human resource development professionals                                                                                                                                                                            7.671e+04   2.54e+04      3.023      0.003     2.7e+04    1.26e+05\n",
      "Household Head Occupation_Personnel and industrial relations managers                                                                                                                                                                                       5.054e+04   2.39e+04      2.117      0.034    3746.277    9.73e+04\n",
      "Household Head Occupation_Petroleum and natural gas refining plant operators                                                                                                                                                                                1.383e+05   6.15e+04      2.249      0.024    1.78e+04    2.59e+05\n",
      "Household Head Occupation_Pharmaceutical and toiletry products machine operators                                                                                                                                                                             6.93e+04   3.09e+04      2.243      0.025    8731.404     1.3e+05\n",
      "Household Head Occupation_Pharmaceutical assistants                                                                                                                                                                                                         -3.89e+04   6.17e+04     -0.631      0.528    -1.6e+05     8.2e+04\n",
      "Household Head Occupation_Pharmacists                                                                                                                                                                                                                       2.554e+04   2.87e+04      0.889      0.374   -3.08e+04    8.19e+04\n",
      "Household Head Occupation_Photographers and image and sound recording equipment operators                                                                                                                                                                   5.552e+04   2.35e+04      2.363      0.018    9473.514    1.02e+05\n",
      "Household Head Occupation_Photographic and related workers                                                                                                                                                                                                 -3434.4197   4.35e+04     -0.079      0.937   -8.88e+04    8.19e+04\n",
      "Household Head Occupation_Photographic products machine operators                                                                                                                                                                                           1.275e+04   4.35e+04      0.293      0.770   -7.26e+04    9.81e+04\n",
      "Household Head Occupation_Physiotherapists                                                                                                                                                                                                                 -5.062e+04   6.15e+04     -0.823      0.411   -1.71e+05       7e+04\n",
      "Household Head Occupation_Plastic products machine operators                                                                                                                                                                                                2.233e+04   2.35e+04      0.951      0.342   -2.37e+04    6.84e+04\n",
      "Household Head Occupation_Plumbers, pipe fitters and other related workers                                                                                                                                                                                  2.383e+04   9183.166      2.595      0.009    5828.080    4.18e+04\n",
      "Household Head Occupation_Police inspectors and detectives                                                                                                                                                                                                  3.506e+04   2.22e+04      1.577      0.115   -8522.216    7.86e+04\n",
      "Household Head Occupation_Police officers                                                                                                                                                                                                                   6.616e+04   8079.844      8.188      0.000    5.03e+04     8.2e+04\n",
      "Household Head Occupation_Postal service supervisors                                                                                                                                                                                                        8.881e+04   6.16e+04      1.443      0.149   -3.18e+04    2.09e+05\n",
      "Household Head Occupation_Potters and related clay and abrasive formers                                                                                                                                                                                     6929.9202   3.56e+04      0.195      0.846   -6.29e+04    7.67e+04\n",
      "Household Head Occupation_Power production plant operators                                                                                                                                                                                                  4.461e+04   6.16e+04      0.725      0.469   -7.61e+04    1.65e+05\n",
      "Household Head Occupation_Pre-elementary education teaching professionals                                                                                                                                                                                    2.19e+04   2.78e+04      0.787      0.431   -3.26e+04    7.64e+04\n",
      "Household Head Occupation_Precision instrument makers and repairers                                                                                                                                                                                        -1872.0946   6.15e+04     -0.030      0.976   -1.22e+05    1.19e+05\n",
      "Household Head Occupation_Pressman letterpresses and related workers                                                                                                                                                                                        5.642e+04   1.89e+04      2.990      0.003    1.94e+04    9.34e+04\n",
      "Household Head Occupation_Prison guards                                                                                                                                                                                                                     1.098e+05   2.39e+04      4.599      0.000     6.3e+04    1.57e+05\n",
      "Household Head Occupation_Production and operations managers in agriculture, hunting, forestry and fishery                                                                                                                                                  2.418e+04   1.54e+04      1.573      0.116   -5952.871    5.43e+04\n",
      "Household Head Occupation_Production and operations managers in business services                                                                                                                                                                           4.813e+04   2.35e+04      2.045      0.041    1993.744    9.43e+04\n",
      "Household Head Occupation_Production and operations managers in construction                                                                                                                                                                                8.988e+04   4.37e+04      2.056      0.040    4190.589    1.76e+05\n",
      "Household Head Occupation_Production and operations managers in manufacturing                                                                                                                                                                                1.46e+04   2.76e+04      0.528      0.597   -3.96e+04    6.88e+04\n",
      "Household Head Occupation_Production and operations managers in personal care, cleaning and relative services                                                                                                                                              -7.727e+04   4.36e+04     -1.774      0.076   -1.63e+05    8111.905\n",
      "Household Head Occupation_Production and operations managers in restaurant and hotels                                                                                                                                                                        4.96e+04   2.77e+04      1.790      0.073   -4711.534    1.04e+05\n",
      "Household Head Occupation_Production and operations managers in transport, storage and communications                                                                                                                                                        2.22e+04   3.55e+04      0.625      0.532   -4.75e+04    9.19e+04\n",
      "Household Head Occupation_Production and operations managers in wholesale and retail trade                                                                                                                                                                  5.278e+04   2.36e+04      2.235      0.025    6490.556    9.91e+04\n",
      "Household Head Occupation_Production clerks                                                                                                                                                                                                                 3.812e+04   1.89e+04      2.020      0.043    1129.279    7.51e+04\n",
      "Household Head Occupation_Production supervisors and general foremen                                                                                                                                                                                        2.818e+04   6239.346      4.517      0.000     1.6e+04    4.04e+04\n",
      "Household Head Occupation_Professional midwives                                                                                                                                                                                                             2.208e+05    3.6e+04      6.142      0.000     1.5e+05    2.91e+05\n",
      "Household Head Occupation_Professional nurses                                                                                                                                                                                                               5.881e+04   1.47e+04      4.013      0.000    3.01e+04    8.75e+04\n",
      "Household Head Occupation_Professional, technical and related officers                                                                                                                                                                                      1.115e+05   3.58e+04      3.112      0.002    4.13e+04    1.82e+05\n",
      "Household Head Occupation_Protective services workers n. e. c.                                                                                                                                                                                              1.153e+04   4453.833      2.588      0.010    2797.425    2.03e+04\n",
      "Household Head Occupation_Radio, television and other announcers                                                                                                                                                                                            9.256e+04   2.77e+04      3.338      0.001    3.82e+04    1.47e+05\n",
      "Household Head Occupation_Rattan, bamboo and other wicker furniture makers                                                                                                                                                                                  2.256e+04   1.89e+04      1.196      0.232   -1.44e+04    5.95e+04\n",
      "Household Head Occupation_Receptionists and information clerks                                                                                                                                                                                              4.456e+04   8080.522      5.514      0.000    2.87e+04    6.04e+04\n",
      "Household Head Occupation_Religious professionals                                                                                                                                                                                                           1.981e+04   1.39e+04      1.428      0.153   -7377.118     4.7e+04\n",
      "Household Head Occupation_Rice farmers                                                                                                                                                                                                                      7908.8291   1850.180      4.275      0.000    4282.426    1.15e+04\n",
      "Household Head Occupation_Riggers and cable splicers                                                                                                                                                                                                         1.89e+04   6.15e+04      0.308      0.758   -1.02e+05    1.39e+05\n",
      "Household Head Occupation_Roofers                                                                                                                                                                                                                           9796.3872   2.35e+04      0.417      0.676   -3.62e+04    5.58e+04\n",
      "Household Head Occupation_Root crops farmers                                                                                                                                                                                                                7273.9668   3532.194      2.059      0.039     350.772    1.42e+04\n",
      "Household Head Occupation_Rubber products machine operators                                                                                                                                                                                                 8755.8709   1.58e+04      0.555      0.579   -2.21e+04    3.97e+04\n",
      "Household Head Occupation_Safety, health and quality inspectors (vehicles, processes and products)                                                                                                                                                          2.948e+04   1.37e+04      2.154      0.031    2652.141    5.63e+04\n",
      "Household Head Occupation_Sales and marketing managers                                                                                                                                                                                                      4.725e+04   1.26e+04      3.744      0.000    2.25e+04     7.2e+04\n",
      "Household Head Occupation_Sales supervisors in retail trade                                                                                                                                                                                                 6.966e+04   1.46e+04      4.781      0.000    4.11e+04    9.82e+04\n",
      "Household Head Occupation_Sales supervisors in wholesale trade                                                                                                                                                                                               3.56e+04   2.53e+04      1.405      0.160   -1.41e+04    8.53e+04\n",
      "Household Head Occupation_School principals                                                                                                                                                                                                                 6.029e+04   1.91e+04      3.149      0.002    2.28e+04    9.78e+04\n",
      "Household Head Occupation_School supervisors and principals                                                                                                                                                                                                 1.111e+04   4.37e+04      0.254      0.799   -7.46e+04    9.68e+04\n",
      "Household Head Occupation_Science and mathematics elementary education teaching professionals                                                                                                                                                               1.704e+05   4.38e+04      3.888      0.000    8.45e+04    2.56e+05\n",
      "Household Head Occupation_Science and mathematics teaching professionals                                                                                                                                                                                    5.731e+04   4.37e+04      1.312      0.189   -2.83e+04    1.43e+05\n",
      "Household Head Occupation_Sculptors, painters and related artists                                                                                                                                                                                           6.596e+04   2.78e+04      2.376      0.018    1.15e+04     1.2e+05\n",
      "Household Head Occupation_Seaweeds cultivators                                                                                                                                                                                                              2.969e+04   1.14e+04      2.606      0.009    7356.631     5.2e+04\n",
      "Household Head Occupation_Secretaries                                                                                                                                                                                                                       2.018e+04   1.05e+04      1.929      0.054    -324.946    4.07e+04\n",
      "Household Head Occupation_Senior officials of humanitarian and other special-interest organizations                                                                                                                                                          7.88e+04   3.56e+04      2.211      0.027    8931.956    1.49e+05\n",
      "Household Head Occupation_Service and related workers                                                                                                                                                                                                       7823.1000    3.1e+04      0.252      0.801    -5.3e+04    6.87e+04\n",
      "Household Head Occupation_Sewers, Embroiderers and related workers                                                                                                                                                                                          2.458e+04   7878.402      3.120      0.002    9138.833       4e+04\n",
      "Household Head Occupation_Sewing machine operators                                                                                                                                                                                                         -2.789e+04   4.35e+04     -0.640      0.522   -1.13e+05    5.75e+04\n",
      "Household Head Occupation_Sheet-metal workers                                                                                                                                                                                                               7432.2248   1.68e+04      0.442      0.658   -2.55e+04    4.04e+04\n",
      "Household Head Occupation_Ship and aircraft controllers and technicians                                                                                                                                                                                     8.683e+04   3.57e+04      2.434      0.015    1.69e+04    1.57e+05\n",
      "Household Head Occupation_Ship's deck crews and related workers                                                                                                                                                                                             2.404e+04   1.42e+04      1.696      0.090   -3748.183    5.18e+04\n",
      "Household Head Occupation_Ships' deck officers and pilots                                                                                                                                                                                                   7.705e+04   3.59e+04      2.148      0.032    6735.194    1.47e+05\n",
      "Household Head Occupation_Shoe cleaning and other street services elementary occupations                                                                                                                                                                    1.969e+04   1.71e+04      1.149      0.251   -1.39e+04    5.33e+04\n",
      "Household Head Occupation_Shoemakers and related workers                                                                                                                                                                                                    3.344e+04    1.8e+04      1.854      0.064   -1910.621    6.88e+04\n",
      "Household Head Occupation_Shoemaking and related machine operators                                                                                                                                                                                          9.846e+04   6.15e+04      1.600      0.110   -2.22e+04    2.19e+05\n",
      "Household Head Occupation_Shop salespersons and demonstrators                                                                                                                                                                                                1.32e+04   4463.624      2.956      0.003    4447.205    2.19e+04\n",
      "Household Head Occupation_Shotfirers and blasters                                                                                                                                                                                                           8.169e+04   6.15e+04      1.328      0.184   -3.89e+04    2.02e+05\n",
      "Household Head Occupation_Silk-screen, block and textile printers                                                                                                                                                                                           1.852e+04   2.77e+04      0.669      0.503   -3.57e+04    7.28e+04\n",
      "Household Head Occupation_Social work associate professionals                                                                                                                                                                                               -659.7205   8567.757     -0.077      0.939   -1.75e+04    1.61e+04\n",
      "Household Head Occupation_Social work professionals                                                                                                                                                                                                         9.229e+04   3.86e+04      2.389      0.017    1.66e+04    1.68e+05\n",
      "Household Head Occupation_Staff officers                                                                                                                                                                                                                    9.957e+04   2.21e+04      4.514      0.000    5.63e+04    1.43e+05\n",
      "Household Head Occupation_Stall and market salespersons                                                                                                                                                                                                     5507.2004   6082.742      0.905      0.365   -6415.135    1.74e+04\n",
      "Household Head Occupation_Statistical and finance clerks                                                                                                                                                                                                    1.218e+04   2.39e+04      0.508      0.611   -3.48e+04    5.91e+04\n",
      "Household Head Occupation_Statistical, mathematical and related associate professionals                                                                                                                                                                     2674.2209   2.38e+04      0.112      0.911    -4.4e+04    4.93e+04\n",
      "Household Head Occupation_Statisticians                                                                                                                                                                                                                     6.094e+04   6.16e+04      0.990      0.322   -5.97e+04    1.82e+05\n",
      "Household Head Occupation_Stenographers and typists                                                                                                                                                                                                         1.459e+05   3.65e+04      3.993      0.000    7.43e+04    2.18e+05\n",
      "Household Head Occupation_Stocks clerks                                                                                                                                                                                                                     3.137e+04   8445.816      3.714      0.000    1.48e+04    4.79e+04\n",
      "Household Head Occupation_Stone splitters, cutters and carvers                                                                                                                                                                                              2.469e+04   2.35e+04      1.051      0.293   -2.13e+04    7.07e+04\n",
      "Household Head Occupation_Street ambulant vendors                                                                                                                                                                                                           1.447e+04   4211.196      3.437      0.001    6219.240    2.27e+04\n",
      "Household Head Occupation_Street, nightclub and related musicians, singers and dancers                                                                                                                                                                      1.893e+04   2.34e+04      0.808      0.419    -2.7e+04    6.48e+04\n",
      "Household Head Occupation_Structural-metal preparers, erectors and related workers                                                                                                                                                                          2.724e+04   1.22e+04      2.240      0.025    3405.973    5.11e+04\n",
      "Household Head Occupation_Sugar production machine operators                                                                                                                                                                                                4188.8922    2.2e+04      0.190      0.849   -3.89e+04    4.73e+04\n",
      "Household Head Occupation_Sugarcane farmers                                                                                                                                                                                                                -4420.6295   1.03e+04     -0.428      0.668   -2.47e+04    1.58e+04\n",
      "Household Head Occupation_Supply and distribution managers                                                                                                                                                                                                  1.146e+05   4.36e+04      2.626      0.009    2.91e+04       2e+05\n",
      "Household Head Occupation_Sweepers and related laborers                                                                                                                                                                                                     2324.2540   9133.237      0.254      0.799   -1.56e+04    2.02e+04\n",
      "Household Head Occupation_Systems analysts and designers                                                                                                                                                                                                    1437.5476    3.1e+04      0.046      0.963   -5.92e+04    6.21e+04\n",
      "Household Head Occupation_Tailors, dressmakers and hatters                                                                                                                                                                                                  1.807e+04   6843.827      2.641      0.008    4658.304    3.15e+04\n",
      "Household Head Occupation_Tanners                                                                                                                                                                                                                          -2.107e+04   6.14e+04     -0.343      0.732   -1.41e+05    9.94e+04\n",
      "Household Head Occupation_Teaching associate professionals                                                                                                                                                                                                  1.175e+04   1.33e+04      0.883      0.377   -1.43e+04    3.78e+04\n",
      "Household Head Occupation_Technical and commercial sales representatives                                                                                                                                                                                    5.673e+04   2.35e+04      2.414      0.016    1.07e+04    1.03e+05\n",
      "Household Head Occupation_Technical and vocational instructors/trainors                                                                                                                                                                                     1.772e+04   4.36e+04      0.406      0.685   -6.78e+04    1.03e+05\n",
      "Household Head Occupation_Technician, skilled, semi-skilled workers                                                                                                                                                                                         1.947e+05   6.15e+04      3.165      0.002    7.41e+04    3.15e+05\n",
      "Household Head Occupation_Telecommunication equipment installers and repairers                                                                                                                                                                              1.911e+04   2.77e+04      0.690      0.490   -3.52e+04    7.34e+04\n",
      "Household Head Occupation_Telephone switchboard operators                                                                                                                                                                                                   7.021e+04   6.14e+04      1.143      0.253   -5.02e+04    1.91e+05\n",
      "Household Head Occupation_Tellers and other counter clerks                                                                                                                                                                                                   1.99e+04    2.1e+04      0.946      0.344   -2.13e+04    6.11e+04\n",
      "Household Head Occupation_Textile and leather products machine operators n. e. c.                                                                                                                                                                          -1.652e+04   6.14e+04     -0.269      0.788   -1.37e+05    1.04e+05\n",
      "Household Head Occupation_Textile, leather and related patternmakers and cutters                                                                                                                                                                            3.109e+04   2.35e+04      1.324      0.185   -1.49e+04    7.71e+04\n",
      "Household Head Occupation_Tobacco preparers and tobacco products makers                                                                                                                                                                                     7.518e+04   4.36e+04      1.723      0.085   -1.03e+04    1.61e+05\n",
      "Household Head Occupation_Tool-makers and related workers                                                                                                                                                                                                   2.243e+04   4.34e+04      0.516      0.606   -6.27e+04    1.08e+05\n",
      "Household Head Occupation_Town planners and related professionals                                                                                                                                                                                           8.275e+04   4.36e+04      1.896      0.058   -2777.764    1.68e+05\n",
      "Household Head Occupation_Trade brokers                                                                                                                                                                                                                     6.724e+04   3.55e+04      1.892      0.058   -2406.767    1.37e+05\n",
      "Household Head Occupation_Traditional chiefs and heads of villages                                                                                                                                                                                          2.048e+04   5255.082      3.897      0.000    1.02e+04    3.08e+04\n",
      "Household Head Occupation_Traditional medicine practitioners                                                                                                                                                                                                 536.6844   1.65e+04      0.032      0.974   -3.18e+04    3.29e+04\n",
      "Household Head Occupation_Transport and communications service supervisors n. e. c.                                                                                                                                                                        -1.583e+04   2.35e+04     -0.674      0.500   -6.19e+04    3.02e+04\n",
      "Household Head Occupation_Transport clerks                                                                                                                                                                                                                  3.244e+04    1.3e+04      2.488      0.013    6880.000     5.8e+04\n",
      "Household Head Occupation_Transport conductors                                                                                                                                                                                                             -2330.1910    1.1e+04     -0.212      0.832   -2.39e+04    1.92e+04\n",
      "Household Head Occupation_Travel consultants and organizers                                                                                                                                                                                                 8.432e+04   3.72e+04      2.269      0.023    1.15e+04    1.57e+05\n",
      "Household Head Occupation_Travel guides                                                                                                                                                                                                                     1.911e+04   3.56e+04      0.536      0.592   -5.07e+04    8.89e+04\n",
      "Household Head Occupation_Tree nut farmers                                                                                                                                                                                                                  3.073e+04   4.35e+04      0.707      0.479   -5.44e+04    1.16e+05\n",
      "Household Head Occupation_Undertakers and embalmers                                                                                                                                                                                                         6112.8526   1.58e+04      0.388      0.698   -2.48e+04     3.7e+04\n",
      "Household Head Occupation_Upholsterers and related workers                                                                                                                                                                                                  1.203e+05   6.15e+04      1.956      0.050    -243.527    2.41e+05\n",
      "Household Head Occupation_Varnishers and related painters                                                                                                                                                                                                   1.565e+04   1.24e+04      1.267      0.205   -8568.165    3.99e+04\n",
      "Household Head Occupation_Vegetable farmers                                                                                                                                                                                                                 7401.8348   3231.873      2.290      0.022    1067.278    1.37e+04\n",
      "Household Head Occupation_Vehicle, window and related cleaners                                                                                                                                                                                             -4874.2205   6.15e+04     -0.079      0.937   -1.25e+05    1.16e+05\n",
      "Household Head Occupation_Veterinarians                                                                                                                                                                                                                     4.122e+04   6.15e+04      0.670      0.503   -7.94e+04    1.62e+05\n",
      "Household Head Occupation_Veterinary assistants                                                                                                                                                                                                            -4.105e+04   6.14e+04     -0.668      0.504   -1.61e+05    7.94e+04\n",
      "Household Head Occupation_Vocational education teaching professionals                                                                                                                                                                                       1.519e+05    3.2e+04      4.741      0.000    8.91e+04    2.15e+05\n",
      "Household Head Occupation_Waiters, waitresses and bartenders                                                                                                                                                                                                8197.4927   6687.209      1.226      0.220   -4909.615    2.13e+04\n",
      "Household Head Occupation_Weavers, knitters and related workers                                                                                                                                                                                             6896.3071   1.49e+04      0.463      0.643   -2.23e+04    3.61e+04\n",
      "Household Head Occupation_Weaving and knitting machine operators                                                                                                                                                                                            4.891e+04   3.09e+04      1.583      0.113   -1.16e+04    1.09e+05\n",
      "Household Head Occupation_Welders and flamecutters                                                                                                                                                                                                          2.387e+04   5747.263      4.153      0.000    1.26e+04    3.51e+04\n",
      "Household Head Occupation_Well drillers and borers and related workers                                                                                                                                                                                      5.857e+04   3.56e+04      1.645      0.100   -1.12e+04    1.28e+05\n",
      "Household Head Occupation_Wood and related products assemblers                                                                                                                                                                                             -7039.6110   1.98e+04     -0.356      0.722   -4.58e+04    3.17e+04\n",
      "Household Head Occupation_Wood processing plant operators                                                                                                                                                                                                   2926.5741   1.45e+04      0.201      0.841   -2.56e+04    3.14e+04\n",
      "Household Head Occupation_Wood products machine operators                                                                                                                                                                                                   5218.0658   1.49e+04      0.351      0.726    -2.4e+04    3.44e+04\n",
      "Household Head Occupation_Wood treaters                                                                                                                                                                                                                     1.961e+04   6.15e+04      0.319      0.750   -1.01e+05     1.4e+05\n",
      "Household Head Occupation_Woodworking machine setters and setter-operators                                                                                                                                                                                 -2.113e+04   3.56e+04     -0.593      0.553   -9.09e+04    4.87e+04\n",
      "Household Head Occupation_Word processor and related operators                                                                                                                                                                                             -4.321e+04   4.36e+04     -0.991      0.322   -1.29e+05    4.23e+04\n",
      "Household Head Occupation_Workers reporting occupations unidentifiable or inadequately defined                                                                                                                                                             -1.685e+04   1.15e+04     -1.461      0.144   -3.95e+04    5756.580\n",
      "Household Head Class of Worker_Self-employed wihout any employee                                                                                                                                                                                           -1.649e+04   1537.957    -10.723      0.000   -1.95e+04   -1.35e+04\n",
      "Household Head Class of Worker_Worked for government/government corporation                                                                                                                                                                                -2.223e+04   4122.856     -5.393      0.000   -3.03e+04   -1.42e+04\n",
      "Household Head Class of Worker_Worked for private establishment                                                                                                                                                                                            -2.407e+04   3571.146     -6.740      0.000   -3.11e+04   -1.71e+04\n",
      "Household Head Class of Worker_Worked for private household                                                                                                                                                                                                -3.299e+04   5092.624     -6.479      0.000    -4.3e+04    -2.3e+04\n",
      "Household Head Class of Worker_Worked with pay in own family-operated farm or business                                                                                                                                                                      -3.46e+04   1.83e+04     -1.890      0.059   -7.05e+04    1283.027\n",
      "Household Head Class of Worker_Worked without pay in own family-operated farm or business                                                                                                                                                                   9687.5318   5235.285      1.850      0.064    -573.766    1.99e+04\n",
      "Type of Household_Single Family                                                                                                                                                                                                                            -8386.6660    803.377    -10.439      0.000   -9961.306   -6812.026\n",
      "Type of Household_Two or More Nonrelated Persons/Members                                                                                                                                                                                                    1.045e+04   5150.218      2.030      0.042     358.049    2.05e+04\n",
      "==============================================================================\n",
      "Omnibus:                     9082.036   Durbin-Watson:                   1.835\n",
      "Prob(Omnibus):                  0.000   Jarque-Bera (JB):           109510.334\n",
      "Skew:                           0.797   Prob(JB):                         0.00\n",
      "Kurtosis:                      11.119   Cond. No.                     2.23e+07\n",
      "==============================================================================\n",
      "\n",
      "Notes:\n",
      "[1] Standard Errors assume that the covariance matrix of the errors is correctly specified.\n",
      "[2] The condition number is large, 2.23e+07. This might indicate that there are\n",
      "strong multicollinearity or other numerical problems.\n"
     ]
    }
   ],
   "source": [
    "df_regression = pd.get_dummies(data= df, drop_first=True)\n",
    "Y = df_regression[['Total Household Income']]\n",
    "X = df_regression.drop(columns = 'Total Household Income')\n",
    "X = sm.add_constant(X)\n",
    "model = sm.OLS(Y, X)\n",
    "results = model.fit()  \n",
    "print(results.summary())  "
   ]
  },
  {
   "cell_type": "markdown",
   "metadata": {},
   "source": [
    "#### Данная модель со всеми предикторами рассматривает 74.1% (иправленный R-квадрат) дисперсии зависимой переменной (общий доход семьи)"
   ]
  },
  {
   "cell_type": "markdown",
   "metadata": {},
   "source": [
    "#### --------------------------------------------------------------------------------------------------------------------------------------------------------------------------------------"
   ]
  },
  {
   "cell_type": "code",
   "execution_count": 61,
   "metadata": {},
   "outputs": [
    {
     "name": "stdout",
     "output_type": "stream",
     "text": [
      "                              OLS Regression Results                              \n",
      "==================================================================================\n",
      "Dep. Variable:     Total Food Expenditure   R-squared:                       0.756\n",
      "Model:                                OLS   Adj. R-squared:                  0.753\n",
      "Method:                     Least Squares   F-statistic:                     261.2\n",
      "Date:                    Mon, 12 Jun 2023   Prob (F-statistic):               0.00\n",
      "Time:                            19:17:20   Log-Likelihood:            -4.3449e+05\n",
      "No. Observations:                   38393   AIC:                         8.699e+05\n",
      "Df Residuals:                       37943   BIC:                         8.737e+05\n",
      "Df Model:                             449                                         \n",
      "Covariance Type:                nonrobust                                         \n",
      "==============================================================================================================================================================================================================================================================================================================================\n",
      "                                                                                                                                                                                                                                                                 coef    std err          t      P>|t|      [0.025      0.975]\n",
      "------------------------------------------------------------------------------------------------------------------------------------------------------------------------------------------------------------------------------------------------------------------------------------------------------------------------------\n",
      "const                                                                                                                                                                                                                                                       3.831e+04   8174.085      4.686      0.000    2.23e+04    5.43e+04\n",
      "Total Household Income                                                                                                                                                                                                                                         0.1391      0.002     91.821      0.000       0.136       0.142\n",
      "Restaurant and hotels Expenditure                                                                                                                                                                                                                              0.8559      0.007    121.954      0.000       0.842       0.870\n",
      "Clothing, Footwear and Other Wear Expenditure                                                                                                                                                                                                                  0.7168      0.028     25.542      0.000       0.662       0.772\n",
      "Imputed House Rental Value                                                                                                                                                                                                                                    -0.0281      0.007     -3.919      0.000      -0.042      -0.014\n",
      "Medical Care Expenditure                                                                                                                                                                                                                                      -0.0509      0.007     -7.619      0.000      -0.064      -0.038\n",
      "Education Expenditure                                                                                                                                                                                                                                         -0.0587      0.009     -6.385      0.000      -0.077      -0.041\n",
      "Household Head Age                                                                                                                                                                                                                                           -26.6883      9.624     -2.773      0.006     -45.552      -7.825\n",
      "Total Number of Family members                                                                                                                                                                                                                              5120.4295     60.716     84.333      0.000    5001.424    5239.435\n",
      "Total number of family members employed                                                                                                                                                                                                                     -423.8711    131.942     -3.213      0.001    -682.481    -165.261\n",
      "Number of Car, Jeep, Van                                                                                                                                                                                                                                   -1623.8968    535.590     -3.032      0.002   -2673.668    -574.125\n",
      "Region_CAR                                                                                                                                                                                                                                                  2771.7794    715.726      3.873      0.000    1368.938    4174.621\n",
      "Region_Caraga                                                                                                                                                                                                                                               2512.3831    694.904      3.615      0.000    1150.353    3874.414\n",
      "Region_I - Ilocos Region                                                                                                                                                                                                                                    -993.5406    667.945     -1.487      0.137   -2302.731     315.650\n",
      "Region_II - Cagayan Valley                                                                                                                                                                                                                                   235.6292    678.612      0.347      0.728   -1094.468    1565.727\n",
      "Region_III - Central Luzon                                                                                                                                                                                                                                  8319.7501    635.627     13.089      0.000    7073.904    9565.597\n",
      "Region_IVA - CALABARZON                                                                                                                                                                                                                                     6170.0193    616.634     10.006      0.000    4961.400    7378.639\n",
      "Region_IVB - MIMAROPA                                                                                                                                                                                                                                        284.8060    760.250      0.375      0.708   -1205.305    1774.917\n",
      "Region_IX - Zasmboanga Peninsula                                                                                                                                                                                                                             968.3493    680.236      1.424      0.155    -364.931    2301.629\n",
      "Region_NCR                                                                                                                                                                                                                                                  6022.5566    651.431      9.245      0.000    4745.735    7299.378\n",
      "Region_V - Bicol Region                                                                                                                                                                                                                                     5966.4298    640.053      9.322      0.000    4711.910    7220.950\n",
      "Region_VI - Western Visayas                                                                                                                                                                                                                                 7227.1328    634.554     11.389      0.000    5983.390    8470.876\n",
      "Region_VII - Central Visayas                                                                                                                                                                                                                                5060.7495    646.766      7.825      0.000    3793.070    6328.429\n",
      "Region_VIII - Eastern Visayas                                                                                                                                                                                                                               3637.7549    647.401      5.619      0.000    2368.833    4906.677\n",
      "Region_X - Northern Mindanao                                                                                                                                                                                                                               -6446.6050    684.119     -9.423      0.000   -7787.497   -5105.713\n",
      "Region_XI - Davao Region                                                                                                                                                                                                                                    3952.3465    649.879      6.082      0.000    2678.567    5226.126\n",
      "Region_XII - SOCCSKSARGEN                                                                                                                                                                                                                                   4740.3285    658.881      7.195      0.000    3448.905    6031.752\n",
      "Main Source of Income_Other sources of Income                                                                                                                                                                                                              -2437.0029    333.198     -7.314      0.000   -3090.080   -1783.926\n",
      "Main Source of Income_Wage/Salaries                                                                                                                                                                                                                        -1731.7744    336.376     -5.148      0.000   -2391.080   -1072.469\n",
      "Household Head Sex_Male                                                                                                                                                                                                                                     -695.2810    382.124     -1.820      0.069   -1444.254      53.692\n",
      "Household Head Marital Status_Divorced/Separated                                                                                                                                                                                                           -2.427e+04   7972.653     -3.044      0.002   -3.99e+04   -8638.460\n",
      "Household Head Marital Status_Married                                                                                                                                                                                                                      -2.104e+04   7955.140     -2.645      0.008   -3.66e+04   -5447.276\n",
      "Household Head Marital Status_Single                                                                                                                                                                                                                       -2.791e+04   7967.840     -3.503      0.000   -4.35e+04   -1.23e+04\n",
      "Household Head Marital Status_Unknown                                                                                                                                                                                                                      -2.259e+04   2.15e+04     -1.049      0.294   -6.48e+04    1.96e+04\n",
      "Household Head Marital Status_Widowed                                                                                                                                                                                                                      -2.375e+04   7956.892     -2.984      0.003   -3.93e+04   -8150.075\n",
      "Household Head Highest Grade Completed_Architecture and Building Programs                                                                                                                                                                                   1214.8093   6091.979      0.199      0.842   -1.07e+04    1.32e+04\n",
      "Household Head Highest Grade Completed_Arts Programs                                                                                                                                                                                                        1.053e+04   5678.675      1.854      0.064    -601.575    2.17e+04\n",
      "Household Head Highest Grade Completed_Basic Programs                                                                                                                                                                                                      -3996.0882   4641.541     -0.861      0.389   -1.31e+04    5101.455\n",
      "Household Head Highest Grade Completed_Business and Administration Programs                                                                                                                                                                                  635.6542   1803.685      0.352      0.725   -2899.617    4170.926\n",
      "Household Head Highest Grade Completed_Computing/Information Technology Programs                                                                                                                                                                             790.3473   2131.620      0.371      0.711   -3387.685    4968.379\n",
      "Household Head Highest Grade Completed_Elementary Graduate                                                                                                                                                                                                   624.8399   1694.340      0.369      0.712   -2696.111    3945.791\n",
      "Household Head Highest Grade Completed_Engineering and Engineering Trades Programs                                                                                                                                                                         -1111.6071   1930.528     -0.576      0.565   -4895.493    2672.278\n",
      "Household Head Highest Grade Completed_Engineering and Engineering trades Programs                                                                                                                                                                          2623.2972   1921.941      1.365      0.172   -1143.758    6390.353\n",
      "Household Head Highest Grade Completed_Environmental Protection Programs                                                                                                                                                                                   -2701.5370   8470.353     -0.319      0.750   -1.93e+04    1.39e+04\n",
      "Household Head Highest Grade Completed_First Year College                                                                                                                                                                                                   1739.5532   1813.255      0.959      0.337   -1814.475    5293.582\n",
      "Household Head Highest Grade Completed_First Year High School                                                                                                                                                                                                994.6515   1772.760      0.561      0.575   -2480.004    4469.307\n",
      "Household Head Highest Grade Completed_First Year Post Secondary                                                                                                                                                                                             317.3065   2569.360      0.123      0.902   -4718.707    5353.320\n",
      "Household Head Highest Grade Completed_Fourth Year College                                                                                                                                                                                                   454.6864   2627.845      0.173      0.863   -4695.960    5605.333\n",
      "Household Head Highest Grade Completed_Grade 1                                                                                                                                                                                                             -2249.4502   1815.894     -1.239      0.215   -5808.651    1309.751\n",
      "Household Head Highest Grade Completed_Grade 2                                                                                                                                                                                                             -1038.0855   1771.568     -0.586      0.558   -4510.407    2434.236\n",
      "Household Head Highest Grade Completed_Grade 3                                                                                                                                                                                                             -1126.8696   1740.902     -0.647      0.517   -4539.084    2285.345\n",
      "Household Head Highest Grade Completed_Grade 4                                                                                                                                                                                                              -348.1657   1733.646     -0.201      0.841   -3746.158    3049.826\n",
      "Household Head Highest Grade Completed_Grade 5                                                                                                                                                                                                              -170.2781   1736.589     -0.098      0.922   -3574.039    3233.483\n",
      "Household Head Highest Grade Completed_Grade 6                                                                                                                                                                                                               981.7036   2130.929      0.461      0.645   -3194.974    5158.381\n",
      "Household Head Highest Grade Completed_Health Programs                                                                                                                                                                                                      1347.1561   2246.504      0.600      0.549   -3056.050    5750.363\n",
      "Household Head Highest Grade Completed_High School Graduate                                                                                                                                                                                                 1645.3231   1687.745      0.975      0.330   -1662.702    4953.348\n",
      "Household Head Highest Grade Completed_Humanities Programs                                                                                                                                                                                                 -5049.1788   3465.098     -1.457      0.145   -1.18e+04    1742.506\n",
      "Household Head Highest Grade Completed_Journalism and Information Programs                                                                                                                                                                                 -2514.4876   5676.741     -0.443      0.658   -1.36e+04    8612.076\n",
      "Household Head Highest Grade Completed_Law Programs                                                                                                                                                                                                         8887.8034   7847.744      1.133      0.257   -6493.983    2.43e+04\n",
      "Household Head Highest Grade Completed_Life Sciences Programs                                                                                                                                                                                               -795.7094   6676.822     -0.119      0.905   -1.39e+04    1.23e+04\n",
      "Household Head Highest Grade Completed_Manufacturing and Processing Programs                                                                                                                                                                                2130.4048   5661.121      0.376      0.707   -8965.542    1.32e+04\n",
      "Household Head Highest Grade Completed_Mathematics and Statistics Programs                                                                                                                                                                                 -6635.3191   8530.511     -0.778      0.437   -2.34e+04    1.01e+04\n",
      "Household Head Highest Grade Completed_No Grade Completed                                                                                                                                                                                                  -2268.6049   1782.876     -1.272      0.203   -5763.089    1225.879\n",
      "Household Head Highest Grade Completed_Other Programs in Education at the Third Level, First Stage, of the Type that Leads to an Award not Equivalent to a First University or Baccalaureate Degree                                                         7971.1934   3199.766      2.491      0.013    1699.568    1.42e+04\n",
      "Household Head Highest Grade Completed_Other Programs of Education at the Third Level, First Stage, of the Type that Leads to a Baccalaureate or First University/Professional Degree (HIgher Education Level, First Stage, or Collegiate Education Level) -3923.1497   1.05e+04     -0.373      0.709   -2.45e+04    1.67e+04\n",
      "Household Head Highest Grade Completed_Personal Services Programs                                                                                                                                                                                           -732.7782   2964.349     -0.247      0.805   -6542.981    5077.424\n",
      "Household Head Highest Grade Completed_Physical Sciences Programs                                                                                                                                                                                           3964.6810   9163.824      0.433      0.665    -1.4e+04    2.19e+04\n",
      "Household Head Highest Grade Completed_Post Baccalaureate                                                                                                                                                                                                  -2444.1870   2902.540     -0.842      0.400   -8133.243    3244.869\n",
      "Household Head Highest Grade Completed_Preschool                                                                                                                                                                                                           -7231.5548   5436.518     -1.330      0.183   -1.79e+04    3424.164\n",
      "Household Head Highest Grade Completed_Second Year College                                                                                                                                                                                                  1438.6335   1772.643      0.812      0.417   -2035.794    4913.061\n",
      "Household Head Highest Grade Completed_Second Year High School                                                                                                                                                                                               661.4713   1733.816      0.382      0.703   -2736.853    4059.796\n",
      "Household Head Highest Grade Completed_Second Year Post Secondary                                                                                                                                                                                           1442.0636   2465.887      0.585      0.559   -3391.140    6275.267\n",
      "Household Head Highest Grade Completed_Security Services Programs                                                                                                                                                                                            185.8879   2350.046      0.079      0.937   -4420.265    4792.041\n",
      "Household Head Highest Grade Completed_Social Services Programs                                                                                                                                                                                             1512.5793   7494.916      0.202      0.840   -1.32e+04    1.62e+04\n",
      "Household Head Highest Grade Completed_Social and Behavioral Science Programs                                                                                                                                                                               4562.2458   2728.539      1.672      0.095    -785.763    9910.255\n",
      "Household Head Highest Grade Completed_Teacher Training and Education Sciences Programs                                                                                                                                                                      563.4827   1888.914      0.298      0.765   -3138.839    4265.804\n",
      "Household Head Highest Grade Completed_Third Year College                                                                                                                                                                                                   1540.8120   1817.908      0.848      0.397   -2022.336    5103.960\n",
      "Household Head Highest Grade Completed_Third Year High School                                                                                                                                                                                               2440.6121   1754.874      1.391      0.164    -998.988    5880.212\n",
      "Household Head Highest Grade Completed_Transport Services Programs                                                                                                                                                                                          4129.4408   2228.974      1.853      0.064    -239.408    8498.289\n",
      "Household Head Highest Grade Completed_Veterinary Programs                                                                                                                                                                                                 -3670.5593   1.09e+04     -0.336      0.737   -2.51e+04    1.77e+04\n",
      "Household Head Occupation_Accounting and bookkeeping clerks                                                                                                                                                                                                -5353.2794   2990.830     -1.790      0.073   -1.12e+04     508.826\n",
      "Household Head Occupation_Administrative secretaries and related associate professionals                                                                                                                                                                    6742.1938   4679.209      1.441      0.150   -2429.180    1.59e+04\n",
      "Household Head Occupation_Advertising and public relations managers                                                                                                                                                                                        -1.665e+04      2e+04     -0.831      0.406   -5.59e+04    2.26e+04\n",
      "Household Head Occupation_Agricultural or industrial machinery mechanics and fitters                                                                                                                                                                        6123.3864   7182.653      0.853      0.394   -7954.804    2.02e+04\n",
      "Household Head Occupation_Agronomists and related scientists                                                                                                                                                                                                1.319e+04   1.43e+04      0.921      0.357   -1.49e+04    4.13e+04\n",
      "Household Head Occupation_Air traffic safety technicians                                                                                                                                                                                                   -3.383e+04   1.17e+04     -2.902      0.004   -5.67e+04    -1.1e+04\n",
      "Household Head Occupation_Aircraft engine mechanics and fitters                                                                                                                                                                                             9587.4729   2.01e+04      0.478      0.633   -2.98e+04    4.89e+04\n",
      "Household Head Occupation_Appraisers and valuers                                                                                                                                                                                                           -2.094e+04   1.42e+04     -1.471      0.141   -4.88e+04    6956.895\n",
      "Household Head Occupation_Architects                                                                                                                                                                                                                        -3.03e+04   1.17e+04     -2.597      0.009   -5.32e+04   -7428.201\n",
      "Household Head Occupation_Assembling laborers                                                                                                                                                                                                               8890.7494   3843.902      2.313      0.021    1356.600    1.64e+04\n",
      "Household Head Occupation_Athletes and related workers                                                                                                                                                                                                      2672.7644   6137.208      0.436      0.663   -9356.326    1.47e+04\n",
      "Household Head Occupation_Automated assembly-line operators                                                                                                                                                                                                 1081.1465   1.16e+04      0.093      0.926   -2.17e+04    2.39e+04\n",
      "Household Head Occupation_Baked goods and cereal and chocolate products machine operators                                                                                                                                                                   1036.2216   7660.717      0.135      0.892    -1.4e+04    1.61e+04\n",
      "Household Head Occupation_Bakers, pastry cooks and confectionery makers                                                                                                                                                                                      401.7389   2638.229      0.152      0.879   -4769.260    5572.738\n",
      "Household Head Occupation_Basketry weavers, brush makers and related workers                                                                                                                                                                               -2214.7206   4944.134     -0.448      0.654   -1.19e+04    7475.914\n",
      "Household Head Occupation_Bet bookmakers and croupiers                                                                                                                                                                                                     -2135.6319   2061.118     -1.036      0.300   -6175.478    1904.214\n",
      "Household Head Occupation_Blacksmiths, hammersmiths, and forging-press workers                                                                                                                                                                             -7541.3780   1.16e+04     -0.649      0.516   -3.03e+04    1.52e+04\n",
      "Household Head Occupation_Bleaching, dyeing and cleaning machine operators                                                                                                                                                                                 -8414.6463   1.16e+04     -0.723      0.470   -3.12e+04    1.44e+04\n",
      "Household Head Occupation_Bookbinders and related workers                                                                                                                                                                                                   2.583e+04   1.42e+04      1.819      0.069   -2009.906    5.37e+04\n",
      "Household Head Occupation_Bookkeepers                                                                                                                                                                                                                       7156.8364   5513.901      1.298      0.194   -3650.555     1.8e+04\n",
      "Household Head Occupation_Brewers and wine and other beverage machine operators                                                                                                                                                                             1.381e+04   9037.801      1.528      0.126   -3901.566    3.15e+04\n",
      "Household Head Occupation_Broadcasting and telecommunications equipment operators                                                                                                                                                                          -8462.1642   9038.323     -0.936      0.349   -2.62e+04    9253.188\n",
      "Household Head Occupation_Builders (traditional materials)                                                                                                                                                                                                 -1.385e+04      2e+04     -0.691      0.490   -5.32e+04    2.54e+04\n",
      "Household Head Occupation_Building and fire inspectors                                                                                                                                                                                                     -4998.6449   1.19e+04     -0.422      0.673   -2.82e+04    1.82e+04\n",
      "Household Head Occupation_Building and related electricians                                                                                                                                                                                                 2464.5228   1919.277      1.284      0.199   -1297.311    6226.357\n",
      "Household Head Occupation_Building caretakers                                                                                                                                                                                                              -1199.3823   2019.263     -0.594      0.553   -5157.192    2758.427\n",
      "Household Head Occupation_Building construction laborers                                                                                                                                                                                                    -731.9312   1347.398     -0.543      0.587   -3372.866    1909.004\n",
      "Household Head Occupation_Building frame and related trades workers n. e. c.                                                                                                                                                                               -1.784e+04   1.01e+04     -1.770      0.077   -3.76e+04    1913.177\n",
      "Household Head Occupation_Bus drivers                                                                                                                                                                                                                       2229.1198   2975.121      0.749      0.454   -3602.196    8060.435\n",
      "Household Head Occupation_Business machines mechanics and repairers                                                                                                                                                                                         4506.3930      2e+04      0.225      0.822   -3.48e+04    4.38e+04\n",
      "Household Head Occupation_Butchers, fishmongers and related food preparers                                                                                                                                                                                  2142.2632   3006.996      0.712      0.476   -3751.529    8036.056\n",
      "Household Head Occupation_Buyers                                                                                                                                                                                                                           -2923.9834   6748.529     -0.433      0.665   -1.62e+04    1.03e+04\n",
      "Household Head Occupation_Cabinet/furniture makers and related workers                                                                                                                                                                                     -5279.3408   4034.479     -1.309      0.191   -1.32e+04    2628.345\n",
      "Household Head Occupation_Car, taxi and van drivers                                                                                                                                                                                                         1458.9549   1400.769      1.042      0.298   -1286.590    4204.500\n",
      "Household Head Occupation_Carpenters and joiners                                                                                                                                                                                                            -653.3443   1340.314     -0.487      0.626   -3280.395    1973.706\n",
      "Household Head Occupation_Cashiers and ticket clerks                                                                                                                                                                                                       -4409.7365   2891.036     -1.525      0.127   -1.01e+04    1256.771\n",
      "Household Head Occupation_Cattle and dairy farmers                                                                                                                                                                                                         -2282.8843   2412.692     -0.946      0.344   -7011.824    2446.056\n",
      "Household Head Occupation_Cement and other mineral products machine operators                                                                                                                                                                              -3.951e+04   1.42e+04     -2.781      0.005   -6.74e+04   -1.17e+04\n",
      "Household Head Occupation_Charcoal makers and related workers                                                                                                                                                                                              -1560.8079   2175.268     -0.718      0.473   -5824.390    2702.775\n",
      "Household Head Occupation_Chemical processing plant operators n. e. c.                                                                                                                                                                                     -4061.9890   2.01e+04     -0.202      0.840   -4.34e+04    3.53e+04\n",
      "Household Head Occupation_Chemical products machine operators n. e. c.                                                                                                                                                                                      2.409e+04   1.16e+04      2.073      0.038    1316.096    4.69e+04\n",
      "Household Head Occupation_Chemists                                                                                                                                                                                                                         -5294.7427   2.01e+04     -0.264      0.792   -4.46e+04    3.41e+04\n",
      "Household Head Occupation_Chicken farmers                                                                                                                                                                                                                  -5170.7463   3178.492     -1.627      0.104   -1.14e+04    1059.182\n",
      "Household Head Occupation_Child care workers                                                                                                                                                                                                                 -74.2477   3038.160     -0.024      0.981   -6029.121    5880.626\n",
      "Household Head Occupation_Choreographers and dancers                                                                                                                                                                                                        1.232e+04   1.16e+04      1.060      0.289   -1.05e+04    3.51e+04\n",
      "Household Head Occupation_Civil engineering technicians                                                                                                                                                                                                    -2648.4272   1.01e+04     -0.262      0.793   -2.24e+04    1.71e+04\n",
      "Household Head Occupation_Civil engineers                                                                                                                                                                                                                   7062.6058   5570.652      1.268      0.205   -3856.021     1.8e+04\n",
      "Household Head Occupation_Coconut farmers                                                                                                                                                                                                                   1366.8627    820.780      1.665      0.096    -241.889    2975.614\n",
      "Household Head Occupation_Coding, proof-reading and related clerks                                                                                                                                                                                         -2.357e+04   2.01e+04     -1.174      0.240   -6.29e+04    1.58e+04\n",
      "Household Head Occupation_Coffee and cacao farmers                                                                                                                                                                                                         -3873.6074   2524.393     -1.534      0.125   -8821.485    1074.271\n",
      "Household Head Occupation_College, university and higher education teaching professionals                                                                                                                                                                  -1204.3537   4255.708     -0.283      0.777   -9545.654    7136.947\n",
      "Household Head Occupation_Combat soldiers                                                                                                                                                                                                                   -561.2893   3241.051     -0.173      0.863   -6913.836    5791.257\n",
      "Household Head Occupation_Composers, musicians and singers                                                                                                                                                                                                  1.163e+04   6772.117      1.717      0.086   -1646.778    2.49e+04\n",
      "Household Head Occupation_Compositors, typesetters and related workers                                                                                                                                                                                      1.723e+04   9032.917      1.907      0.057    -477.188    3.49e+04\n",
      "Household Head Occupation_Computer assistants                                                                                                                                                                                                              -1729.7323   9050.267     -0.191      0.848   -1.95e+04     1.6e+04\n",
      "Household Head Occupation_Computer engineers and related professionals                                                                                                                                                                                     -8137.0208   1.17e+04     -0.698      0.485    -3.1e+04    1.47e+04\n",
      "Household Head Occupation_Computer equipment operators                                                                                                                                                                                                     -6987.4395   4645.298     -1.504      0.133   -1.61e+04    2117.468\n",
      "Household Head Occupation_Computer programmers                                                                                                                                                                                                               631.8596   1.01e+04      0.062      0.950   -1.92e+04    2.05e+04\n",
      "Household Head Occupation_Concessionaires and loggers                                                                                                                                                                                                      -8094.2933   6782.141     -1.193      0.233   -2.14e+04    5198.884\n",
      "Household Head Occupation_Construction and maintenance laborers: roads, dams and similar constructions                                                                                                                                                     -2404.8900   2012.170     -1.195      0.232   -6348.797    1539.017\n",
      "Household Head Occupation_Cooks                                                                                                                                                                                                                            -2158.9600   2252.072     -0.959      0.338   -6573.082    2255.162\n",
      "Household Head Occupation_Corn farmers                                                                                                                                                                                                                     -3223.5787    718.650     -4.486      0.000   -4632.151   -1815.007\n",
      "Household Head Occupation_Cotton and fiber crops farmers                                                                                                                                                                                                   -6143.3993   3486.630     -1.762      0.078    -1.3e+04     690.487\n",
      "Household Head Occupation_Crane, hoist and related plant operators                                                                                                                                                                                          7923.3702   6779.276      1.169      0.243   -5364.191    2.12e+04\n",
      "Household Head Occupation_Customs and immigration inspectors                                                                                                                                                                                                 3.89e+04   2.02e+04      1.927      0.054    -667.530    7.85e+04\n",
      "Household Head Occupation_Dairy products machine operators                                                                                                                                                                                                  2.441e+04      2e+04      1.218      0.223   -1.49e+04    6.37e+04\n",
      "Household Head Occupation_Dairy products makers                                                                                                                                                                                                             1.786e+04   1.42e+04      1.256      0.209      -1e+04    4.57e+04\n",
      "Household Head Occupation_Data entry operators                                                                                                                                                                                                              5928.8599   4756.434      1.246      0.213   -3393.876    1.53e+04\n",
      "Household Head Occupation_Debt collectors and related workers                                                                                                                                                                                              -5124.1211   2625.949     -1.951      0.051   -1.03e+04      22.809\n",
      "Household Head Occupation_Decorators and commercial designers                                                                                                                                                                                              -8830.2272   6764.558     -1.305      0.192   -2.21e+04    4428.486\n",
      "Household Head Occupation_Deep-sea fishermen                                                                                                                                                                                                                8434.4707   1407.330      5.993      0.000    5676.066    1.12e+04\n",
      "Household Head Occupation_Dental assistants                                                                                                                                                                                                                -7091.9757   1.42e+04     -0.499      0.618    -3.5e+04    2.08e+04\n",
      "Household Head Occupation_Directors and chief executives of corporations                                                                                                                                                                                    2235.5255   7202.049      0.310      0.756   -1.19e+04    1.64e+04\n",
      "Household Head Occupation_Domestic helpers and cleaners                                                                                                                                                                                                    -3355.6795   2104.711     -1.594      0.111   -7480.969     769.610\n",
      "Household Head Occupation_Door-to-door and telephone salespersons                                                                                                                                                                                           4450.6121   2590.215      1.718      0.086    -626.278    9527.502\n",
      "Household Head Occupation_Doorkeepers, watchpersons and related workers                                                                                                                                                                                    -4181.0872   2904.763     -1.439      0.150   -9874.500    1512.325\n",
      "Household Head Occupation_Draftsmen                                                                                                                                                                                                                        -1303.8045   6837.943     -0.191      0.849   -1.47e+04    1.21e+04\n",
      "Household Head Occupation_Drivers of animal-drawn vehicles and machinery                                                                                                                                                                                     1.47e+04   1.42e+04      1.034      0.301   -1.32e+04    4.26e+04\n",
      "Household Head Occupation_Duck raisers                                                                                                                                                                                                                      1034.1705   6355.056      0.163      0.871   -1.14e+04    1.35e+04\n",
      "Household Head Occupation_Earth-moving and related plant operators                                                                                                                                                                                          4718.3896   4035.061      1.169      0.242   -3190.436    1.26e+04\n",
      "Household Head Occupation_Education methods specialists                                                                                                                                                                                                    -1.166e+04   1.17e+04     -1.000      0.317   -3.45e+04    1.12e+04\n",
      "Household Head Occupation_Electrical Engineers                                                                                                                                                                                                             -2439.8255   1.01e+04     -0.241      0.809   -2.23e+04    1.74e+04\n",
      "Household Head Occupation_Electrical engineering technicians                                                                                                                                                                                                6767.3201   1.01e+04      0.671      0.503    -1.3e+04    2.65e+04\n",
      "Household Head Occupation_Electrical equipment assemblers                                                                                                                                                                                                   1243.3300   7189.816      0.173      0.863   -1.28e+04    1.53e+04\n",
      "Household Head Occupation_Electrical mechanics and fitters                                                                                                                                                                                                   -16.2807   4977.334     -0.003      0.997   -9771.988    9739.426\n",
      "Household Head Occupation_Electronic equipment assemblers                                                                                                                                                                                                  -5251.7999   4040.536     -1.300      0.194   -1.32e+04    2667.759\n",
      "Household Head Occupation_Electronics and communications engineering technicians                                                                                                                                                                           -1.428e+04   7172.937     -1.991      0.046   -2.83e+04    -225.167\n",
      "Household Head Occupation_Electronics and communications engineers                                                                                                                                                                                         -6276.2494   9084.798     -0.691      0.490   -2.41e+04    1.15e+04\n",
      "Household Head Occupation_Electronics fitters                                                                                                                                                                                                               6637.6702   1.42e+04      0.468      0.640   -2.11e+04    3.44e+04\n",
      "Household Head Occupation_Electronics mechanics and servicers                                                                                                                                                                                              -6904.3579   4868.861     -1.418      0.156   -1.64e+04    2638.740\n",
      "Household Head Occupation_Enlisted personnel n. e. c.                                                                                                                                                                                                      -5076.1089   3844.911     -1.320      0.187   -1.26e+04    2460.018\n",
      "Household Head Occupation_Estate agents                                                                                                                                                                                                                    -1765.0736   4875.439     -0.362      0.717   -1.13e+04    7790.917\n",
      "Household Head Occupation_Faith healers                                                                                                                                                                                                                     4431.7826   6063.375      0.731      0.465   -7452.593    1.63e+04\n",
      "Household Head Occupation_Farm technicians                                                                                                                                                                                                                 -2888.8307   2.01e+04     -0.144      0.886   -4.23e+04    3.66e+04\n",
      "Household Head Occupation_Farmhands and laborers                                                                                                                                                                                                           -1585.5686   1233.967     -1.285      0.199   -4004.176     833.039\n",
      "Household Head Occupation_Fashion and other models                                                                                                                                                                                                         -5.391e+04   2.01e+04     -2.688      0.007   -9.32e+04   -1.46e+04\n",
      "Household Head Occupation_Fiber preparers                                                                                                                                                                                                                  -7233.8941   2.01e+04     -0.361      0.718   -4.66e+04    3.21e+04\n",
      "Household Head Occupation_Fiber preparing, spinning and winding machine operators                                                                                                                                                                          -6061.4495   1.16e+04     -0.522      0.602   -2.88e+04    1.67e+04\n",
      "Household Head Occupation_Field legumes farmers                                                                                                                                                                                                             -164.5609   2632.414     -0.063      0.950   -5324.162    4995.040\n",
      "Household Head Occupation_Finance and administration managers                                                                                                                                                                                              -1.874e+04   6804.179     -2.754      0.006   -3.21e+04   -5404.293\n",
      "Household Head Occupation_Firefighters                                                                                                                                                                                                                      1.399e+04   7218.298      1.938      0.053    -157.885    2.81e+04\n",
      "Household Head Occupation_Fish-farm cultivators (excluding prawns)                                                                                                                                                                                         -6382.0618   7592.951     -0.841      0.401   -2.13e+04    8500.324\n",
      "Household Head Occupation_Fishermen n. e. c.                                                                                                                                                                                                                2060.7222      1e+04      0.206      0.837   -1.76e+04    2.17e+04\n",
      "Household Head Occupation_Fishery laborers and helpers                                                                                                                                                                                                      -375.5602   1590.740     -0.236      0.813   -3493.452    2742.332\n",
      "Household Head Occupation_Floor layers and tile setters                                                                                                                                                                                                    -1085.3717   1.01e+04     -0.108      0.914   -2.08e+04    1.87e+04\n",
      "Household Head Occupation_Food and beverage tasters and graders                                                                                                                                                                                            -1.413e+04   1.16e+04     -1.216      0.224   -3.69e+04    8639.647\n",
      "Household Head Occupation_Food preservers                                                                                                                                                                                                                   1.468e+04   9033.953      1.625      0.104   -3023.180    3.24e+04\n",
      "Household Head Occupation_Forest tree planters                                                                                                                                                                                                             -5826.3447   7149.307     -0.815      0.415   -1.98e+04    8186.486\n",
      "Household Head Occupation_Foresters and related scientists                                                                                                                                                                                                  -438.5243   1.22e+04     -0.036      0.971   -2.44e+04    2.36e+04\n",
      "Household Head Occupation_Forestry laborers                                                                                                                                                                                                                -5166.1204   2688.585     -1.922      0.055   -1.04e+04     103.578\n",
      "Household Head Occupation_Freight handlers                                                                                                                                                                                                                  2428.6832   1812.499      1.340      0.180   -1123.862    5981.229\n",
      "Household Head Occupation_Fruit tree farmers                                                                                                                                                                                                                -170.7130   1245.340     -0.137      0.891   -2611.612    2270.186\n",
      "Household Head Occupation_Fruit, vegetable and nut processing machine operators                                                                                                                                                                             1838.8754   9031.370      0.204      0.839   -1.59e+04    1.95e+04\n",
      "Household Head Occupation_Garbage collectors                                                                                                                                                                                                                3429.9863   4142.444      0.828      0.408   -4689.314    1.15e+04\n",
      "Household Head Occupation_General elementary education teaching professionals                                                                                                                                                                              -5353.0952   2298.844     -2.329      0.020   -9858.890    -847.300\n",
      "Household Head Occupation_General managers/managing proprietors in agriculture, hunting, forestry and fishing                                                                                                                                                245.1957   1014.225      0.242      0.809   -1742.713    2233.104\n",
      "Household Head Occupation_General managers/managing proprietors in construction                                                                                                                                                                            -1447.0916   2996.769     -0.483      0.629   -7320.838    4426.655\n",
      "Household Head Occupation_General managers/managing proprietors in manufacturing                                                                                                                                                                            2016.2895   1036.395      1.945      0.052     -15.072    4047.651\n",
      "Household Head Occupation_General managers/managing proprietors in personal care, cleaning and relative services                                                                                                                                            1639.6847   2875.676      0.570      0.569   -3996.717    7276.086\n",
      "Household Head Occupation_General managers/managing proprietors in transportation, storage and communications                                                                                                                                               2322.3019    752.039      3.088      0.002     848.286    3796.318\n",
      "Household Head Occupation_General managers/managing proprietors in wholesale and retail trade                                                                                                                                                               2352.9297    723.174      3.254      0.001     935.490    3770.369\n",
      "Household Head Occupation_General managers/managing proprietors n. e. c.                                                                                                                                                                                    2216.5507   2282.469      0.971      0.331   -2257.149    6690.251\n",
      "Household Head Occupation_General managers/managing proprietors of business services                                                                                                                                                                        3577.8684   1157.157      3.092      0.002    1309.810    5845.927\n",
      "Household Head Occupation_General managers/managing proprietors of restaurants and hotels                                                                                                                                                                  -3252.8799   1507.470     -2.158      0.031   -6207.562    -298.198\n",
      "Household Head Occupation_General secondary education teaching professionals                                                                                                                                                                               -1.156e+04   2813.382     -4.110      0.000   -1.71e+04   -6048.938\n",
      "Household Head Occupation_Geodetic engineers and related professionals                                                                                                                                                                                     -4.421e+04   2.01e+04     -2.196      0.028   -8.37e+04   -4753.258\n",
      "Household Head Occupation_Glass makers, cutters, grinders and finishers                                                                                                                                                                                     -404.7832   6778.904     -0.060      0.952   -1.37e+04    1.29e+04\n",
      "Household Head Occupation_Glass, ceramics and related plant operators n. e. c.                                                                                                                                                                              7.761e+04      2e+04      3.871      0.000    3.83e+04    1.17e+05\n",
      "Household Head Occupation_Government administrators (including career executive service officers)                                                                                                                                                           1.173e+04   7291.200      1.609      0.108   -2560.300     2.6e+04\n",
      "Household Head Occupation_Government licensing officials                                                                                                                                                                                                   -1144.7185   1.42e+04     -0.080      0.936    -2.9e+04    2.67e+04\n",
      "Household Head Occupation_Government tax and excise officials                                                                                                                                                                                               6.443e+04   2.03e+04      3.180      0.001    2.47e+04    1.04e+05\n",
      "Household Head Occupation_Grain and spice milling machine operators                                                                                                                                                                                         1821.1373   5494.506      0.331      0.740   -8948.240    1.26e+04\n",
      "Household Head Occupation_Hairdressers, barbers, beauticians and related workers                                                                                                                                                                             538.7286   2051.338      0.263      0.793   -3481.948    4559.405\n",
      "Household Head Occupation_Hand launderers and pressers                                                                                                                                                                                                     -1459.4848   1956.532     -0.746      0.456   -5294.340    2375.370\n",
      "Household Head Occupation_Hand or pedal vehicle drivers                                                                                                                                                                                                    -3987.9967   2686.095     -1.485      0.138   -9252.814    1276.821\n",
      "Household Head Occupation_Hand packers and other manufacturing laborers                                                                                                                                                                                     2266.2935   1669.536      1.357      0.175   -1006.042    5538.629\n",
      "Household Head Occupation_Handicraft workers in wood and related materials                                                                                                                                                                                  -223.1199   5468.423     -0.041      0.967   -1.09e+04    1.05e+04\n",
      "Household Head Occupation_Heavy truck and lorry drivers                                                                                                                                                                                                     2060.3196   1542.746      1.335      0.182    -963.503    5084.143\n",
      "Household Head Occupation_Helpers and cleaners in offices, hotels and other establishments                                                                                                                                                                  -687.2564   1603.678     -0.429      0.668   -3830.507    2455.994\n",
      "Household Head Occupation_Hog raising farmers                                                                                                                                                                                                               4287.5326   1363.596      3.144      0.002    1614.848    6960.217\n",
      "Household Head Occupation_Home-based personal care workers                                                                                                                                                                                                 -9294.5587   5608.364     -1.657      0.097   -2.03e+04    1697.983\n",
      "Household Head Occupation_Housekeepers and related workers                                                                                                                                                                                                  1425.5818   4867.562      0.293      0.770   -8114.969     1.1e+04\n",
      "Household Head Occupation_Hunters and trappers                                                                                                                                                                                                             -7251.7805      2e+04     -0.362      0.717   -4.65e+04     3.2e+04\n",
      "Household Head Occupation_Hunting and trapping laborers                                                                                                                                                                                                    -1489.9730   2.01e+04     -0.074      0.941   -4.08e+04    3.78e+04\n",
      "Household Head Occupation_Incinerator, water treatment and related plant operators                                                                                                                                                                          6495.6860   8277.779      0.785      0.433   -9728.980    2.27e+04\n",
      "Household Head Occupation_Industrial engineers                                                                                                                                                                                                              2.376e+04   2.01e+04      1.184      0.237   -1.56e+04    6.31e+04\n",
      "Household Head Occupation_Industrial robot operators                                                                                                                                                                                                         323.6702   2.01e+04      0.016      0.987    -3.9e+04    3.97e+04\n",
      "Household Head Occupation_Inland and coastal waters fishermen                                                                                                                                                                                               5714.8423    864.181      6.613      0.000    4021.024    7408.661\n",
      "Household Head Occupation_Institution-based personal care workers                                                                                                                                                                                          -1041.8949   2789.441     -0.374      0.709   -6509.274    4425.484\n",
      "Household Head Occupation_Insulation workers                                                                                                                                                                                                               -1.606e+04   2.01e+04     -0.801      0.423   -5.54e+04    2.32e+04\n",
      "Household Head Occupation_Insurance representatives                                                                                                                                                                                                        -8935.3370   8276.093     -1.080      0.280   -2.52e+04    7286.024\n",
      "Household Head Occupation_Jewelry and precious metal workers                                                                                                                                                                                                4239.6510   1.16e+04      0.366      0.715   -1.85e+04     2.7e+04\n",
      "Household Head Occupation_Justices                                                                                                                                                                                                                          7005.8129   2.01e+04      0.349      0.727   -3.23e+04    4.63e+04\n",
      "Household Head Occupation_Labor contractors and employment agents                                                                                                                                                                                          -3.026e+04      2e+04     -1.510      0.131   -6.96e+04    9032.300\n",
      "Household Head Occupation_Lawyers                                                                                                                                                                                                                           9578.3141   1.47e+04      0.650      0.516   -1.93e+04    3.85e+04\n",
      "Household Head Occupation_Legal and related business associate professionals                                                                                                                                                                                3.282e+04   1.19e+04      2.752      0.006    9447.674    5.62e+04\n",
      "Household Head Occupation_Legislative officials                                                                                                                                                                                                             2251.4529   3078.969      0.731      0.465   -3783.409    8286.314\n",
      "Household Head Occupation_Librarians, archivists and curators                                                                                                                                                                                              -2230.7231   2.01e+04     -0.111      0.912   -4.16e+04    3.71e+04\n",
      "Household Head Occupation_Library and filing clerks                                                                                                                                                                                                        -4994.2326   5355.261     -0.933      0.351   -1.55e+04    5502.221\n",
      "Household Head Occupation_Life science technicians                                                                                                                                                                                                          1.122e+04   2.01e+04      0.558      0.577   -2.82e+04    5.06e+04\n",
      "Household Head Occupation_Lifting truck operators                                                                                                                                                                                                           4192.0013   4999.143      0.839      0.402   -5606.452     1.4e+04\n",
      "Household Head Occupation_Lineman, line installers and cable splicers                                                                                                                                                                                       -898.8039   3544.788     -0.254      0.800   -7846.682    6049.074\n",
      "Household Head Occupation_Locomotive engine drivers                                                                                                                                                                                                         6460.4632   2.01e+04      0.322      0.748   -3.29e+04    4.58e+04\n",
      "Household Head Occupation_Machine tool operators                                                                                                                                                                                                           -9813.7454   9033.612     -1.086      0.277   -2.75e+04    7892.373\n",
      "Household Head Occupation_Machine-tool setters and setter operators                                                                                                                                                                                        -1.392e+04   1.16e+04     -1.198      0.231   -3.67e+04    8860.751\n",
      "Household Head Occupation_Mail carriers and sorting clerks                                                                                                                                                                                                 -6098.9576   1.01e+04     -0.605      0.545   -2.59e+04    1.37e+04\n",
      "Household Head Occupation_Marine craft mechanics                                                                                                                                                                                                            6900.7441   1.01e+04      0.684      0.494   -1.29e+04    2.67e+04\n",
      "Household Head Occupation_Market and sidewalk stall vendors                                                                                                                                                                                                 1582.3772   1036.156      1.527      0.127    -448.515    3613.270\n",
      "Household Head Occupation_Masons and related concrete finishers                                                                                                                                                                                              601.2999   1556.603      0.386      0.699   -2449.683    3652.283\n",
      "Household Head Occupation_Meat and fish processing machine operators                                                                                                                                                                                        9884.1374   1.01e+04      0.980      0.327   -9877.584    2.96e+04\n",
      "Household Head Occupation_Mechanical engineering technicians                                                                                                                                                                                                5699.7511   4616.113      1.235      0.217   -3347.953    1.47e+04\n",
      "Household Head Occupation_Mechanical engineers                                                                                                                                                                                                             -1.526e+05   1.43e+04    -10.677      0.000   -1.81e+05   -1.25e+05\n",
      "Household Head Occupation_Mechanical machinery assemblers                                                                                                                                                                                                    515.2426   6447.919      0.080      0.936   -1.21e+04    1.32e+04\n",
      "Household Head Occupation_Medical assistants                                                                                                                                                                                                               -7370.7619   1.01e+04     -0.730      0.465   -2.72e+04    1.24e+04\n",
      "Household Head Occupation_Medical doctors                                                                                                                                                                                                                    223.5880   1.43e+04      0.016      0.988   -2.77e+04    2.82e+04\n",
      "Household Head Occupation_Medical equipment operators                                                                                                                                                                                                      -1.109e+04   1.01e+04     -1.093      0.275    -3.1e+04    8802.042\n",
      "Household Head Occupation_Medical technologists                                                                                                                                                                                                            -9934.6491   1.43e+04     -0.695      0.487    -3.8e+04    1.81e+04\n",
      "Household Head Occupation_Messengers, package and luggage porters and deliverers                                                                                                                                                                             711.6986   1994.317      0.357      0.721   -3197.215    4620.612\n",
      "Household Head Occupation_Metal drawers and extruders                                                                                                                                                                                                       7539.8806   2.01e+04      0.376      0.707   -3.18e+04    4.69e+04\n",
      "Household Head Occupation_Metal finishing, plating and coating machine operators                                                                                                                                                                            4714.1656   8260.470      0.571      0.568   -1.15e+04    2.09e+04\n",
      "Household Head Occupation_Metal melters, caster and rolling mill operators                                                                                                                                                                                 -2402.6712   1.16e+04     -0.207      0.836   -2.52e+04    2.04e+04\n",
      "Household Head Occupation_Metal molders and coremakers                                                                                                                                                                                                     -8236.3530   1.16e+04     -0.709      0.478    -3.1e+04    1.45e+04\n",
      "Household Head Occupation_Metal, rubber and plastic products assemblers                                                                                                                                                                                    -5442.9116   8259.302     -0.659      0.510   -2.16e+04    1.07e+04\n",
      "Household Head Occupation_Metal-wheel grinders, polishers and tool sharpeners                                                                                                                                                                              -2584.3928   2.01e+04     -0.128      0.898   -4.21e+04    3.69e+04\n",
      "Household Head Occupation_Midwifery associate professionals                                                                                                                                                                                                 2641.2179   1.16e+04      0.228      0.820   -2.01e+04    2.54e+04\n",
      "Household Head Occupation_Mineral ore and stone-processing plant operators                                                                                                                                                                                  1.544e+04   2.01e+04      0.770      0.441   -2.39e+04    5.47e+04\n",
      "Household Head Occupation_Miners and quarry workers                                                                                                                                                                                                        -5053.3914   3279.575     -1.541      0.123   -1.15e+04    1374.663\n",
      "Household Head Occupation_Mining and quarrying laborers                                                                                                                                                                                                    -1059.6883   2250.801     -0.471      0.638   -5471.318    3351.941\n",
      "Household Head Occupation_Mining-plant operators                                                                                                                                                                                                            9197.9643   2.01e+04      0.458      0.647   -3.01e+04    4.85e+04\n",
      "Household Head Occupation_Minor forest products gatherers                                                                                                                                                                                                  -4065.1747   2419.987     -1.680      0.093   -8808.413     678.064\n",
      "Household Head Occupation_Motor vehicle mechanics and related trades workers                                                                                                                                                                                4897.2707   1893.679      2.586      0.010    1185.611    8608.931\n",
      "Household Head Occupation_Motorcycle drivers                                                                                                                                                                                                                2682.4717   1475.679      1.818      0.069    -209.898    5574.841\n",
      "Household Head Occupation_Motorized farm and forestry plant operators                                                                                                                                                                                      -3973.2760   5481.136     -0.725      0.469   -1.47e+04    6769.896\n",
      "Household Head Occupation_Musical instrument makers and tuners                                                                                                                                                                                              2785.9882   2.01e+04      0.139      0.890   -3.65e+04    4.21e+04\n",
      "Household Head Occupation_Non-ordained religious associate professionals                                                                                                                                                                                    -281.4526   3238.985     -0.087      0.931   -6629.949    6067.044\n",
      "Household Head Occupation_Nonformal education teaching professionals other than technical and vocational trainors/instructors                                                                                                                              -1624.1583   2.01e+04     -0.081      0.936    -4.1e+04    3.77e+04\n",
      "Household Head Occupation_Nursing associate professionals                                                                                                                                                                                                   3818.2213   2.01e+04      0.190      0.849   -3.56e+04    4.33e+04\n",
      "Household Head Occupation_Nutritionists-dietitians                                                                                                                                                                                                         -4171.1759   2.01e+04     -0.208      0.835   -4.35e+04    3.52e+04\n",
      "Household Head Occupation_Optometrists and opticians                                                                                                                                                                                                       -1.852e+04   2.01e+04     -0.921      0.357    -5.8e+04    2.09e+04\n",
      "Household Head Occupation_Ornamental plant growers                                                                                                                                                                                                          3411.9677   4634.441      0.736      0.462   -5671.659    1.25e+04\n",
      "Household Head Occupation_Other administrative associate professionals                                                                                                                                                                                      7779.6180   6480.388      1.200      0.230   -4922.115    2.05e+04\n",
      "Household Head Occupation_Other animal raisers                                                                                                                                                                                                              4.041e+04   1.42e+04      2.851      0.004    1.26e+04    6.82e+04\n",
      "Household Head Occupation_Other aqua products cultivators                                                                                                                                                                                                   1.336e+04   8977.219      1.488      0.137   -4237.290     3.1e+04\n",
      "Household Head Occupation_Other business professionals                                                                                                                                                                                                      1.493e+04   6821.602      2.189      0.029    1560.538    2.83e+04\n",
      "Household Head Occupation_Other business services and trade brokers                                                                                                                                                                                         1.583e+04   2.01e+04      0.789      0.430   -2.35e+04    5.51e+04\n",
      "Household Head Occupation_Other computer professionals                                                                                                                                                                                                     -1997.8915   7708.244     -0.259      0.795   -1.71e+04    1.31e+04\n",
      "Household Head Occupation_Other creative or performing artists                                                                                                                                                                                             -7597.9349   2.01e+04     -0.379      0.705   -4.69e+04    3.17e+04\n",
      "Household Head Occupation_Other engineers and related professionals                                                                                                                                                                                         -3.81e+04   2.01e+04     -1.896      0.058   -7.75e+04    1288.551\n",
      "Household Head Occupation_Other field crop farmers                                                                                                                                                                                                         -9276.7334   2756.249     -3.366      0.001   -1.47e+04   -3874.412\n",
      "Household Head Occupation_Other finance and sales associate professionals                                                                                                                                                                                   9219.6918   2.01e+04      0.460      0.646   -3.01e+04    4.85e+04\n",
      "Household Head Occupation_Other government associate professionals                                                                                                                                                                                         -7006.7738   8319.758     -0.842      0.400   -2.33e+04    9300.172\n",
      "Household Head Occupation_Other health associate professionals (except nursing)                                                                                                                                                                            -4360.9357   6396.535     -0.682      0.495   -1.69e+04    8176.443\n",
      "Household Head Occupation_Other health professionals (except nursing)                                                                                                                                                                                       1.631e+04   1.42e+04      1.150      0.250   -1.15e+04    4.41e+04\n",
      "Household Head Occupation_Other life science technicians                                                                                                                                                                                                    1.071e+04   5622.284      1.904      0.057    -313.978    2.17e+04\n",
      "Household Head Occupation_Other livestock farmers                                                                                                                                                                                                            676.2768   3215.290      0.210      0.833   -5625.776    6978.330\n",
      "Household Head Occupation_Other machine operators and assemblers                                                                                                                                                                                           -2845.2294   4635.682     -0.614      0.539   -1.19e+04    6240.831\n",
      "Household Head Occupation_Other office clerks                                                                                                                                                                                                               -875.6007   2173.486     -0.403      0.687   -5135.691    3384.490\n",
      "Household Head Occupation_Other orchard farmers                                                                                                                                                                                                            -1287.3093   2916.488     -0.441      0.659   -7003.702    4429.084\n",
      "Household Head Occupation_Other personal services workers, n. e. c.                                                                                                                                                                                         1.049e+04   6424.094      1.633      0.103   -2102.696    2.31e+04\n",
      "Household Head Occupation_Other physical science and engineering technicians                                                                                                                                                                                2808.0089   1.02e+04      0.276      0.783   -1.72e+04    2.28e+04\n",
      "Household Head Occupation_Other plant growers                                                                                                                                                                                                                -16.4187   4520.895     -0.004      0.997   -8877.492    8844.654\n",
      "Household Head Occupation_Other poultry farmers                                                                                                                                                                                                             -274.2336   6068.870     -0.045      0.964   -1.22e+04    1.16e+04\n",
      "Household Head Occupation_Other sales supervisors                                                                                                                                                                                                           -1.61e+04   1.42e+04     -1.132      0.257    -4.4e+04    1.18e+04\n",
      "Household Head Occupation_Other specialized managers                                                                                                                                                                                                       -2.293e+04   2.01e+04     -1.142      0.253   -6.23e+04    1.64e+04\n",
      "Household Head Occupation_Other supervisors, n. e. c.                                                                                                                                                                                                        108.9933   4271.034      0.026      0.980   -8262.347    8480.334\n",
      "Household Head Occupation_Other teaching professionals                                                                                                                                                                                                      5422.9327   1.42e+04      0.381      0.703   -2.24e+04    3.33e+04\n",
      "Household Head Occupation_Painters and related workers                                                                                                                                                                                                      4243.7766   1911.728      2.220      0.026     496.740    7990.813\n",
      "Household Head Occupation_Paper pulp plant operators                                                                                                                                                                                                       -2.317e+04      2e+04     -1.156      0.248   -6.25e+04    1.61e+04\n",
      "Household Head Occupation_Paperboard, textile and related products assemblers                                                                                                                                                                               1.933e+04   1.16e+04      1.664      0.096   -3444.318    4.21e+04\n",
      "Household Head Occupation_Papermaking plant operators                                                                                                                                                                                                        930.8195   9041.098      0.103      0.918   -1.68e+04    1.87e+04\n",
      "Household Head Occupation_Pawnbrokers and money lenders                                                                                                                                                                                                     4323.2037   6387.507      0.677      0.499   -8196.480    1.68e+04\n",
      "Household Head Occupation_Personal care and related workers, n. e. c.                                                                                                                                                                                       1661.7906   2.01e+04      0.083      0.934   -3.76e+04     4.1e+04\n",
      "Household Head Occupation_Personnel and human resource development professionals                                                                                                                                                                            3123.1650   8280.520      0.377      0.706   -1.31e+04    1.94e+04\n",
      "Household Head Occupation_Personnel and industrial relations managers                                                                                                                                                                                      -7909.5411   7789.911     -1.015      0.310   -2.32e+04    7358.892\n",
      "Household Head Occupation_Petroleum and natural gas refining plant operators                                                                                                                                                                                   -1e+04   2.01e+04     -0.499      0.618   -4.93e+04    2.93e+04\n",
      "Household Head Occupation_Pharmaceutical and toiletry products machine operators                                                                                                                                                                            7719.4367   1.01e+04      0.766      0.444    -1.2e+04    2.75e+04\n",
      "Household Head Occupation_Pharmaceutical assistants                                                                                                                                                                                                         2.446e+04   2.01e+04      1.215      0.224    -1.5e+04    6.39e+04\n",
      "Household Head Occupation_Pharmacists                                                                                                                                                                                                                       1.094e+04   9374.728      1.167      0.243   -7436.010    2.93e+04\n",
      "Household Head Occupation_Photographers and image and sound recording equipment operators                                                                                                                                                                     29.7517   7665.923      0.004      0.997    -1.5e+04    1.51e+04\n",
      "Household Head Occupation_Photographic and related workers                                                                                                                                                                                                 -1.136e+04   1.42e+04     -0.800      0.424   -3.92e+04    1.65e+04\n",
      "Household Head Occupation_Photographic products machine operators                                                                                                                                                                                           1.836e+04   1.42e+04      1.293      0.196   -9481.772    4.62e+04\n",
      "Household Head Occupation_Physiotherapists                                                                                                                                                                                                                   4.76e+04   2.01e+04      2.371      0.018    8244.713    8.69e+04\n",
      "Household Head Occupation_Plastic products machine operators                                                                                                                                                                                               -6929.4505   7662.953     -0.904      0.366   -2.19e+04    8090.140\n",
      "Household Head Occupation_Plumbers, pipe fitters and other related workers                                                                                                                                                                                 -1453.7747   2996.660     -0.485      0.628   -7327.307    4419.758\n",
      "Household Head Occupation_Police inspectors and detectives                                                                                                                                                                                                  8065.0733   7255.212      1.112      0.266   -6155.334    2.23e+04\n",
      "Household Head Occupation_Police officers                                                                                                                                                                                                                  -1497.0601   2638.714     -0.567      0.570   -6669.009    3674.889\n",
      "Household Head Occupation_Postal service supervisors                                                                                                                                                                                                         1.05e+04   2.01e+04      0.523      0.601   -2.89e+04    4.99e+04\n",
      "Household Head Occupation_Potters and related clay and abrasive formers                                                                                                                                                                                    -1.337e+04   1.16e+04     -1.150      0.250   -3.61e+04    9411.212\n",
      "Household Head Occupation_Power production plant operators                                                                                                                                                                                                 -1.471e+04   2.01e+04     -0.732      0.464   -5.41e+04    2.47e+04\n",
      "Household Head Occupation_Pre-elementary education teaching professionals                                                                                                                                                                                   1807.7393   9077.081      0.199      0.842    -1.6e+04    1.96e+04\n",
      "Household Head Occupation_Precision instrument makers and repairers                                                                                                                                                                                        -4094.0823   2.01e+04     -0.204      0.838   -4.34e+04    3.52e+04\n",
      "Household Head Occupation_Pressman letterpresses and related workers                                                                                                                                                                                       -5031.6416   6157.694     -0.817      0.414   -1.71e+04    7037.601\n",
      "Household Head Occupation_Prison guards                                                                                                                                                                                                                     -1.56e+04   7792.333     -2.001      0.045   -3.09e+04    -322.688\n",
      "Household Head Occupation_Production and operations managers in agriculture, hunting, forestry and fishery                                                                                                                                                 -2838.5158   5015.664     -0.566      0.571   -1.27e+04    6992.319\n",
      "Household Head Occupation_Production and operations managers in business services                                                                                                                                                                          -1.099e+04   7681.317     -1.431      0.152    -2.6e+04    4061.809\n",
      "Household Head Occupation_Production and operations managers in construction                                                                                                                                                                                2637.2147   1.43e+04      0.185      0.853   -2.53e+04    3.06e+04\n",
      "Household Head Occupation_Production and operations managers in manufacturing                                                                                                                                                                               6536.8418   9019.641      0.725      0.469   -1.11e+04    2.42e+04\n",
      "Household Head Occupation_Production and operations managers in personal care, cleaning and relative services                                                                                                                                               1.724e+04   1.42e+04      1.213      0.225   -1.06e+04    4.51e+04\n",
      "Household Head Occupation_Production and operations managers in restaurant and hotels                                                                                                                                                                      -2094.6134   9041.919     -0.232      0.817   -1.98e+04    1.56e+04\n",
      "Household Head Occupation_Production and operations managers in transport, storage and communications                                                                                                                                                       2.733e+04   1.16e+04      2.357      0.018    4604.140    5.01e+04\n",
      "Household Head Occupation_Production and operations managers in wholesale and retail trade                                                                                                                                                                  9583.8298   7705.860      1.244      0.214   -5519.859    2.47e+04\n",
      "Household Head Occupation_Production clerks                                                                                                                                                                                                                -9795.0917   6157.285     -1.591      0.112   -2.19e+04    2273.351\n",
      "Household Head Occupation_Production supervisors and general foremen                                                                                                                                                                                        3561.3058   2036.320      1.749      0.080    -429.936    7552.548\n",
      "Household Head Occupation_Professional midwives                                                                                                                                                                                                            -2.844e+04   1.17e+04     -2.423      0.015   -5.14e+04   -5433.101\n",
      "Household Head Occupation_Professional nurses                                                                                                                                                                                                               -1.06e+04   4782.900     -2.216      0.027      -2e+04   -1226.165\n",
      "Household Head Occupation_Professional, technical and related officers                                                                                                                                                                                     -7298.7127   1.17e+04     -0.624      0.533   -3.02e+04    1.56e+04\n",
      "Household Head Occupation_Protective services workers n. e. c.                                                                                                                                                                                              1900.3141   1453.350      1.308      0.191    -948.291    4748.919\n",
      "Household Head Occupation_Radio, television and other announcers                                                                                                                                                                                           -2.611e+04   9048.259     -2.886      0.004   -4.38e+04   -8377.577\n",
      "Household Head Occupation_Rattan, bamboo and other wicker furniture makers                                                                                                                                                                                 -5853.6164   6154.223     -0.951      0.342   -1.79e+04    6208.823\n",
      "Household Head Occupation_Receptionists and information clerks                                                                                                                                                                                             -5401.9172   2637.529     -2.048      0.041   -1.06e+04    -232.291\n",
      "Household Head Occupation_Religious professionals                                                                                                                                                                                                           -371.8112   4525.527     -0.082      0.935   -9241.963    8498.341\n",
      "Household Head Occupation_Rice farmers                                                                                                                                                                                                                      1280.2696    603.811      2.120      0.034      96.785    2463.754\n",
      "Household Head Occupation_Riggers and cable splicers                                                                                                                                                                                                       -3.578e+04   2.01e+04     -1.784      0.074   -7.51e+04    3528.318\n",
      "Household Head Occupation_Roofers                                                                                                                                                                                                                           3081.9412   7658.306      0.402      0.687   -1.19e+04    1.81e+04\n",
      "Household Head Occupation_Root crops farmers                                                                                                                                                                                                               -1277.9893   1152.576     -1.109      0.268   -3537.069     981.091\n",
      "Household Head Occupation_Rubber products machine operators                                                                                                                                                                                                 6015.9310   5143.374      1.170      0.242   -4065.218    1.61e+04\n",
      "Household Head Occupation_Safety, health and quality inspectors (vehicles, processes and products)                                                                                                                                                         -1495.2664   4466.797     -0.335      0.738   -1.03e+04    7259.774\n",
      "Household Head Occupation_Sales and marketing managers                                                                                                                                                                                                       649.6317   4118.922      0.158      0.875   -7423.565    8722.829\n",
      "Household Head Occupation_Sales supervisors in retail trade                                                                                                                                                                                                -7454.2211   4755.843     -1.567      0.117   -1.68e+04    1867.357\n",
      "Household Head Occupation_Sales supervisors in wholesale trade                                                                                                                                                                                             -1.227e+04   8267.887     -1.484      0.138   -2.85e+04    3934.840\n",
      "Household Head Occupation_School principals                                                                                                                                                                                                                -2065.9014   6246.916     -0.331      0.741   -1.43e+04    1.02e+04\n",
      "Household Head Occupation_School supervisors and principals                                                                                                                                                                                                 1.068e+04   1.43e+04      0.748      0.454   -1.73e+04    3.86e+04\n",
      "Household Head Occupation_Science and mathematics elementary education teaching professionals                                                                                                                                                              -4.705e+04   1.43e+04     -3.289      0.001   -7.51e+04    -1.9e+04\n",
      "Household Head Occupation_Science and mathematics teaching professionals                                                                                                                                                                                    3669.0070   1.42e+04      0.257      0.797   -2.43e+04    3.16e+04\n",
      "Household Head Occupation_Sculptors, painters and related artists                                                                                                                                                                                          -1.499e+04   9059.362     -1.654      0.098   -3.27e+04    2770.678\n",
      "Household Head Occupation_Seaweeds cultivators                                                                                                                                                                                                              3947.1797   3718.227      1.062      0.288   -3340.644    1.12e+04\n",
      "Household Head Occupation_Secretaries                                                                                                                                                                                                                       4920.4284   3413.546      1.441      0.149   -1770.213    1.16e+04\n",
      "Household Head Occupation_Senior officials of humanitarian and other special-interest organizations                                                                                                                                                        -1.374e+04   1.16e+04     -1.181      0.238   -3.65e+04    9059.264\n",
      "Household Head Occupation_Service and related workers                                                                                                                                                                                                      -6019.2911   1.01e+04     -0.594      0.552   -2.59e+04    1.38e+04\n",
      "Household Head Occupation_Sewers, Embroiderers and related workers                                                                                                                                                                                           847.7182   2570.994      0.330      0.742   -4191.497    5886.934\n",
      "Household Head Occupation_Sewing machine operators                                                                                                                                                                                                          6386.5162   1.42e+04      0.449      0.653   -2.15e+04    3.42e+04\n",
      "Household Head Occupation_Sheet-metal workers                                                                                                                                                                                                               5953.0282   5482.413      1.086      0.278   -4792.647    1.67e+04\n",
      "Household Head Occupation_Ship and aircraft controllers and technicians                                                                                                                                                                                    -2.281e+04   1.16e+04     -1.959      0.050   -4.56e+04      12.659\n",
      "Household Head Occupation_Ship's deck crews and related workers                                                                                                                                                                                            -1.071e+04   4626.366     -2.315      0.021   -1.98e+04   -1641.558\n",
      "Household Head Occupation_Ships' deck officers and pilots                                                                                                                                                                                                  -2562.1069   1.17e+04     -0.219      0.827   -2.55e+04    2.04e+04\n",
      "Household Head Occupation_Shoe cleaning and other street services elementary occupations                                                                                                                                                                   -2753.6840   5592.643     -0.492      0.622   -1.37e+04    8208.044\n",
      "Household Head Occupation_Shoemakers and related workers                                                                                                                                                                                                    7587.5744   5884.606      1.289      0.197   -3946.409    1.91e+04\n",
      "Household Head Occupation_Shoemaking and related machine operators                                                                                                                                                                                          5.088e+04   2.01e+04      2.533      0.011    1.15e+04    9.02e+04\n",
      "Household Head Occupation_Shop salespersons and demonstrators                                                                                                                                                                                                766.9286   1456.612      0.527      0.599   -2088.069    3621.926\n",
      "Household Head Occupation_Shotfirers and blasters                                                                                                                                                                                                          -1.168e+04   2.01e+04     -0.582      0.561    -5.1e+04    2.77e+04\n",
      "Household Head Occupation_Silk-screen, block and textile printers                                                                                                                                                                                           5871.1126   9030.689      0.650      0.516   -1.18e+04    2.36e+04\n",
      "Household Head Occupation_Social work associate professionals                                                                                                                                                                                              -1256.1202   2795.592     -0.449      0.653   -6735.555    4223.315\n",
      "Household Head Occupation_Social work professionals                                                                                                                                                                                                        -4291.5231   1.26e+04     -0.340      0.734    -2.9e+04    2.04e+04\n",
      "Household Head Occupation_Staff officers                                                                                                                                                                                                                   -5218.6126   7198.838     -0.725      0.469   -1.93e+04    8891.301\n",
      "Household Head Occupation_Stall and market salespersons                                                                                                                                                                                                    -1017.6748   1984.771     -0.513      0.608   -4907.879    2872.529\n",
      "Household Head Occupation_Statistical and finance clerks                                                                                                                                                                                                    5046.4968   7814.192      0.646      0.518   -1.03e+04    2.04e+04\n",
      "Household Head Occupation_Statistical, mathematical and related associate professionals                                                                                                                                                                    -3730.3524   7763.282     -0.481      0.631   -1.89e+04    1.15e+04\n",
      "Household Head Occupation_Statisticians                                                                                                                                                                                                                     -162.0737   2.01e+04     -0.008      0.994   -3.95e+04    3.92e+04\n",
      "Household Head Occupation_Stenographers and typists                                                                                                                                                                                                         2058.4630   1.19e+04      0.173      0.863   -2.13e+04    2.54e+04\n",
      "Household Head Occupation_Stocks clerks                                                                                                                                                                                                                    -2118.3156   2756.291     -0.769      0.442   -7520.718    3284.087\n",
      "Household Head Occupation_Stone splitters, cutters and carvers                                                                                                                                                                                             -3300.2192   7663.361     -0.431      0.667   -1.83e+04    1.17e+04\n",
      "Household Head Occupation_Street ambulant vendors                                                                                                                                                                                                           2482.2457   1374.239      1.806      0.071    -211.299    5175.790\n",
      "Household Head Occupation_Street, nightclub and related musicians, singers and dancers                                                                                                                                                                      2297.3498   7641.925      0.301      0.764   -1.27e+04    1.73e+04\n",
      "Household Head Occupation_Structural-metal preparers, erectors and related workers                                                                                                                                                                           844.6636   3967.953      0.213      0.831   -6932.629    8621.956\n",
      "Household Head Occupation_Sugar production machine operators                                                                                                                                                                                               -8981.5159   7179.704     -1.251      0.211   -2.31e+04    5090.895\n",
      "Household Head Occupation_Sugarcane farmers                                                                                                                                                                                                                 1338.6486   3367.917      0.397      0.691   -5262.559    7939.856\n",
      "Household Head Occupation_Supply and distribution managers                                                                                                                                                                                                 -5353.1315   1.42e+04     -0.376      0.707   -3.33e+04    2.25e+04\n",
      "Household Head Occupation_Sweepers and related laborers                                                                                                                                                                                                    -2024.4013   2980.096     -0.679      0.497   -7865.468    3816.666\n",
      "Household Head Occupation_Systems analysts and designers                                                                                                                                                                                                    -913.9183   1.01e+04     -0.090      0.928   -2.07e+04    1.89e+04\n",
      "Household Head Occupation_Tailors, dressmakers and hatters                                                                                                                                                                                                 -1574.3074   2233.284     -0.705      0.481   -5951.603    2802.988\n",
      "Household Head Occupation_Tanners                                                                                                                                                                                                                           4559.6220      2e+04      0.227      0.820   -3.47e+04    4.39e+04\n",
      "Household Head Occupation_Teaching associate professionals                                                                                                                                                                                                  1552.7397   4341.681      0.358      0.721   -6957.069    1.01e+04\n",
      "Household Head Occupation_Technical and commercial sales representatives                                                                                                                                                                                   -1390.3084   7667.823     -0.181      0.856   -1.64e+04    1.36e+04\n",
      "Household Head Occupation_Technical and vocational instructors/trainors                                                                                                                                                                                     2454.7219   1.42e+04      0.172      0.863   -2.54e+04    3.04e+04\n",
      "Household Head Occupation_Technician, skilled, semi-skilled workers                                                                                                                                                                                        -2.415e+04   2.01e+04     -1.203      0.229   -6.35e+04    1.52e+04\n",
      "Household Head Occupation_Telecommunication equipment installers and repairers                                                                                                                                                                              5425.4156   9039.256      0.600      0.548   -1.23e+04    2.31e+04\n",
      "Household Head Occupation_Telephone switchboard operators                                                                                                                                                                                                   6.706e+04      2e+04      3.347      0.001    2.78e+04    1.06e+05\n",
      "Household Head Occupation_Tellers and other counter clerks                                                                                                                                                                                                  2327.8308   6861.765      0.339      0.734   -1.11e+04    1.58e+04\n",
      "Household Head Occupation_Textile and leather products machine operators n. e. c.                                                                                                                                                                           1.214e+04      2e+04      0.605      0.545   -2.72e+04    5.14e+04\n",
      "Household Head Occupation_Textile, leather and related patternmakers and cutters                                                                                                                                                                           -1.243e+04   7661.560     -1.622      0.105   -2.74e+04    2591.168\n",
      "Household Head Occupation_Tobacco preparers and tobacco products makers                                                                                                                                                                                    -2.445e+04   1.42e+04     -1.717      0.086   -5.23e+04    3452.785\n",
      "Household Head Occupation_Tool-makers and related workers                                                                                                                                                                                                  -9523.9286   1.42e+04     -0.672      0.502   -3.73e+04    1.83e+04\n",
      "Household Head Occupation_Town planners and related professionals                                                                                                                                                                                           1385.6359   1.42e+04      0.097      0.922   -2.65e+04    2.93e+04\n",
      "Household Head Occupation_Trade brokers                                                                                                                                                                                                                     2.288e+04   1.16e+04      1.973      0.048     152.403    4.56e+04\n",
      "Household Head Occupation_Traditional chiefs and heads of villages                                                                                                                                                                                         -1862.9201   1715.013     -1.086      0.277   -5224.391    1498.551\n",
      "Household Head Occupation_Traditional medicine practitioners                                                                                                                                                                                               -8981.3809   5390.561     -1.666      0.096   -1.95e+04    1584.261\n",
      "Household Head Occupation_Transport and communications service supervisors n. e. c.                                                                                                                                                                         3792.6843   7665.725      0.495      0.621   -1.12e+04    1.88e+04\n",
      "Household Head Occupation_Transport clerks                                                                                                                                                                                                                  -745.7381   4255.812     -0.175      0.861   -9087.243    7595.766\n",
      "Household Head Occupation_Transport conductors                                                                                                                                                                                                               262.7365   3587.889      0.073      0.942   -6769.621    7295.094\n",
      "Household Head Occupation_Travel consultants and organizers                                                                                                                                                                                                -1.734e+04   1.21e+04     -1.430      0.153   -4.11e+04    6424.143\n",
      "Household Head Occupation_Travel guides                                                                                                                                                                                                                      1.13e+04   1.16e+04      0.972      0.331   -1.15e+04    3.41e+04\n",
      "Household Head Occupation_Tree nut farmers                                                                                                                                                                                                                 -7607.2977   1.42e+04     -0.537      0.592   -3.54e+04    2.02e+04\n",
      "Household Head Occupation_Undertakers and embalmers                                                                                                                                                                                                         7730.4239   5144.657      1.503      0.133   -2353.240    1.78e+04\n",
      "Household Head Occupation_Upholsterers and related workers                                                                                                                                                                                                 -1.612e+04   2.01e+04     -0.804      0.422   -5.54e+04    2.32e+04\n",
      "Household Head Occupation_Varnishers and related painters                                                                                                                                                                                                  -1442.9830   4032.492     -0.358      0.720   -9346.774    6460.808\n",
      "Household Head Occupation_Vegetable farmers                                                                                                                                                                                                                -1074.8751   1054.596     -1.019      0.308   -3141.911     992.161\n",
      "Household Head Occupation_Vehicle, window and related cleaners                                                                                                                                                                                             -9319.8848   2.01e+04     -0.465      0.642   -4.86e+04       3e+04\n",
      "Household Head Occupation_Veterinarians                                                                                                                                                                                                                      2.98e+04   2.01e+04      1.485      0.138   -9544.067    6.92e+04\n",
      "Household Head Occupation_Veterinary assistants                                                                                                                                                                                                              5.77e+04      2e+04      2.878      0.004    1.84e+04     9.7e+04\n",
      "Household Head Occupation_Vocational education teaching professionals                                                                                                                                                                                      -9864.3141   1.05e+04     -0.943      0.346   -3.04e+04    1.06e+04\n",
      "Household Head Occupation_Waiters, waitresses and bartenders                                                                                                                                                                                               -1982.5218   2182.009     -0.909      0.364   -6259.318    2294.274\n",
      "Household Head Occupation_Weavers, knitters and related workers                                                                                                                                                                                             2020.9572   4856.117      0.416      0.677   -7497.160    1.15e+04\n",
      "Household Head Occupation_Weaving and knitting machine operators                                                                                                                                                                                            1.161e+04   1.01e+04      1.152      0.249   -8143.456    3.14e+04\n",
      "Household Head Occupation_Welders and flamecutters                                                                                                                                                                                                          1571.5706   1875.701      0.838      0.402   -2104.852    5247.993\n",
      "Household Head Occupation_Well drillers and borers and related workers                                                                                                                                                                                     -1.258e+04   1.16e+04     -1.083      0.279   -3.54e+04    1.02e+04\n",
      "Household Head Occupation_Wood and related products assemblers                                                                                                                                                                                              1.626e+04   6447.510      2.521      0.012    3617.815    2.89e+04\n",
      "Household Head Occupation_Wood processing plant operators                                                                                                                                                                                                  -1284.2484   4746.588     -0.271      0.787   -1.06e+04    8019.189\n",
      "Household Head Occupation_Wood products machine operators                                                                                                                                                                                                  -5609.5598   4857.077     -1.155      0.248   -1.51e+04    3910.441\n",
      "Household Head Occupation_Wood treaters                                                                                                                                                                                                                    -8343.3720   2.01e+04     -0.416      0.677   -4.76e+04     3.1e+04\n",
      "Household Head Occupation_Woodworking machine setters and setter-operators                                                                                                                                                                                  5315.0506   1.16e+04      0.457      0.647   -1.75e+04    2.81e+04\n",
      "Household Head Occupation_Word processor and related operators                                                                                                                                                                                              6739.1616   1.42e+04      0.473      0.636   -2.12e+04    3.46e+04\n",
      "Household Head Occupation_Workers reporting occupations unidentifiable or inadequately defined                                                                                                                                                              -420.5796   3763.740     -0.112      0.911   -7797.609    6956.450\n",
      "Household Head Class of Worker_Self-employed wihout any employee                                                                                                                                                                                           -1837.6438    502.496     -3.657      0.000   -2822.549    -852.738\n",
      "Household Head Class of Worker_Worked for government/government corporation                                                                                                                                                                                  238.2567   1345.774      0.177      0.859   -2399.496    2876.010\n",
      "Household Head Class of Worker_Worked for private establishment                                                                                                                                                                                              576.8413   1165.934      0.495      0.621   -1708.420    2862.102\n",
      "Household Head Class of Worker_Worked for private household                                                                                                                                                                                                 -313.2868   1662.606     -0.188      0.851   -3572.038    2945.465\n",
      "Household Head Class of Worker_Worked with pay in own family-operated farm or business                                                                                                                                                                      -522.2005   5974.204     -0.087      0.930   -1.22e+04    1.12e+04\n",
      "Household Head Class of Worker_Worked without pay in own family-operated farm or business                                                                                                                                                                    246.8999   1708.314      0.145      0.885   -3101.440    3595.240\n",
      "Type of Household_Single Family                                                                                                                                                                                                                            -2309.7362    262.245     -8.808      0.000   -2823.742   -1795.730\n",
      "Type of Household_Two or More Nonrelated Persons/Members                                                                                                                                                                                                     -39.3477   1680.572     -0.023      0.981   -3333.312    3254.617\n",
      "==============================================================================\n",
      "Omnibus:                    28184.891   Durbin-Watson:                   1.600\n",
      "Prob(Omnibus):                  0.000   Jarque-Bera (JB):          7361767.172\n",
      "Skew:                           2.506   Prob(JB):                         0.00\n",
      "Kurtosis:                      70.652   Cond. No.                     5.56e+07\n",
      "==============================================================================\n",
      "\n",
      "Notes:\n",
      "[1] Standard Errors assume that the covariance matrix of the errors is correctly specified.\n",
      "[2] The condition number is large, 5.56e+07. This might indicate that there are\n",
      "strong multicollinearity or other numerical problems.\n"
     ]
    }
   ],
   "source": [
    "df_regression = pd.get_dummies(data= df, drop_first=True)\n",
    "Y = df_regression[['Total Food Expenditure']]\n",
    "X = df_regression.drop(columns = 'Total Food Expenditure')\n",
    "X = sm.add_constant(X)\n",
    "model = sm.OLS(Y, X)\n",
    "results = model.fit()  \n",
    "print(results.summary())  "
   ]
  },
  {
   "cell_type": "markdown",
   "metadata": {},
   "source": [
    "#### Данная модель со всеми предикторами рассматривает 75.3% (иправленный R-квадрат) дисперсии зависимой переменной (затраты семьи на еду)"
   ]
  }
 ],
 "metadata": {
  "kernelspec": {
   "display_name": "Python 3",
   "language": "python",
   "name": "python3"
  },
  "language_info": {
   "codemirror_mode": {
    "name": "ipython",
    "version": 3
   },
   "file_extension": ".py",
   "mimetype": "text/x-python",
   "name": "python",
   "nbconvert_exporter": "python",
   "pygments_lexer": "ipython3",
   "version": "3.7.3"
  }
 },
 "nbformat": 4,
 "nbformat_minor": 4
}
